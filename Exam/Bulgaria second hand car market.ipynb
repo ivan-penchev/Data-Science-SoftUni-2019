{
 "cells": [
  {
   "cell_type": "markdown",
   "metadata": {},
   "source": [
    "<center> \n",
    "    <h1> Secondary market for cars in Bulgaria </h1>\n",
    "    <h3>Ivan Svilenov Penchev</h3>\n",
    "</center>\n",
    "\n",
    "\n",
    "\n"
   ]
  },
  {
   "cell_type": "markdown",
   "metadata": {},
   "source": [
    "<center> <h4> Synopsis </h4></center>\n",
    "The author collected data for the period of one month from a popular Bulgarian used car market portal. Analysed it using various  methods and tried to determine: 1) what is the current state of the second hand car market in Bulgaria and 2) are cars bought in the second hand car market more fuel cost friendly."
   ]
  },
  {
   "cell_type": "markdown",
   "metadata": {},
   "source": [
    "---"
   ]
  },
  {
   "cell_type": "markdown",
   "metadata": {},
   "source": [
    "### Introduction\n",
    "\n",
    "Cars and the Bulgarian mentality have always been an interesting mix. While, worldwide, countries are obbying for the use of new cars which are more energy efficient, Bulgaria's favorite choice for cars seems to be the secondary market. \n",
    "\n",
    "> Only for the last year the number of bought and registered new cars was 26 000, while the imported used cars from the EU was 266 000. [1]\n",
    "\n",
    "This of course was the case for 2017, if we compare it to Q1 of 2019 we see an improvement by 29% [2] The number seems substantial, however it is not when we compare the rate of vehicles per capita.\n",
    "\n",
    "\n",
    "Make a long story short the 9th poorest country in Europe by GDP per capita in international dollars prefers to buy more used cars than new ones.\n",
    "\n",
    "\n",
    "<div style='float: center'>\n",
    "  <img style='width: 200px' src=\"./images/01.png\"></img>\n",
    "</div>\n",
    "\n",
    "This in itself, while it contributes to the expansion of the biggest in human's  history, environmental crisis, is not something disturbing. Notwithstanding, when the lowest among goods markets in three consecutive years, which it also registered the worst performance of all goods markets on problems experienced by consumers and on comparability[3] is the country's first choice for a market a further analysis and monitoring of said market is needed. \n",
    "\n",
    "Based on the above mentioned, we compose the two leading areas of interest of this paper:\n",
    "1. What is the current state of the second hand car market in Bulgaria?\n",
    "2. Are cars bought in the second hand car market more fuel cost friendly? "
   ]
  },
  {
   "cell_type": "markdown",
   "metadata": {},
   "source": [
    "### Data acquisition \n",
    "A cornerstone of science is the possibility to critically assess the correctness of the scientific claims  made and conclusions drawn by other scientists.\n",
    "\n",
    "In order for this to be possible a systematic approach to and precise description of experimental procedure and subsequent data analysis is needed.\n",
    "\n",
    "One the first thing we do for enabling reproducibility of results for further analysis and validation by other scientistsis describing how we acquired our data.\n",
    "\n",
    "For this paper the primary source of information was the website cars.bg, where a webscraping approach was used, this approach is visually described in the picture bellow, while the full code is included in [in this folder](./webscapper_cars.bg).\n",
    "\n",
    "<div style='float: center'>\n",
    "  <img src=\"./images/02.png\"></img>\n",
    "</div>\n",
    "\n",
    "The data we receive is not 100% clean and further work on it will be needed."
   ]
  },
  {
   "cell_type": "code",
   "execution_count": null,
   "metadata": {},
   "outputs": [],
   "source": [
    "%matplotlib inline\n",
    "import pandas as pd\n",
    "import numpy as np\n",
    "import matplotlib.pyplot as plt\n",
    "import matplotlib.image as mpimg\n",
    "import math\n",
    "from enum import Enum\n",
    "import datetime\n",
    "import re\n",
    "from plotnine import *\n",
    "import seaborn as sns\n",
    "from imblearn.over_sampling import SMOTE\n",
    "from sklearn.feature_selection import RFE\n",
    "from sklearn.linear_model import LogisticRegression\n",
    "from sklearn.model_selection import train_test_split\n",
    "from sklearn.metrics import confusion_matrix\n",
    "from sklearn.metrics import classification_report\n",
    "from sklearn.metrics import roc_auc_score\n",
    "from sklearn.metrics import roc_curve\n",
    "from scipy.stats import ttest_ind\n",
    "import nose.tools\n",
    "\n",
    "pd.set_option('display.max_rows', 100)\n",
    "pd.set_option('display.max_columns', 50)"
   ]
  },
  {
   "cell_type": "code",
   "execution_count": null,
   "metadata": {},
   "outputs": [],
   "source": [
    "initial_car_df_from_cars_bg = pd.read_json('./data/json_data.txt', 'r', encoding='utf-8-sig')"
   ]
  },
  {
   "cell_type": "code",
   "execution_count": null,
   "metadata": {},
   "outputs": [],
   "source": [
    "nose.tools.assert_is_not_none(initial_car_df_from_cars_bg)\n",
    "nose.tools.assert_equal(initial_car_df_from_cars_bg.shape, (87900, 6))"
   ]
  },
  {
   "cell_type": "code",
   "execution_count": null,
   "metadata": {},
   "outputs": [],
   "source": [
    "initial_car_df_from_cars_bg = initial_car_df_from_cars_bg.drop(\"py/object\", axis=1)\n",
    "initial_car_df_from_cars_bg.rename(\n",
    "    columns={\n",
    "        \"_car_data\": \"car_data\",\n",
    "        \"_car_extra_data\": \"car_extra_data\",\n",
    "        \"_name\": \"name\",\n",
    "        \"_price\": \"price\",\n",
    "        \"_id\": \"id\"\n",
    "    },\n",
    "    inplace=True\n",
    ")\n"
   ]
  },
  {
   "cell_type": "code",
   "execution_count": null,
   "metadata": {},
   "outputs": [],
   "source": [
    "nose.tools.assert_equal(initial_car_df_from_cars_bg.shape, (87900, 5))"
   ]
  },
  {
   "cell_type": "code",
   "execution_count": null,
   "metadata": {},
   "outputs": [],
   "source": [
    "class Month(Enum):\n",
    "    Декември = 12\n",
    "    Ноември = 11\n",
    "    Октомври = 10\n",
    "    Септември = 9\n",
    "    Август = 8\n",
    "    Юли = 7\n",
    "    Юни = 6\n",
    "    Май = 5\n",
    "    Април = 4\n",
    "    Март = 3\n",
    "    Февруари = 2\n",
    "    Януари = 1\n",
    "\n",
    "initial_car_df_car_data = pd.io.json.json_normalize(initial_car_df_from_cars_bg['car_data'].values)\n",
    "\n",
    "def car_data_cleaning_data(chars, varName):\n",
    "    if type(chars) is str and varName=='Брой врати':\n",
    "        return chars.split('/')[0]\n",
    "    if type(chars) is str and varName=='Пробег':\n",
    "        return int(chars.split(' ')[0].replace(\",\", \"\"))\n",
    "    if type(chars) is str and varName=='Кубатура':\n",
    "        return int(chars.split(' ')[0].replace(\",\", \"\"))\n",
    "    if type(chars) is str and varName=='Мощност':\n",
    "        return int(chars.split(' ')[0].replace(\",\", \"\"))\n",
    "    if type(chars) is str and varName=='Година':\n",
    "        month = Month[chars.split(' ')[0]]\n",
    "        year = int(chars.split(' ')[1])\n",
    "        return datetime.datetime(year, month.value, 1)\n",
    "\n",
    "\n",
    "initial_car_df_car_data['Брой врати'] = initial_car_df_car_data.apply(lambda row: car_data_cleaning_data(row['Брой врати'],'Брой врати'), axis=1)\n",
    "initial_car_df_car_data['Пробег'] = initial_car_df_car_data.apply(lambda row: car_data_cleaning_data(row['Пробег'],'Пробег'), axis=1)\n",
    "initial_car_df_car_data['Пробег'] = initial_car_df_car_data['Пробег'].fillna(0)\n",
    "initial_car_df_car_data['Пробег'] = initial_car_df_car_data['Пробег'].astype(int)\n",
    "\n",
    "initial_car_df_car_data['Кубатура'] = initial_car_df_car_data.apply(lambda row: car_data_cleaning_data(row['Кубатура'],'Кубатура'), axis=1)\n",
    "initial_car_df_car_data['Кубатура'] = initial_car_df_car_data['Кубатура'].fillna(0)\n",
    "initial_car_df_car_data['Кубатура'] = initial_car_df_car_data['Кубатура'].astype(int)\n",
    "\n",
    "initial_car_df_car_data['Мощност'] = initial_car_df_car_data.apply(lambda row: car_data_cleaning_data(row['Мощност'],'Мощност'), axis=1)\n",
    "initial_car_df_car_data['Мощност'] = initial_car_df_car_data['Мощност'].fillna(0)\n",
    "initial_car_df_car_data['Мощност'] = initial_car_df_car_data['Мощност'].astype(int)\n",
    "\n",
    "initial_car_df_car_data['Година'] = initial_car_df_car_data.apply(lambda row: car_data_cleaning_data(row['Година'],'Година'), axis=1)\n",
    "\n",
    "initial_car_df_car_data.head(4)"
   ]
  },
  {
   "cell_type": "code",
   "execution_count": null,
   "metadata": {},
   "outputs": [],
   "source": [
    "nose.tools.assert_equal(car_data_cleaning_data('4/5 врати', 'Брой врати'), '4')\n",
    "nose.tools.assert_equal(car_data_cleaning_data('148,291 км', 'Пробег'), 148291)\n",
    "nose.tools.assert_equal(car_data_cleaning_data('140 к.с', 'Мощност'), 140)\n",
    "nose.tools.assert_equal(car_data_cleaning_data('Декември 2010', 'Година'), datetime.datetime(2010, 12, 1, 0, 0))"
   ]
  },
  {
   "cell_type": "code",
   "execution_count": null,
   "metadata": {},
   "outputs": [],
   "source": [
    "initial_car_df_from_cars_bg = pd.concat([initial_car_df_from_cars_bg, initial_car_df_car_data], axis=1, sort=False)\n",
    "initial_car_df_from_cars_bg = initial_car_df_from_cars_bg.drop(['car_data'], axis=1)\n",
    "initial_car_df_from_cars_bg.head(3)"
   ]
  },
  {
   "cell_type": "code",
   "execution_count": null,
   "metadata": {},
   "outputs": [],
   "source": [
    "nose.tools.assert_equal(initial_car_df_from_cars_bg.shape[1], 12)"
   ]
  },
  {
   "cell_type": "code",
   "execution_count": null,
   "metadata": {},
   "outputs": [],
   "source": [
    "all_car_brands_df = pd.read_csv('./data/car_brands.csv', header=None, usecols=[0,2])\n",
    "all_car_brands_df.columns = ['brand_name','region']\n",
    "all_car_brands_df.head()\n",
    "\n",
    "def findCarBrand(c):\n",
    "    if type(c) is str:\n",
    "        first = c.split(' ')\n",
    "        try:\n",
    "            brand_row = all_car_brands_df[all_car_brands_df.brand_name==first[0].replace('-','').replace(' ','')]\n",
    "            valToReturn = brand_row.brand_name.item()\n",
    "            return valToReturn\n",
    "        except ValueError:\n",
    "            try:\n",
    "                brand_row = all_car_brands_df[all_car_brands_df.brand_name==first[0].strip()+first[1].strip()]\n",
    "                valToReturn = brand_row.brand_name.item()\n",
    "                return valToReturn\n",
    "            except ValueError:\n",
    "                return pd.np.NaN\n",
    "        \n",
    "\n",
    "initial_car_df_from_cars_bg['car_brand'] = initial_car_df_from_cars_bg.apply(lambda row: findCarBrand(row['name']), axis=1)\n"
   ]
  },
  {
   "cell_type": "code",
   "execution_count": null,
   "metadata": {},
   "outputs": [],
   "source": [
    "def isSold(r):\n",
    "    httpCon = HttpConnection()\n",
    "    url = 'https://www.cars.bg/offer/'+r\n",
    "    r = httpCon.requestSession.get(url)\n",
    "    if r.headers.get('Set-Cookie') is None:\n",
    "        print(\"id \" + url + ' is SOLD')\n",
    "        return True\n",
    "    else:\n",
    "        print(\"id \" + url + ' NOT SOLD')\n",
    "        return False\n",
    "    \n",
    "#Sync call, takes forever to finish, Python paralel HOW?!? \n",
    "#initial_car_df_from_cars_bg[\"sold\"] = initial_car_df_from_cars_bg['id'].apply(lambda row: isSold(row))\n",
    "# with open('car_data_with_brand_and_sold_status.json', 'w', encoding='utf-8') as file:\n",
    "#      df.to_json(file, force_ascii=False, date_format=\"iso\")\n",
    "print(\"Can't put your memes in code cell since they are images?\")\n",
    "image = mpimg.imread(\"images/03.png\")\n",
    "plt.imshow(image)\n",
    "plt.title(\"Python and parallel HTTP requests\")\n",
    "plt.axis('off')\n",
    "plt.show()\n",
    "image = mpimg.imread(\"images/04.jpg\")\n",
    "plt.imshow(image)\n",
    "plt.axis('off')\n",
    "plt.title(\"me trying import asyncio and using event_loop()\")\n",
    "plt.show()\n",
    "\n"
   ]
  },
  {
   "cell_type": "code",
   "execution_count": null,
   "metadata": {},
   "outputs": [],
   "source": [
    "initial_car_df_from_cars_bg = pd.read_json('data/car_data_with_brand_and_sold_status.json', 'r', encoding='utf-8-sig')\n",
    "initial_car_df_from_cars_bg['Година'] = pd.to_datetime(initial_car_df_from_cars_bg['Година'])\n",
    "initial_car_df_from_cars_bg['Брой врати'] = initial_car_df_from_cars_bg['Брой врати'].fillna(0)\n",
    "initial_car_df_from_cars_bg['Брой врати'] = initial_car_df_from_cars_bg['Брой врати'].astype(int)\n",
    "df_car_models = pd.read_csv('Data/car_brands_and_models.csv', header=None, usecols=[1,2])\n",
    "df_car_models.columns = ['brand_name', 'model_name']\n",
    "\n",
    "def matchCarOfferNameWithCarModel(name, brand):\n",
    "    name = name\n",
    "    brandName= brand\n",
    "    all_models_list = df_car_models[df_car_models['brand_name'].str.contains(brandName)].model_name.to_list()\n",
    "    bestMatchModel = ''\n",
    "    for model in all_models_list:\n",
    "        for match in re.finditer(model, name):\n",
    "            s = match.start()\n",
    "            e = match.end()\n",
    "            lenght = e-s\n",
    "            if lenght > len(bestMatchModel):\n",
    "                bestMatchModel=model\n",
    "    return pd.np.NaN if len(bestMatchModel)==0 else bestMatchModel\n",
    "initial_car_df_from_cars_bg['car_model'] = initial_car_df_from_cars_bg[initial_car_df_from_cars_bg['car_brand'].isna()==False].apply(lambda row: matchCarOfferNameWithCarModel(row['name'], row['car_brand']), axis=1)\n",
    "\n"
   ]
  },
  {
   "cell_type": "code",
   "execution_count": null,
   "metadata": {},
   "outputs": [],
   "source": [
    "initial_car_df_car_extra_data = pd.io.json.json_normalize(initial_car_df_from_cars_bg['car_extra_data'].values)\n",
    "all_posibile_dummy_variable_names = {}\n",
    "def saveDummyVariableToDictionary(resultList, categoryResultComesFrom, dictionaryToSaveTo):\n",
    "    for result in resultList:\n",
    "        if categoryResultComesFrom.lower()+\"_\"+result.lower().replace(\".\", \" \").replace(\"  \", \" \").replace(\" \", \"_\") not in dictionaryToSaveTo:\n",
    "             dictionaryToSaveTo[categoryResultComesFrom.lower()+\"_\"+result.lower().replace(\".\", \" \").replace(\"  \", \" \").replace(\" \", \"_\")]=categoryResultComesFrom.lower()+\"_\"+result.lower().replace(\".\", \" \").replace(\"  \", \" \").replace(\" \", \"_\")\n",
    "        \n",
    "def findAllPossibleDummyVariables(row):\n",
    "    if type(row['Друго']) is str:\n",
    "        if len(row['Друго'])>0:\n",
    "            resultOther = [x.strip() for x in row['Друго'].split(',')]\n",
    "            saveDummyVariableToDictionary(resultOther, 'Друго',all_posibile_dummy_variable_names)\n",
    "    if type(row['Комфорт']) is str:        \n",
    "        if len(row['Комфорт'])>0:\n",
    "            resultComfort = [x.strip() for x in row['Комфорт'].split(',')]\n",
    "            saveDummyVariableToDictionary(resultComfort, 'Комфорт',all_posibile_dummy_variable_names)\n",
    "    if type(row['Сигурност']) is str:        \n",
    "        if len(row['Сигурност'])>0:\n",
    "            resultSecurity = [x.strip() for x in row['Сигурност'].split(',')]  \n",
    "            saveDummyVariableToDictionary(resultSecurity, 'Сигурност',all_posibile_dummy_variable_names)\n",
    "    \n",
    "initial_car_df_car_extra_data.apply(lambda row: findAllPossibleDummyVariables(row), axis=1)\n",
    "print(\"apply returns a series, which Jupyter displays, this is here to hide it\")"
   ]
  },
  {
   "cell_type": "code",
   "execution_count": null,
   "metadata": {},
   "outputs": [],
   "source": [
    "\n",
    "def setKeyForIndexTo(dataframe, index, key, value):\n",
    "    dataframe.at[index,key] = value\n",
    "    \n",
    "def populateDummyVariablesForDataFrame(dataframe, dictionaryDummyVariables):\n",
    "    for key in dictionaryDummyVariables.keys():\n",
    "        dataframe[key] = False\n",
    "    \n",
    "    for i, row in dataframe.iterrows():\n",
    "        keyToSetForThisRow = []\n",
    "        if type(row['Друго']) is str and type(row['Друго']) is not float:\n",
    "            if len(row['Друго'])>0:\n",
    "                resultOther = [x.strip() for x in row['Друго'].split(',')]\n",
    "                for result in resultOther:\n",
    "                    key = \"друго\"+\"_\"+result.lower().replace(\".\", \" \").replace(\"  \", \" \").replace(\" \", \"_\")\n",
    "                    keyToSetForThisRow.append(key)\n",
    "        if type(row['Комфорт']) is str and type(row['Комфорт']) is not float:\n",
    "            if len(row['Комфорт'])>0:\n",
    "                resultComfort = [x.strip() for x in row['Комфорт'].split(',')]\n",
    "                for result in resultComfort:\n",
    "                    key = \"комфорт\"+\"_\"+result.lower().replace(\".\", \" \").replace(\"  \", \" \").replace(\" \", \"_\")\n",
    "                    keyToSetForThisRow.append(key)            \n",
    "        if type(row['Сигурност']) is str and type(row['Сигурност']) is not float:\n",
    "            if len(row['Сигурност'])>0:\n",
    "                resultSecurity = [x.strip() for x in row['Сигурност'].split(',')]\n",
    "                for result in resultSecurity:\n",
    "                    key = \"сигурност\"+\"_\"+result.lower().replace(\".\", \" \").replace(\"  \", \" \").replace(\" \", \"_\")\n",
    "                    keyToSetForThisRow.append(key)\n",
    "        if(len(keyToSetForThisRow)>0):\n",
    "            for key in keyToSetForThisRow:\n",
    "                setKeyForIndexTo(dataframe,i, key, True)\n",
    "            \n",
    "populateDummyVariablesForDataFrame(initial_car_df_car_extra_data,all_posibile_dummy_variable_names) \n",
    "initial_car_df_car_extra_data['Евростандарт'] = initial_car_df_car_extra_data['Евростандарт'].map({'EURO 6': 6, 'EURO 5': 5, 'EURO 4': 4, 'EURO 3': 3, 'EURO 2': 2, 'EURO 1': 1, 0:0})\n",
    "initial_car_df_car_extra_data = initial_car_df_car_extra_data.drop(['Друго','Комфорт','Описание','Сигурност'], axis=1)\n",
    "\n",
    "\n",
    "    "
   ]
  },
  {
   "cell_type": "code",
   "execution_count": null,
   "metadata": {},
   "outputs": [],
   "source": [
    "initial_car_df_from_cars_bg = pd.concat([initial_car_df_from_cars_bg, initial_car_df_car_extra_data], axis=1, sort=False)\n",
    "initial_car_df_from_cars_bg = initial_car_df_from_cars_bg.drop(['car_extra_data'], axis=1)"
   ]
  },
  {
   "cell_type": "code",
   "execution_count": null,
   "metadata": {},
   "outputs": [],
   "source": [
    "#Човекът е сбъркал модела в описанието\n",
    "initial_car_df_from_cars_bg.at[57257, 'car_model'] = 'K2700'\n",
    "#Човекът е писал като модел \"всички\"\n",
    "initial_car_df_from_cars_bg.at[24860, 'car_model'] = '2'\n",
    "#Човекът е писал в описанието Mecedes Benz, a е имал предвид субару\n",
    "initial_car_df_from_cars_bg.at[25085, 'car_model'] = 'Impreza'\n",
    "initial_car_df_from_cars_bg.at[25085, 'car_brand'] = 'Subaru'\n",
    "#Не засича, заради +2?\n",
    "initial_car_df_from_cars_bg.at[122, 'car_model'] = 'Qashqai+2'\n",
    "initial_car_df_from_cars_bg.at[11317, 'car_model'] = 'Qashqai+2'\n",
    "initial_car_df_from_cars_bg.at[23612, 'car_model'] = 'Qashqai+2'\n",
    "initial_car_df_from_cars_bg.at[24193, 'car_model'] = 'Qashqai+2'\n",
    "initial_car_df_from_cars_bg.at[24865, 'car_model'] = 'X-Trail'\n",
    "initial_car_df_from_cars_bg.at[30938, 'car_model'] = 'Qashqai+2'\n",
    "initial_car_df_from_cars_bg.at[39948, 'car_model'] = 'Qashqai+2'\n",
    "initial_car_df_from_cars_bg.at[40151, 'car_model'] = 'Qashqai+2'\n",
    "initial_car_df_from_cars_bg.at[45074, 'car_model'] = 'Qashqai+2'\n",
    "initial_car_df_from_cars_bg.at[45124, 'car_model'] = 'Qashqai+2'\n",
    "initial_car_df_from_cars_bg.at[52217, 'car_model'] = 'Qashqai+2'\n",
    "initial_car_df_from_cars_bg.at[52649, 'car_model'] = 'Qashqai+2'\n",
    "initial_car_df_from_cars_bg.at[53621, 'car_model'] = 'Qashqai+2'\n",
    "initial_car_df_from_cars_bg.at[55451, 'car_model'] = 'Qashqai+2'\n",
    "initial_car_df_from_cars_bg.at[58082, 'car_model'] = 'Qashqai+2'\n",
    "initial_car_df_from_cars_bg.at[70996, 'car_model'] = 'Qashqai+2'\n",
    "initial_car_df_from_cars_bg.at[72357, 'car_model'] = 'Qashqai+2'\n",
    "initial_car_df_from_cars_bg.at[73743, 'car_model'] = 'Qashqai+2'\n",
    "initial_car_df_from_cars_bg.at[76857, 'car_model'] = 'Qashqai+2'\n",
    "initial_car_df_from_cars_bg.at[76948, 'car_model'] = 'Qashqai+2'\n",
    "initial_car_df_from_cars_bg.at[78863, 'car_model'] = 'Qashqai+2'\n",
    "#\n",
    "initial_car_df_from_cars_bg.at[78564, 'car_model'] = 'Golf'\n",
    "initial_car_df_from_cars_bg.at[39299, 'car_model'] = '13'\n",
    "#Range rover\n",
    "initial_car_df_from_cars_bg.at[31416, 'car_model'] = 'P38'\n",
    "initial_car_df_from_cars_bg.at[26041, 'car_model'] = 'Sport'\n",
    "initial_car_df_from_cars_bg.at[24826, 'car_model'] = 'Vogue'\n",
    "initial_car_df_from_cars_bg.at[56465, 'car_model'] = 'Vogue'\n",
    "initial_car_df_from_cars_bg.at[85213, 'car_model'] = 'Vogue'\n",
    "initial_car_df_from_cars_bg.at[37829, 'car_model'] = 'Vogue'\n",
    "initial_car_df_from_cars_bg.at[38367, 'car_model'] = 'Vogue'\n",
    "\n",
    "initial_car_df_from_cars_bg = initial_car_df_from_cars_bg[pd.notnull(initial_car_df_from_cars_bg['car_model'])]\n",
    "\n",
    "DieselAbbr = ['TDI','CDTI','dCi']                \n",
    "for i, row in initial_car_df_from_cars_bg[(initial_car_df_from_cars_bg['Гориво'].isna()==True) & (initial_car_df_from_cars_bg['name'].str.contains('|'.join(DieselAbbr), flags=re.I)==True)].iterrows():\n",
    "    setKeyForIndexTo(initial_car_df_from_cars_bg,i, 'Гориво', 'Дизел')\n",
    "for i, row in initial_car_df_from_cars_bg[(initial_car_df_from_cars_bg['Гориво'].isna()==True)].iterrows():\n",
    "    setKeyForIndexTo(initial_car_df_from_cars_bg,i, 'Гориво', 'Бензин')   \n",
    "    #Range Rover e модел... на LandRover\n",
    "for i, row in initial_car_df_from_cars_bg[(initial_car_df_from_cars_bg['car_brand']=='RangeRover')].iterrows():\n",
    "    proper_model = 'Range Rover '+row['car_model'].strip();\n",
    "    setKeyForIndexTo(initial_car_df_from_cars_bg,i, 'car_brand', 'LandRover')\n",
    "    setKeyForIndexTo(initial_car_df_from_cars_bg,i, 'car_model', proper_model)\n",
    "    #Volga e модел...\n",
    "for i, row in initial_car_df_from_cars_bg[(initial_car_df_from_cars_bg['car_brand']=='Volga')].iterrows():\n",
    "    setKeyForIndexTo(initial_car_df_from_cars_bg,i, 'car_brand', 'GAZ')\n",
    "for i, row in initial_car_df_from_cars_bg[(initial_car_df_from_cars_bg['car_brand']=='Haval')].iterrows():\n",
    "    setKeyForIndexTo(initial_car_df_from_cars_bg,i, 'car_brand', 'Greatwall')    \n"
   ]
  },
  {
   "cell_type": "code",
   "execution_count": null,
   "metadata": {},
   "outputs": [],
   "source": [
    "print('Code below is dependant on searching within strings in a dataframe columns and it is very slow')\n",
    "\n",
    "# df_car_models_efficiency = pd.read_csv('Data/car_efficiency.txt')\n",
    "# df_car_models_efficiency['yearStart'] = df_car_models_efficiency['yearStart'].astype('Int32')\n",
    "# df_car_models_efficiency['yearStop'] = df_car_models_efficiency['yearStop'].astype('Int32')\n",
    "# ##Checks wheter a dataFrame contains carBrand and carModel in the fields \"carBrand\" and \"carModelGeneration\"\n",
    "# def isModelAndBrandInDataFrame(dataframeToCheck,carBrand, carModel, carYear):\n",
    "#     carModel=carModel.strip()\n",
    "#     if((carModel in all_unique_models) == False):\n",
    "#         all_models_brand = dataframeToCheck[dataframeToCheck['carBrand'].str.contains(carBrand) & dataframeToCheck['carModelGeneration'].str.contains(carModel)]\n",
    "#         if(all_models_brand.carModel.count()>0):\n",
    "#             for i, row in all_models_brand.iterrows():\n",
    "#                  setKeyForIndexTo(dataframeToCheck,i, 'car_model_fk', carModel)\n",
    "# ##Checks wheter a dataFrame contains carBrand and carModel in the fields \"carBrand\" and \"engine\"\n",
    "# def isModelAndBrandInDataFrameEngine(dataframeToCheck,carBrand, carModel, carYear):\n",
    "#     carModel=carModel.strip()\n",
    "#     if((carModel in all_unique_models) == False):\n",
    "#         all_models_brand = dataframeToCheck[dataframeToCheck['carBrand'].str.contains(carBrand) & dataframeToCheck['engine'].str.contains(carModel)]\n",
    "#         if(all_models_brand.carModel.count()>0):\n",
    "#             for i, row in all_models_brand.iterrows():\n",
    "#                  setKeyForIndexTo(dataframeToCheck,i, 'car_model_fk', carModel)\n",
    "                    \n",
    "# df_car_models_efficiency['car_model_fk'] = \"unknown\"\n",
    "# initial_car_df_from_cars_bg.apply(lambda row: isModelAndBrandInDataFrame(df_car_models_efficiency, row['car_brand'], row['car_model'], row['Година']), axis=1)\n",
    "# initial_car_df_from_cars_bg.apply(lambda row: isModelInDataFrameEngine(df_car_models_efficiency, row['car_brand'], row['car_model'], row['Година']), axis=1)\n",
    "# ##Formats the value in format 0.0,removes symbols that make the conversion to float not possible\n",
    "# def formatUrban(row):\n",
    "#     if(type(row['fuelConsumptionUrban']) is str):\n",
    "#         if(len(re.findall('-', row['fuelConsumptionUrban']))):\n",
    "#             return row['fuelConsumptionUrban'].split('-')[1]\n",
    "#         if(len(re.findall('/', row['fuelConsumptionUrban']))):\n",
    "#             return row['fuelConsumptionUrban'].split('/')[1]\n",
    "#         if(len(re.findall('.', row['fuelConsumptionUrban']))):\n",
    "#             return \".\".join(row['fuelConsumptionUrban'].split(\".\", 2))[:2]\n",
    "#         return row['fuelConsumptionUrban']\n",
    "# def formatUrbanComb(row):\n",
    "#     if(type(row['fuelConsumptionCombined']) is str):\n",
    "#         if(len(re.findall('-', row['fuelConsumptionCombined']))):\n",
    "#             return row['fuelConsumptionCombined'].split('-')[1]\n",
    "#         if(len(re.findall('/', row['fuelConsumptionCombined']))):\n",
    "#             return row['fuelConsumptionCombined'].split('/')[1]\n",
    "#         if(len(re.findall('.', row['fuelConsumptionCombined']))):\n",
    "#             return \".\".join(row['fuelConsumptionCombined'].split(\".\", 2))[:2]\n",
    "#         return row['fuelConsumptionCombined']\n",
    "# df_car_models_efficiency['fuelConsumptionUrban']=df_car_models_efficiency.apply(lambda row: formatUrban(row), axis=1)\n",
    "# df_car_models_efficiency['fuelConsumptionCombined']=df_car_models_efficiency.apply(lambda row: formatUrbanComb(row), axis=1)\n",
    "# df_car_models_efficiency['fuelConsumptionCombined'] = df_car_models_efficiency['fuelConsumptionCombined'].astype('float64')\n",
    "# df_car_models_efficiency['fuelConsumptionUrban'] = df_car_models_efficiency['fuelConsumptionUrban'].astype('float64')\n",
    "\n",
    "# grBrand = df_car_models_efficiency.groupby('carBrand')\n",
    "# grModel = df_car_models_efficiency.groupby('car_model_fk')\n",
    "# modelUbran = grModel.fuelConsumptionUrban.apply(lambda x: x.median())\n",
    "# modelCombined = grModel.fuelConsumptionCombined.apply(lambda x: x.median())\n",
    "# brandUbran = grBrand.fuelConsumptionUrban.apply(lambda x: x.median())\n",
    "# brandCombined = grBrand.fuelConsumptionCombined.apply(lambda x: x.median())\n",
    "# ##Creates a multi dictionary for easy searching \n",
    "# cacheModel = dict()\n",
    "# cacheBrand = dict()\n",
    "# def createFuelConsumptionDictionaryFromSeries(dictionaryToSaveTo, seriesToIterate, varibleNameToSave):\n",
    "#     for items in seriesToIterate.iteritems():\n",
    "#         key = items[0].strip()\n",
    "#         if (key is 'unknown'):\n",
    "#             continue\n",
    "#         if key in dictionaryToSaveTo:\n",
    "#             dictionaryToSaveTo[key].update({varibleNameToSave : items[1]})\n",
    "#         else:\n",
    "#             dictionaryToSaveTo[key] = {varibleNameToSave:items[1]}         \n",
    "\n",
    "# createFuelConsumptionByModelDictionary(cacheModel,modelUbran, 'fuelConsumptionUrban')\n",
    "# createFuelConsumptionByModelDictionary(cacheModel,modelCombined, 'fuelConsumptionCombined')\n",
    "# createFuelConsumptionByModelDictionary(cacheBrand,brandUbran, 'fuelConsumptionUrban')\n",
    "# createFuelConsumptionByModelDictionary(cacheBrand,brandCombined, 'fuelConsumptionCombined')\n",
    "# ##Searches for value by model first if not found by brand, if still not found assigns default value \n",
    "# def assignFuelConsuption(carModel, carBrand):\n",
    "#     carModel = carModel.strip()\n",
    "#     carBrand = carBrand.strip()\n",
    "#     try:\n",
    "#             value = cacheModel[carModel]\n",
    "#             fuelConsumptionUrban=value['fuelConsumptionUrban']\n",
    "#             fuelConsumptionCombined=value['fuelConsumptionCombined']\n",
    "#             if((pd.isna(fuelConsumptionUrban)==False) and (pd.isna(fuelConsumptionCombined)==False)):\n",
    "#                 return max(fuelConsumptionUrban, fuelConsumptionCombined)\n",
    "#             if((pd.isna(fuelConsumptionUrban)==False) and (pd.isna(fuelConsumptionCombined))):\n",
    "#                 return fuelConsumptionUrban\n",
    "#             if((pd.isna(fuelConsumptionUrban)) and (pd.isna(fuelConsumptionCombined)==False)):\n",
    "#                 return fuelConsumptionCombined\n",
    "#             if((pd.isna(fuelConsumptionUrban)) and (pd.isna(fuelConsumptionCombined))):\n",
    "#                 return fuelConsumptionUrban\n",
    "#     except:\n",
    "#         try:\n",
    "#             value = cacheBrand[carBrand]\n",
    "#             fuelConsumptionUrban=value['fuelConsumptionUrban']\n",
    "#             fuelConsumptionCombined=value['fuelConsumptionCombined']\n",
    "#             if((pd.isna(fuelConsumptionUrban)==False) and (pd.isna(fuelConsumptionCombined)==False)):\n",
    "#                 return max(fuelConsumptionUrban, fuelConsumptionCombined)\n",
    "#             if((pd.isna(fuelConsumptionUrban)==False) and (pd.isna(fuelConsumptionCombined))):\n",
    "#                 return fuelConsumptionUrban\n",
    "#             if((pd.isna(fuelConsumptionUrban)) and (pd.isna(fuelConsumptionCombined)==False)):\n",
    "#                 return fuelConsumptionCombined\n",
    "#             if((pd.isna(fuelConsumptionUrban)) and (pd.isna(fuelConsumptionCombined))):\n",
    "#                 return fuelConsumptionUrban\n",
    "#         except:\n",
    "#             return 100.00\n",
    "# initial_car_df_from_cars_bg['fuel_consumption'] = initial_car_df_from_cars_bg.apply(lambda row: assignFuelConsuption(row['car_model'], row['car_brand']), axis=1)\n",
    "# final_car_df = initial_car_df_from_cars_bg\n",
    "# ##Add carBrand Region\n",
    "# all_car_brands_df.set_index('brand_name', inplace = True)\n",
    "# car_brand_dic = all_car_brands_df.to_dict('index')\n",
    "# def findCarBrandOriginRegion(carBrand):\n",
    "#     if(carBrand in car_brand_dic):\n",
    "#         return car_brand_dic[carBrand]['region']\n",
    "#     else:\n",
    "#         return pd.np.NaN\n",
    "# final_car_df['car_brand_region'] = final_car_df.apply(lambda row: findCarBrandOriginRegion(row['car_brand']), axis=1)\n",
    "# ##Set default value for cars that run on electricity and we have not a fuel_conmption for them, mostly Teslas\n",
    "# ##Number is based on [6]\n",
    "# for i, value in final_car_df[(final_car_df['Гориво']=='Електричество')&((pd.isna(final_car_df.fuel_consumption)==True) |(final_car_df.fuel_consumption==100))].iterrows():\n",
    "#     setKeyForIndexTo(final_car_df,i,'fuel_consumption',14.4)\n",
    "# ##Exclude cars with default value or cars without value or with default value of 100 \n",
    "# final_car_df_no_def = final_car_df[((final_car_df.fuel_consumption==100)==False)]\n",
    "# final_car_df_no_def = final_car_df_no_def[(pd.isna(final_car_df_no_def.fuel_consumption)==False)]\n",
    "# ##Save intermediate file  \n",
    "# with open('final_final_final_car_data.json', 'w', encoding='utf-8') as file:\n",
    "#       final_car_df_no_def.to_json(file, force_ascii=False, date_format=\"iso\")\n",
    "     "
   ]
  },
  {
   "cell_type": "markdown",
   "metadata": {},
   "source": [
    "### Data acquisition - Summary \n",
    "In the current section we created a [webscraper](./webscapper_cars.bg) which we used to generate 3 datasets:\n",
    "1. [json_data.txt](./Data);\n",
    "2. [car_brands.csv](./Data);\n",
    "3. and [car_brands_and_models.csv](./Data).\n",
    "\n",
    "Those datasets were further cleaned and combined. [json_data.txt](./Data) contained two nested dictionaries. Initially we started to work with the first one, once the data were extracted and plotted it in the data frame, where  variables like 'Брой врати', 'Пробег', 'Кубатура', 'Мощност', and 'Година' were properly formatted a further converted into the appropriate format. For example 'Брой врати' was converted from string of type '4/5' to an int. Later on we used the name of the car offer to determain the car brand.\n",
    "\n",
    "Once that was done, due to the long duration of the operation, it was time to check, the status of the car offers and how many of them were sold.\n",
    "\n",
    "Finishing with that process led us to look in the second nested dictionary, where we created a multitude of dummy variables based on sub embedded csv string.\n",
    "\n",
    "To finish things with [json_data.txt](./Data), further examination of the data was done and some manual corrections were inserted, where incorrect data was spotted. \n",
    "\n",
    "After some inquiry a dataset [car_efficency.xml](./Data) with manufacturer presented information was acquired[5] For the needs of using the dataset in pandas an [XmlToCsv](./XmlToJsonParser) parser was created, which led to the creation of the last used dataset:\n",
    "4. [car_efficency.csv](./Data)\n",
    "\n",
    "Once the dataset was imported a link between the two datasets (car_model_fk) was created for easier searching. After some formatting of fuelConsumptionUrban and fuelConsumptionCombined variables in proper float values, it was calculated fuelConsumption for each known car model and car brand. That data was transpired in the original data frame, where if a match cannot be created, a default value was inserted, later that the default value was dropped.\n",
    "\n",
    "The end result can be summarised by comparing the initial shape of the data and the consequent one. We started with 87900 observations, which were later reduced to 87894, while the starting variable were increased from 6 to 61.\n",
    "\n",
    "> Remark: The author has created and used some intermediate files, namely [car_data_with_brand_and_sold_status.json](./Data) and [final_final_car_data.json](./Data), in order to increase speed during reproducibility."
   ]
  },
  {
   "cell_type": "markdown",
   "metadata": {},
   "source": [
    "### Data analysis \n",
    "In this section we will attempt to dissect the data and answer the initial questions set by this inquiry for knowledge."
   ]
  },
  {
   "cell_type": "code",
   "execution_count": null,
   "metadata": {},
   "outputs": [],
   "source": [
    "car_offers_df = pd.read_json('data/final_final_final_car_data.json', 'r', encoding='utf-8-sig')\n",
    "car_offers_df['Година'] = pd.to_datetime(car_offers_df['Година'])"
   ]
  },
  {
   "cell_type": "code",
   "execution_count": null,
   "metadata": {},
   "outputs": [],
   "source": [
    "print('We have data for {} car offer ads, which contains {} unique car brands and {} unique car models'.format(car_offers_df.shape[0], car_offers_df.car_brand.nunique(), car_offers_df.car_model.nunique()))\n",
    "print('The oldest car model we have is from {} year, while the newest is from {}'.format(car_offers_df['Година'].min().year, car_offers_df['Година'].max().year))"
   ]
  },
  {
   "cell_type": "markdown",
   "metadata": {},
   "source": [
    "This seems a bit weird, we are interested in second hand cars, yet we see models from 2019? We shall exclude them from the data."
   ]
  },
  {
   "cell_type": "code",
   "execution_count": null,
   "metadata": {},
   "outputs": [],
   "source": [
    "print('We {} car that have millege of 0, and {} cars that are from 2019, the are overlapping, are from 2019 with and with 0 mileage, {} times.'.format(car_offers_df[car_offers_df['Пробег']==0].id.count(),car_offers_df[car_offers_df['Година'].dt.year==2019].id.count(),car_offers_df[(car_offers_df['Година'].dt.year==2019) & (car_offers_df['Пробег']==0)].id.count()))\n"
   ]
  },
  {
   "cell_type": "code",
   "execution_count": null,
   "metadata": {},
   "outputs": [],
   "source": [
    "car_offers_df = car_offers_df[~((car_offers_df['Година'].dt.year==2019))]\n",
    "car_offers_df = car_offers_df[~((car_offers_df['Пробег']==0))]\n",
    "## sanity checks, not impossible, however highly unlikely\n",
    "car_offers_df = car_offers_df[~(car_offers_df['Пробег']>1000000)]\n",
    "car_offers_df = car_offers_df[~(car_offers_df['Мощност']>700)]\n",
    "car_offers_df= car_offers_df[~(car_offers_df['Година'].isnull())]\n",
    "#forgotten temp variable\n",
    "car_offers_df = car_offers_df.drop(['Found'], axis=1)\n",
    "#Дизел - 2.33 BGN\n",
    "#Бензин - 2.22 BGN\n",
    "#Газ/Бензин - 0.97+Benzin/2  BGN\n",
    "#Метан/Бензин - 1.47+Benzin/2 BGN\n",
    "#Хибрид - Dizel + El / 2 BGN\n",
    "#Електричество - 0.14 BGN\n",
    "#As per [7]'s fig 4.3 on avarage 40 km is the daily travel distance by car. The average month has 365/12 = 30.42 days in.\n",
    "pricedFuelTypes = {\n",
    "\t\t\"Дизел\" : 2.33,\n",
    "\t\t\"Бензин\" : 2.22,\n",
    "\t\t\"Газ/Бензин\" : 1.60,\n",
    "\t\t\"Метан/Бензин\" : 1.80,\n",
    "\t\t\"Хибрид\" : 1.24,\n",
    "\t\t\"Електричество\" : 0.14\n",
    "\t}\n",
    "def computeMonthlyFuelExpenditurePerCar(fuelType, fuelExpenditure):\n",
    "    if(fuelType in pricedFuelTypes):\n",
    "        #fuelExpenditure is per 100KM\n",
    "        return ((40*30.42)/100)*fuelExpenditure;\n",
    "    else:\n",
    "        return pd.np.NaN\n",
    "    \n",
    "car_offers_df['montly_fuel_expenditure']=car_offers_df.apply(lambda row: computeMonthlyFuelExpenditurePerCar(row['Гориво'],row['fuel_consumption']), axis=1)"
   ]
  },
  {
   "cell_type": "code",
   "execution_count": null,
   "metadata": {},
   "outputs": [],
   "source": [
    "car_offers_df.describe().T"
   ]
  },
  {
   "cell_type": "code",
   "execution_count": null,
   "metadata": {},
   "outputs": [],
   "source": [
    "cols = list(['price','Кубатура', 'Мощност', 'Пробег'])\n",
    "\n",
    "def calculateZScoreForColInDataframe(listCol, dataframe):\n",
    "    for col in listCol:\n",
    "        col_zscore = col + '_zscore'\n",
    "        dataframe[col_zscore] = (dataframe[col] - dataframe[col].mean())/dataframe[col].std(ddof=0)\n",
    "\n",
    "\n",
    "calculateZScoreForColInDataframe(cols,car_offers_df)"
   ]
  },
  {
   "cell_type": "code",
   "execution_count": null,
   "metadata": {},
   "outputs": [],
   "source": [
    "print('We have abnormal Z-Score for {} offers [mileage], {} offers [cubature], {} offers [horse power] and {}  offers [price]'.format(\n",
    "    car_offers_df[np.abs(car_offers_df['Пробег_zscore'])>3].id.count(),\n",
    "    car_offers_df[np.abs(car_offers_df['Кубатура_zscore'])>3].id.count(),\n",
    "    car_offers_df[np.abs(car_offers_df['Мощност_zscore'])>3].id.count(),\n",
    "    car_offers_df[np.abs(car_offers_df['price_zscore'])>3].id.count()))\n",
    "\n",
    "car_offers_df = car_offers_df[np.abs(car_offers_df['Пробег_zscore'])<3]\n",
    "car_offers_df = car_offers_df[np.abs(car_offers_df['Кубатура_zscore'])<3]\n",
    "car_offers_df = car_offers_df[np.abs(car_offers_df['Мощност_zscore'])<3]\n",
    "\n",
    "car_offers_df = car_offers_df.drop(['Пробег_zscore'], axis=1)\n",
    "car_offers_df = car_offers_df.drop(['Кубатура_zscore'], axis=1)\n",
    "car_offers_df = car_offers_df.drop(['Мощност_zscore'], axis=1)\n",
    "car_offers_df = car_offers_df.drop(['price_zscore'], axis=1)\n"
   ]
  },
  {
   "cell_type": "code",
   "execution_count": null,
   "metadata": {},
   "outputs": [],
   "source": [
    "car_offers_df.describe().T"
   ]
  },
  {
   "cell_type": "code",
   "execution_count": null,
   "metadata": {},
   "outputs": [],
   "source": [
    "car_offers_df.describe(include=\"bool\").T"
   ]
  },
  {
   "cell_type": "code",
   "execution_count": null,
   "metadata": {},
   "outputs": [],
   "source": [
    "plt.figure(figsize = (6, 4))\n",
    "min_month, max_month = int(car_offers_df.montly_fuel_expenditure.min()), int(car_offers_df.montly_fuel_expenditure.max())\n",
    "\n",
    "car_offers_df.montly_fuel_expenditure.hist(bins=20)\n",
    "plt.title('Histogram of Montly expenditure')\n",
    "plt.xlabel('Expenditure per month in BGN')\n",
    "plt.ylabel('Frequency')\n",
    "plt.xticks(range(min_month, max_month + 10, 10), rotation='vertical')\n",
    "\n",
    "plt.show()"
   ]
  },
  {
   "cell_type": "code",
   "execution_count": null,
   "metadata": {},
   "outputs": [],
   "source": [
    "plt.figure(figsize = (6, 4))\n",
    "car_offers_per_region=car_offers_df.groupby(car_offers_df.car_brand_region).size()\n",
    "plt.bar(car_offers_per_region.index, car_offers_per_region, align='center')\n",
    "\n",
    "plt.title(\"Number of car offers per car brand region\")\n",
    "plt.xlabel(\"Car brand origin region\")\n",
    "plt.ylabel(\"Car Offers\")\n",
    "\n",
    "plt.show()"
   ]
  },
  {
   "cell_type": "code",
   "execution_count": null,
   "metadata": {},
   "outputs": [],
   "source": [
    "offer_counts_by_year = car_offers_df.groupby(car_offers_df['Година'].dt.year).size()\n",
    "min_year, max_year = int(car_offers_df['Година'].min().year), car_offers_df['Година'].max().year\n",
    "print('The most common manufacturing year of listed car offers is {} with {} offers, while the least common manufacturing year is {} with {} offers'.format(int(offer_counts_by_year.idxmax()),int(offer_counts_by_year.max()), int(offer_counts_by_year.idxmin()),int(offer_counts_by_year.min())))\n",
    "\n",
    "plt.figure(figsize = (16, 8))\n",
    "plt.bar(offer_counts_by_year.index, offer_counts_by_year, align='center')\n",
    "plt.title(\"Number of car offers per car model's manufacturing year\")\n",
    "plt.xlabel(\"Year of manufacturing\")\n",
    "plt.ylabel(\"Car Offers\")\n",
    "\n",
    "plt.xticks(range(min_year, max_year + 1), rotation='vertical')\n",
    "plt.show()"
   ]
  },
  {
   "cell_type": "code",
   "execution_count": null,
   "metadata": {
    "scrolled": true
   },
   "outputs": [],
   "source": [
    "car_brand_list = car_offers_df['car_brand'].value_counts().index.tolist()\n",
    "car_brand_cat = pd.Categorical(car_offers_df['car_brand'], categories=car_brand_list)\n",
    "\n",
    "(ggplot(car_offers_df)\n",
    " + aes(x='car_brand_cat')\n",
    " + geom_bar(size=20, show_legend=True)\n",
    " + geom_text(aes(label='stat(count)'),stat='count')\n",
    " + geom_text(\n",
    "     aes(label='stat(prop)*100', group=1),\n",
    "     stat='count',\n",
    "     size=8,\n",
    "     position='fill',\n",
    "     format_string='({:.1f}%)'\n",
    " )\n",
    " + scale_x_discrete(limits=car_brand_list, reverse=True)\n",
    " + coord_flip()\n",
    " + labs(y='Count', x='Brand', title='Number of Car offers by Brand')\n",
    " + theme(figure_size=(8, 11))\n",
    ")\n"
   ]
  },
  {
   "cell_type": "code",
   "execution_count": null,
   "metadata": {},
   "outputs": [],
   "source": [
    "plt.figure(figsize = (8, 6))\n",
    "top_cities = car_offers_df.groupby(\"град\").size().sort_values(ascending = False).head(15)\n",
    "plt.barh(range(len(top_cities.index)), top_cities)\n",
    "\n",
    "plt.title(\"Top 15 Cities with car offers\")\n",
    "plt.xlabel(\"Number of Car Offer listings\")\n",
    "plt.yticks(range(len(top_cities)), top_cities.index)\n",
    "plt.gca().invert_yaxis()\n",
    "plt.show()\n",
    "\n"
   ]
  },
  {
   "cell_type": "code",
   "execution_count": null,
   "metadata": {},
   "outputs": [],
   "source": [
    "(ggplot(car_offers_df)\n",
    " + aes(x='sold')\n",
    " + geom_bar(size=20, show_legend=True)\n",
    " + geom_text(aes(label='stat(count)'),stat='count')\n",
    " + geom_text(\n",
    "     aes(label='stat(prop)*100', group=1),\n",
    "     stat='count',\n",
    "     position='fill',\n",
    "     format_string='({:.1f}%)'\n",
    " )\n",
    "\n",
    " + labs(y='Count', x='Is car offer sold?', title='Number of Car offer listing that have been marked as Sold')\n",
    " + theme(figure_size=(6, 4))\n",
    ")"
   ]
  },
  {
   "cell_type": "code",
   "execution_count": null,
   "metadata": {},
   "outputs": [],
   "source": [
    "sns.set(rc={'figure.figsize':(15.7,18.27)})\n",
    "pd.crosstab(car_offers_df.car_brand,car_offers_df.sold).plot(kind='bar')\n",
    "plt.title('Purchase Frequency for Car Brand')\n",
    "plt.xlabel('Car Brand')\n",
    "plt.ylabel('Frequency of Purchase')\n",
    "plt.ylim(0, 8000)\n",
    "plt.show()"
   ]
  },
  {
   "cell_type": "code",
   "execution_count": null,
   "metadata": {},
   "outputs": [],
   "source": [
    "(ggplot(data=car_offers_df,\n",
    "           mapping=aes(x='factor(sold)'\n",
    "                          ))\n",
    "    + geom_bar()\n",
    "    + geom_text(aes(label='stat(count)'),stat='count')\n",
    "    + facet_wrap(\"car_brand_region\")\n",
    "    + theme(figure_size=(6, 4))\n",
    "    + labs(y='Car offer count', x='Is car offer sold?', title='Number of Car offers and their \"sold\" status by Car Bran Origin region')\n",
    ")"
   ]
  },
  {
   "cell_type": "code",
   "execution_count": null,
   "metadata": {},
   "outputs": [],
   "source": [
    "(ggplot(data=car_offers_df,\n",
    "           mapping=aes(x='factor(sold)'\n",
    "                          ))\n",
    "    + geom_bar()\n",
    "    + geom_text(aes(label='stat(count)'),stat='count')\n",
    "    + facet_wrap(\"Гориво\")\n",
    "    + theme(figure_size=(6, 4))\n",
    "    + labs(y='Car offer count', x='Is car offer sold?', title='Number of Car offers and their \"sold\" status by Fuel type used')\n",
    ")"
   ]
  },
  {
   "cell_type": "code",
   "execution_count": null,
   "metadata": {},
   "outputs": [],
   "source": [
    "(ggplot(data=car_offers_df[car_offers_df.price<50000],\n",
    "           mapping=aes(x='price'))\n",
    "    + geom_histogram()\n",
    "    + facet_wrap(\"car_brand_region\")\n",
    "    + theme(figure_size=(10, 4))\n",
    "    + labs(y='Frequency', x='Price', title='Distribution of the price per car brand region with max price set to 50 000 BGN')\n",
    ")"
   ]
  },
  {
   "cell_type": "code",
   "execution_count": null,
   "metadata": {},
   "outputs": [],
   "source": [
    "sns.set(rc={'figure.figsize':(15.7,18.27)})\n",
    "\n",
    "g = sns.boxplot(x=\"price\", y=\"car_brand\",\n",
    "            data=car_offers_df, orient='h')\n",
    "#sns.despine(offset=10, trim=True)\n",
    "plt.xlim(0, 250000)\n",
    "plt.xticks(np.arange(0, 250000, 5000),rotation=90)\n",
    "plt.show()"
   ]
  },
  {
   "cell_type": "code",
   "execution_count": null,
   "metadata": {},
   "outputs": [],
   "source": [
    "(ggplot(data=car_offers_df,\n",
    "           mapping=aes(x='factor(Евростандарт)'\n",
    "                          ))\n",
    "    + geom_bar()\n",
    "    + geom_text(aes(label='stat(count)'),stat='count')\n",
    "    + theme(figure_size=(6, 4))\n",
    "    + labs(y='Car offer count', x='Number of Eurostandart the car has', title='Number of Car offers by their Eurostandard Number')\n",
    ")\n"
   ]
  },
  {
   "cell_type": "code",
   "execution_count": null,
   "metadata": {},
   "outputs": [],
   "source": [
    "(ggplot(data=car_offers_df,\n",
    "           mapping=aes(x='factor(частно_лице)'\n",
    "                          ))\n",
    "    + geom_bar()\n",
    "    + geom_text(aes(label='stat(count)'),stat='count')\n",
    "    + theme(figure_size=(6, 4))\n",
    "    + labs(y='Car offer count', x='Is it sold by private customer?', title='Number of Car offers by their seller type')\n",
    ")"
   ]
  },
  {
   "cell_type": "code",
   "execution_count": null,
   "metadata": {},
   "outputs": [],
   "source": [
    "sold_1000_car_listing = car_offers_df[car_offers_df.sold==True].head(1000)\n",
    "not_sold_1000_car_listing = car_offers_df[car_offers_df.sold==False].head(1000)\n",
    "ttest_ind(sold_1000_car_listing[\"montly_fuel_expenditure\"], not_sold_1000_car_listing[\"montly_fuel_expenditure\"])"
   ]
  },
  {
   "cell_type": "code",
   "execution_count": null,
   "metadata": {},
   "outputs": [],
   "source": [
    "car_offers_modeling = car_offers_df.filter(['price','Година','Брой врати','Кубатура','Мощност','Пробег','Евростандарт','fuel_consumption', 'sold', 'Гориво', 'montly_fuel_expenditure'], axis=1)\n",
    "car_offers_modeling['car_man_year']=car_offers_modeling['Година'].dt.year\n",
    "car_offers_modeling = car_offers_modeling.drop(['Година'], axis=1)"
   ]
  },
  {
   "cell_type": "code",
   "execution_count": null,
   "metadata": {},
   "outputs": [],
   "source": [
    "f, ax = plt.subplots(figsize=(10, 8))\n",
    "corr = car_offers_modeling.corr()\n",
    "sns.heatmap(corr, mask=np.zeros_like(corr, dtype=np.bool), cmap=sns.diverging_palette(220, 10, as_cmap=True),\n",
    "            square=True, ax=ax,  annot=True,)"
   ]
  },
  {
   "cell_type": "code",
   "execution_count": null,
   "metadata": {},
   "outputs": [],
   "source": [
    "car_offers_modeling.head()"
   ]
  },
  {
   "cell_type": "code",
   "execution_count": null,
   "metadata": {},
   "outputs": [],
   "source": [
    "fuel_type_dummy = pd.get_dummies(car_offers_modeling['Гориво'], prefix='fuel_type')\n",
    "car_offers_modeling=car_offers_modeling.join(fuel_type_dummy)\n",
    "car_offers_modeling = car_offers_modeling.drop(['Гориво'], axis=1)\n",
    "car_offers_modeling.columns.values"
   ]
  },
  {
   "cell_type": "code",
   "execution_count": null,
   "metadata": {},
   "outputs": [],
   "source": [
    "X = car_offers_modeling.loc[:, car_offers_modeling.columns != 'sold']\n",
    "y = car_offers_modeling.loc[:, car_offers_modeling.columns == 'sold']\n",
    "\n",
    "X_train, X_test, y_train, y_test = train_test_split(X, y, test_size=0.3, random_state=0)"
   ]
  },
  {
   "cell_type": "markdown",
   "metadata": {},
   "source": [
    "I was thinking about using SMOTE, to balance out the \"sold and not sold\". However gave up on the idea due to the fact that when RFE was used to select features, it gave me things like \"Number of doors\" is a very good feature for predicting if a car would be sold."
   ]
  },
  {
   "cell_type": "code",
   "execution_count": null,
   "metadata": {},
   "outputs": [],
   "source": [
    "# X = car_offers_modeling.loc[:, car_offers_modeling.columns != 'sold']\n",
    "# y = car_offers_modeling.loc[:, car_offers_modeling.columns == 'sold']\n",
    "\n",
    "\n",
    "# \n",
    "# X_train, X_test, y_train, y_test = train_test_split(X, y, test_size=0.3, random_state=0)\n",
    "# columns = X_train.columns\n",
    "# os = SMOTE(random_state=0)\n",
    "# os_data_X,os_data_y=os.fit_sample(X_train, y_train)\n",
    "# os_data_X = pd.DataFrame(data=os_data_X,columns=columns )\n",
    "# os_data_y= pd.DataFrame(data=os_data_y,columns=['y'])\n",
    "\n",
    "\n",
    "# print(\"length of oversampled data is \",len(os_data_X))\n",
    "# print(\"Number of cars offers in not sold state in oversampled data\",len(os_data_y[os_data_y['y']==0]))\n",
    "# print(\"Number of cars offers in sold state\",len(os_data_y[os_data_y['y']==1]))\n",
    "# print(\"Proportion of not sold state data in oversampled data is \",len(os_data_y[os_data_y['y']==0])/len(os_data_X))\n",
    "# print(\"Proportion of sold state data in oversampled data is \",len(os_data_y[os_data_y['y']==1])/len(os_data_X))\n",
    "\n",
    "# logreg = LogisticRegression()\n",
    "# rfe = RFE(logreg, 20)\n",
    "# rfe = rfe.fit(os_data_X, os_data_y.values.ravel())\n",
    "# print(rfe.support_)\n",
    "# print(rfe.ranking_)"
   ]
  },
  {
   "cell_type": "code",
   "execution_count": null,
   "metadata": {},
   "outputs": [],
   "source": [
    "logis = LogisticRegression(solver='lbfgs')\n",
    "logis.fit(X_train, y_train.values.ravel())\n",
    "logis_score_train = logis.score(X_train, y_train)\n",
    "print(\"Training score: \",logis_score_train)\n",
    "logis_score_test = logis.score(X_test, y_test)\n",
    "print(\"Testing score: \",logis_score_test)\n",
    "y_pred = logis.predict(X_test)"
   ]
  },
  {
   "cell_type": "code",
   "execution_count": null,
   "metadata": {},
   "outputs": [],
   "source": [
    "coeff_df = pd.DataFrame(X.columns.delete(0))\n",
    "coeff_df.columns = ['Features']\n",
    "coeff_df[\"Coef\"] = pd.Series(logis.coef_[0])\n",
    "coeff_df.sort_values(by='Coef', ascending=False)"
   ]
  },
  {
   "cell_type": "code",
   "execution_count": null,
   "metadata": {},
   "outputs": [],
   "source": [
    "confusion_matrix = confusion_matrix(y_test, y_pred)\n",
    "print(confusion_matrix)\n",
    "print(classification_report(y_test, y_pred))"
   ]
  },
  {
   "cell_type": "code",
   "execution_count": null,
   "metadata": {},
   "outputs": [],
   "source": [
    "logit_roc_auc = roc_auc_score(y_test, logis.predict(X_test))\n",
    "fpr, tpr, thresholds = roc_curve(y_test, logis.predict_proba(X_test)[:,1])\n",
    "plt.figure()\n",
    "plt.plot(fpr, tpr, label='Logistic Regression (area = %0.2f)' % logit_roc_auc)\n",
    "plt.plot([0, 1], [0, 1],'r--')\n",
    "plt.xlim([0.0, 1.0])\n",
    "plt.ylim([0.0, 1.05])\n",
    "plt.xlabel('False Positive Rate')\n",
    "plt.ylabel('True Positive Rate')\n",
    "plt.title('Receiver operating characteristic')\n",
    "plt.legend(loc=\"lower right\")\n",
    "plt.savefig('Log_ROC')\n",
    "plt.show()\n"
   ]
  },
  {
   "cell_type": "markdown",
   "metadata": {},
   "source": [
    "### Data analysis - Summary \n",
    "In the current section we loaded the data and upon the initial analysis figured out and some additional filtering and tunning of the data would be needed. Therefore, we removed all new car listings or other listings that have insane values. For example, we had 100 car listings that insisted that the car they offered had more than 700 horse power where a typical Nascar car would have thought. Lastly, we computed what is the monthly fuel cost for each car that was listed.\n",
    "\n",
    "In the pursuit for our dataset for modeling, after listing some descriptive statistics, we found some abnormalities. We computed a z-score for each of those and removed the one above the recommended values.\n",
    "\n",
    "Afterwards we did some visual data exploration, tested a hypothesis, failed to use SMOTE, and finally we build and evaluated a logistic regression as our model."
   ]
  },
  {
   "cell_type": "markdown",
   "metadata": {},
   "source": [
    "### Key findings\n",
    "When analysing the Bulgarian secondary market for cars some interisting findings are:\n",
    "* The price of 75% of the total 85426 cars listed was under 8500 BGN, where the cheapest car was 250 BGN.\n",
    "* Most cars listed (32319) don't have a Eurostandard, while Eurostandard 4 is the most common Eurostandard with (26786) listings \n",
    "* Most sellers on the market were private, however there is a huge amount of entities which are not, the distribution 54% private / 46% not .\n",
    "* Car brands are present from all continents where dominent are brands from Europe first, second Asia and lastly North America.\n",
    "* The most common manufacturing year of listed car offers is 2005 with 8217 offers.\n",
    "* Most car offers are with manufacturing years between 1998 and 2010\n",
    "* German brands are dominent on the market where VW has 12.5%, Mecedes has 9.3%, BMW has 9.0%, Audi has 8.5% and Opel has 8.3%\n",
    "* The most dominent Asian brand is Toyota with 5.2% while the most dominent American brand is Chevroulet with 0.8%\n",
    "* Number of car offer listing follow the city size. That would say the bigger the city the more offers it has. This has one anomality, where \"Дупница\" not that big of a city is placed within top 5.\n",
    "* For the period of 1 month, which is the time the author collected data 11-06-2019 to 09-07-2019, out of the 85426  listed cars 12.2% or 10419 were marked sold.\n",
    "* Where the most sold brands were VW, Mercedes, BMW, Audi, Opel and Peugeout, which consequivently are also the 5 most domminent car brands.\n",
    "* Most cars that were sold were Europeans (7725).\n",
    "* Out of all sold cars, 60% run on Dizel, 25% on Benzin, 13% on Gas, 1% on Metan and only 0.001% are electric or Hybrid.\n",
    "* Prices for the offered cars varried with some brands like Mercedes, Audi, Land Rover having a lot of outliers, however in genereal most prices were under 10 000 BGN\n",
    "* Cars from Asia and Europe have more members of the class above 10000 BGN visibly from the price distribution for car brands\n",
    "* The Price correlated strongly with the car's horse power.\n",
    "* The sold status correlated positively only with the milage of the car and the  fuel consumption, even though the latter had a very close to 0 coefficient, while it negatively correlated with the manufacturing year.\n",
    "* Eurostandard didn't have much affect.\n",
    "* The montly fuel expenditure for most car listings were between 84 BGN and 134 BGN\n",
    "* Most offered cars 63% used Disel as fuel (54596).\n",
    "* Avarage millage for offered cars was 181098 KM, with diviation of 66285 KM.\n",
    "* Only 25% of all listings were for cars under 150000 KM.\n",
    "* Most offered features were Heating windows (90%), Central locking system (88%), Anti-lock braking system (85%), Airbags (84%),  Build-in audio system (81%), Servo Control (78%), Bord computer (68%), Electronic stability control (64%) and Climatronic (58%). "
   ]
  },
  {
   "cell_type": "markdown",
   "metadata": {},
   "source": [
    "## Conclussion\n",
    "\n",
    "The author has set two leading areas of interest of this paper:\n",
    "1. What is the current state of the second hand car market in Bulgaria?\n",
    "2. Are cars bought in the second hand car market more fuel cost friendly? \n",
    "\n",
    "In regards of the first we can see that Bulgaria has a diverse secondary market for cars which is, judging by the amounth of enterprises, quite lucrative. It has a huge selection of brands, hower it is saturated with older models.The market does not value environmental cars with only 0.002% of all listings being for electric or hybrid cars as well as 37% of all listings not having Euro standard.  While it values mostly Diesel cars with above normal mileage of use and older year of manufacturing. Modern features such as Apple CarPlay and Android Auto,  Adaptive Cruise Control, Automatic Emergency Braking, 360-Degree Camera or Parktronic also fall behind things like Build-in audio system.\n",
    "\n",
    "In regards to the second statement, there is no significant difference between the expenditure for fuel for cars that are bought and the car that are not bought."
   ]
  },
  {
   "cell_type": "markdown",
   "metadata": {},
   "source": [
    "## Study Limitations\n",
    "The selling of the cars could not be verified, via for example some sort of public API, instead the author considered a car sold if it dissapeared as a listing."
   ]
  },
  {
   "cell_type": "markdown",
   "metadata": {},
   "source": [
    "### References\n",
    "1. [В България се карат най-старите коли в ЕС](https://www.investor.bg/analizi/447/a/v-bylgariia-se-karat-nai-starite-koli-v-es-248385/)\n",
    "2. [Статистика: 10 пъти по-бедни сме от германците по покупки на нови коли](https://www.dnes.bg/obshtestvo/2019/05/18/statistika-10-pyti-po-bedni-sme-ot-germancite-po-novi-koli.410667)\n",
    "3. [Study on the second hand cars market](https://ec.europa.eu/info/publications/study-second-hand-cars-market_en)\n",
    "4. [European second-hand car market analysis](https://www.oeko.de/oekodoc/1114/2011-005-en.pdf)\n",
    "5. [auto-data.net](https://www.auto-data.net/en/)\n",
    "6. [Crunching The Numbers: How Much Will Your Electric Car Really Cost?](https://cleantechnica.com/2019/01/11/crunching-the-numbers-how-much-does-your-electric-car-really-cost/)\n",
    "7. [Driving and parking patterns of\n",
    "European car drivers --- a mobility survey](https://setis.ec.europa.eu/system/files/Driving_and_parking_patterns_of_European_car_drivers-a_mobility_survey.pdf)"
   ]
  }
 ],
 "metadata": {
  "kernelspec": {
   "display_name": "Python 3",
   "language": "python",
   "name": "python3"
  },
  "language_info": {
   "codemirror_mode": {
    "name": "ipython",
    "version": 3
   },
   "file_extension": ".py",
   "mimetype": "text/x-python",
   "name": "python",
   "nbconvert_exporter": "python",
   "pygments_lexer": "ipython3",
   "version": "3.7.3"
  }
 },
 "nbformat": 4,
 "nbformat_minor": 2
}
