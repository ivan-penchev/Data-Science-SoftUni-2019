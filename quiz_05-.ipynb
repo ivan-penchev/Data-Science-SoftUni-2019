{
 "cells": [
  {
   "cell_type": "markdown",
   "metadata": {},
   "source": [
    "## Q1 \n",
    "In a CPU factory, a camera takes a picture of every single manufactured chip. After that, it sends the picture to an algorithm. The algorithm outputs whether the CPU is defective or not.\n",
    "\n",
    "What type of algorithm is that?\n",
    "\n",
    "`Clasification`"
   ]
  },
  {
   "cell_type": "markdown",
   "metadata": {},
   "source": [
    "## Q2\n",
    "When building the linear regression model, we came across several new functions. One of these functions was What is the name of this function?\n",
    "\n",
    "`\"cost function\". We sum all the error distances.`\n",
    "\n",
    "\n"
   ]
  },
  {
   "cell_type": "markdown",
   "metadata": {},
   "source": [
    "## Q3\n",
    "We have collected data from an ice cream shop. We modelled the income as a function of the outside temperature:\n",
    "\n",
    "As we can see, one of the terms is positive, and the other is negative.\n",
    "\n",
    "Which of the following is true, based on this research only?\n",
    "\n",
    "`Increased temperature is correlated with increased ice cream sales `"
   ]
  },
  {
   "cell_type": "markdown",
   "metadata": {},
   "source": [
    "## Q4\n",
    "In some cases we need to augment (extend) the model to return valid results.\n",
    "\n",
    "What income (in dollars) will our current model predict when the temperature is 1.2 degrees? Round your answer to 2 decimal places.\n",
    "`-5.31 = (20.67449411 * 1.2) - 30.12047857`\n",
    "\n",
    "The specification tells that \"income\" is defined as being non-negative. The model does not account for operational costs or anything like that. We need to return a valid value based on our specification.\n",
    "\n",
    "What income (in dollars) should an augmented model predict for T=1.2?\n",
    "\n",
    "`0`"
   ]
  },
  {
   "cell_type": "markdown",
   "metadata": {},
   "source": [
    "## Q5\n",
    "When performing gradient descent on a linear regression, the choice of starting point is really important. If we choose a starting point which is far away from the global minimum of the error function, we can get stuck in a local minimum.\n",
    "\n",
    "`In the linear regression we have only one minimum, so we can't get stuck in a local minimum. The sentece above is false.`"
   ]
  },
  {
   "cell_type": "markdown",
   "metadata": {},
   "source": [
    "## Q6\n",
    "As we already saw, we can do linear regression on many variables.\n",
    "\n",
    "The Boston housing dataset is really famous and is often used for this purpose. You can download it online or - better - load it using scikit-learn.\n",
    "\n",
    "If you wish to download and explore the data, feel free to. The scikit-learn way is\n",
    "\n",
    "```\n",
    "from sklearn.datasets import load_boston\n",
    "boston_data = load_boston()\n",
    "```\n",
    "\n",
    "You can see what the data is about like this:\n",
    "```\n",
    "print(boston_data.DESCR)\n",
    "```\n",
    "Note: This dataset is cleaned and prepared for modelling. If you want to download the original one and prepare it yourself, you're in for quite a challenge :).\n",
    "\n",
    "Perform linear regression on all features.\n",
    "\n",
    "What is the coefficient related to the number of rooms? Round your answer to two decimal places.\n",
    "```\n",
    "model = LinearRegression()\n",
    "model.fit(boston_data.data, boston_data.target)\n",
    "print(\"{:.2f}\".format(model.coef_[5]))\n",
    "```\n",
    "\n",
    "`3.80`\n",
    "\n",
    "What is the price of a hypothetical house with all variables set to zero? Round your answer to two decimal places.\n",
    "```\n",
    "print(\"{:.2f}\".format(model.intercept_))\n",
    "```\n",
    "\n",
    "`36.49`\n"
   ]
  },
  {
   "cell_type": "markdown",
   "metadata": {},
   "source": [
    "## Q7\n",
    "\n",
    "It's good to have a model of the data but it means nothing if we have no way of testing it.\n",
    "\n",
    "A way to test regression algorithms involves the so-called coefficient of determination, . Research how to compute it and apply it to the regression model you just created.\n",
    "\n",
    "What is the coefficient of determination for this model? Round your answer to two decimal places.\n",
    "\n",
    "Note: Compute the coefficient of determination using all the data.\n",
    "Technically, this is not correct but at least gives a good idea of how this model performs. If you're more interested, look up \"training and testing set\".\n",
    "\n",
    "```\n",
    "predicted_data = model.predict(boston_data.data)\n",
    "coefficient_of_determination = r2_score(boston_data.target, predicted_data)\n",
    "print(\"{:.2f}\".format(coefficient_of_determination))\n",
    "\n",
    "```\n",
    "`0.74`"
   ]
  }
 ],
 "metadata": {
  "kernelspec": {
   "display_name": "Python 3",
   "language": "python",
   "name": "python3"
  },
  "language_info": {
   "codemirror_mode": {
    "name": "ipython",
    "version": 3
   },
   "file_extension": ".py",
   "mimetype": "text/x-python",
   "name": "python",
   "nbconvert_exporter": "python",
   "pygments_lexer": "ipython3",
   "version": "3.7.3"
  }
 },
 "nbformat": 4,
 "nbformat_minor": 2
}
