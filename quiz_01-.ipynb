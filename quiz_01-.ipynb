{
 "cells": [
  {
   "cell_type": "markdown",
   "metadata": {},
   "source": [
    "# Quiz 1!"
   ]
  },
  {
   "cell_type": "code",
   "execution_count": 25,
   "metadata": {},
   "outputs": [],
   "source": [
    "import pandas as pd\n",
    "import numpy as np"
   ]
  },
  {
   "cell_type": "code",
   "execution_count": 4,
   "metadata": {},
   "outputs": [
    {
     "name": "stdout",
     "output_type": "stream",
     "text": [
      "      pclass  survived                                               name  \\\n",
      "0        1.0       1.0                      Allen, Miss. Elisabeth Walton   \n",
      "1        1.0       1.0                     Allison, Master. Hudson Trevor   \n",
      "2        1.0       0.0                       Allison, Miss. Helen Loraine   \n",
      "3        1.0       0.0               Allison, Mr. Hudson Joshua Creighton   \n",
      "4        1.0       0.0    Allison, Mrs. Hudson J C (Bessie Waldo Daniels)   \n",
      "5        1.0       1.0                                Anderson, Mr. Harry   \n",
      "6        1.0       1.0                  Andrews, Miss. Kornelia Theodosia   \n",
      "7        1.0       0.0                             Andrews, Mr. Thomas Jr   \n",
      "8        1.0       1.0      Appleton, Mrs. Edward Dale (Charlotte Lamson)   \n",
      "9        1.0       0.0                            Artagaveytia, Mr. Ramon   \n",
      "10       1.0       0.0                             Astor, Col. John Jacob   \n",
      "11       1.0       1.0  Astor, Mrs. John Jacob (Madeleine Talmadge Force)   \n",
      "12       1.0       1.0                      Aubart, Mme. Leontine Pauline   \n",
      "13       1.0       1.0                       Barber, Miss. Ellen \"Nellie\"   \n",
      "14       1.0       1.0               Barkworth, Mr. Algernon Henry Wilson   \n",
      "15       1.0       0.0                                Baumann, Mr. John D   \n",
      "16       1.0       0.0                           Baxter, Mr. Quigg Edmond   \n",
      "17       1.0       1.0    Baxter, Mrs. James (Helene DeLaudeniere Chaput)   \n",
      "18       1.0       1.0                              Bazzani, Miss. Albina   \n",
      "19       1.0       0.0                               Beattie, Mr. Thomson   \n",
      "20       1.0       1.0                      Beckwith, Mr. Richard Leonard   \n",
      "21       1.0       1.0   Beckwith, Mrs. Richard Leonard (Sallie Monypeny)   \n",
      "22       1.0       1.0                              Behr, Mr. Karl Howell   \n",
      "23       1.0       1.0                              Bidois, Miss. Rosalie   \n",
      "24       1.0       1.0                                  Bird, Miss. Ellen   \n",
      "25       1.0       0.0                                Birnbaum, Mr. Jakob   \n",
      "26       1.0       1.0                            Bishop, Mr. Dickinson H   \n",
      "27       1.0       1.0            Bishop, Mrs. Dickinson H (Helen Walton)   \n",
      "28       1.0       1.0                             Bissette, Miss. Amelia   \n",
      "29       1.0       1.0          Bjornstrom-Steffansson, Mr. Mauritz Hakan   \n",
      "...      ...       ...                                                ...   \n",
      "1280     3.0       0.0                                    Vovk, Mr. Janko   \n",
      "1281     3.0       0.0                               Waelens, Mr. Achille   \n",
      "1282     3.0       0.0                                Ware, Mr. Frederick   \n",
      "1283     3.0       0.0                        Warren, Mr. Charles William   \n",
      "1284     3.0       0.0                                  Webber, Mr. James   \n",
      "1285     3.0       0.0                                Wenzel, Mr. Linhart   \n",
      "1286     3.0       1.0    Whabee, Mrs. George Joseph (Shawneene Abi-Saab)   \n",
      "1287     3.0       0.0                   Widegren, Mr. Carl/Charles Peter   \n",
      "1288     3.0       0.0                          Wiklund, Mr. Jakob Alfred   \n",
      "1289     3.0       0.0                            Wiklund, Mr. Karl Johan   \n",
      "1290     3.0       1.0                   Wilkes, Mrs. James (Ellen Needs)   \n",
      "1291     3.0       0.0                   Willer, Mr. Aaron (\"Abi Weller\")   \n",
      "1292     3.0       0.0                                 Willey, Mr. Edward   \n",
      "1293     3.0       0.0                  Williams, Mr. Howard Hugh \"Harry\"   \n",
      "1294     3.0       0.0                               Williams, Mr. Leslie   \n",
      "1295     3.0       0.0                                Windelov, Mr. Einar   \n",
      "1296     3.0       0.0                                   Wirz, Mr. Albert   \n",
      "1297     3.0       0.0                             Wiseman, Mr. Phillippe   \n",
      "1298     3.0       0.0                          Wittevrongel, Mr. Camille   \n",
      "1299     3.0       0.0                                Yasbeck, Mr. Antoni   \n",
      "1300     3.0       1.0            Yasbeck, Mrs. Antoni (Selini Alexander)   \n",
      "1301     3.0       0.0                               Youseff, Mr. Gerious   \n",
      "1302     3.0       0.0                                  Yousif, Mr. Wazli   \n",
      "1303     3.0       0.0                              Yousseff, Mr. Gerious   \n",
      "1304     3.0       0.0                               Zabour, Miss. Hileni   \n",
      "1305     3.0       0.0                              Zabour, Miss. Thamine   \n",
      "1306     3.0       0.0                          Zakarian, Mr. Mapriededer   \n",
      "1307     3.0       0.0                                Zakarian, Mr. Ortin   \n",
      "1308     3.0       0.0                                 Zimmerman, Mr. Leo   \n",
      "1309     NaN       NaN                                                NaN   \n",
      "\n",
      "         sex      age  sibsp  parch            ticket      fare    cabin  \\\n",
      "0     female  29.0000    0.0    0.0             24160  211.3375       B5   \n",
      "1       male   0.9167    1.0    2.0            113781  151.5500  C22 C26   \n",
      "2     female   2.0000    1.0    2.0            113781  151.5500  C22 C26   \n",
      "3       male  30.0000    1.0    2.0            113781  151.5500  C22 C26   \n",
      "4     female  25.0000    1.0    2.0            113781  151.5500  C22 C26   \n",
      "5       male  48.0000    0.0    0.0             19952   26.5500      E12   \n",
      "6     female  63.0000    1.0    0.0             13502   77.9583       D7   \n",
      "7       male  39.0000    0.0    0.0            112050    0.0000      A36   \n",
      "8     female  53.0000    2.0    0.0             11769   51.4792     C101   \n",
      "9       male  71.0000    0.0    0.0          PC 17609   49.5042      NaN   \n",
      "10      male  47.0000    1.0    0.0          PC 17757  227.5250  C62 C64   \n",
      "11    female  18.0000    1.0    0.0          PC 17757  227.5250  C62 C64   \n",
      "12    female  24.0000    0.0    0.0          PC 17477   69.3000      B35   \n",
      "13    female  26.0000    0.0    0.0             19877   78.8500      NaN   \n",
      "14      male  80.0000    0.0    0.0             27042   30.0000      A23   \n",
      "15      male      NaN    0.0    0.0          PC 17318   25.9250      NaN   \n",
      "16      male  24.0000    0.0    1.0          PC 17558  247.5208  B58 B60   \n",
      "17    female  50.0000    0.0    1.0          PC 17558  247.5208  B58 B60   \n",
      "18    female  32.0000    0.0    0.0             11813   76.2917      D15   \n",
      "19      male  36.0000    0.0    0.0             13050   75.2417       C6   \n",
      "20      male  37.0000    1.0    1.0             11751   52.5542      D35   \n",
      "21    female  47.0000    1.0    1.0             11751   52.5542      D35   \n",
      "22      male  26.0000    0.0    0.0            111369   30.0000     C148   \n",
      "23    female  42.0000    0.0    0.0          PC 17757  227.5250      NaN   \n",
      "24    female  29.0000    0.0    0.0          PC 17483  221.7792      C97   \n",
      "25      male  25.0000    0.0    0.0             13905   26.0000      NaN   \n",
      "26      male  25.0000    1.0    0.0             11967   91.0792      B49   \n",
      "27    female  19.0000    1.0    0.0             11967   91.0792      B49   \n",
      "28    female  35.0000    0.0    0.0          PC 17760  135.6333      C99   \n",
      "29      male  28.0000    0.0    0.0            110564   26.5500      C52   \n",
      "...      ...      ...    ...    ...               ...       ...      ...   \n",
      "1280    male  22.0000    0.0    0.0            349252    7.8958      NaN   \n",
      "1281    male  22.0000    0.0    0.0            345767    9.0000      NaN   \n",
      "1282    male      NaN    0.0    0.0            359309    8.0500      NaN   \n",
      "1283    male      NaN    0.0    0.0        C.A. 49867    7.5500      NaN   \n",
      "1284    male      NaN    0.0    0.0  SOTON/OQ 3101316    8.0500      NaN   \n",
      "1285    male  32.5000    0.0    0.0            345775    9.5000      NaN   \n",
      "1286  female  38.0000    0.0    0.0              2688    7.2292      NaN   \n",
      "1287    male  51.0000    0.0    0.0            347064    7.7500      NaN   \n",
      "1288    male  18.0000    1.0    0.0           3101267    6.4958      NaN   \n",
      "1289    male  21.0000    1.0    0.0           3101266    6.4958      NaN   \n",
      "1290  female  47.0000    1.0    0.0            363272    7.0000      NaN   \n",
      "1291    male      NaN    0.0    0.0              3410    8.7125      NaN   \n",
      "1292    male      NaN    0.0    0.0     S.O./P.P. 751    7.5500      NaN   \n",
      "1293    male      NaN    0.0    0.0          A/5 2466    8.0500      NaN   \n",
      "1294    male  28.5000    0.0    0.0             54636   16.1000      NaN   \n",
      "1295    male  21.0000    0.0    0.0  SOTON/OQ 3101317    7.2500      NaN   \n",
      "1296    male  27.0000    0.0    0.0            315154    8.6625      NaN   \n",
      "1297    male      NaN    0.0    0.0        A/4. 34244    7.2500      NaN   \n",
      "1298    male  36.0000    0.0    0.0            345771    9.5000      NaN   \n",
      "1299    male  27.0000    1.0    0.0              2659   14.4542      NaN   \n",
      "1300  female  15.0000    1.0    0.0              2659   14.4542      NaN   \n",
      "1301    male  45.5000    0.0    0.0              2628    7.2250      NaN   \n",
      "1302    male      NaN    0.0    0.0              2647    7.2250      NaN   \n",
      "1303    male      NaN    0.0    0.0              2627   14.4583      NaN   \n",
      "1304  female  14.5000    1.0    0.0              2665   14.4542      NaN   \n",
      "1305  female      NaN    1.0    0.0              2665   14.4542      NaN   \n",
      "1306    male  26.5000    0.0    0.0              2656    7.2250      NaN   \n",
      "1307    male  27.0000    0.0    0.0              2670    7.2250      NaN   \n",
      "1308    male  29.0000    0.0    0.0            315082    7.8750      NaN   \n",
      "1309     NaN      NaN    NaN    NaN               NaN       NaN      NaN   \n",
      "\n",
      "     embarked boat   body                           home.dest  \n",
      "0           S    2    NaN                        St Louis, MO  \n",
      "1           S   11    NaN     Montreal, PQ / Chesterville, ON  \n",
      "2           S  NaN    NaN     Montreal, PQ / Chesterville, ON  \n",
      "3           S  NaN  135.0     Montreal, PQ / Chesterville, ON  \n",
      "4           S  NaN    NaN     Montreal, PQ / Chesterville, ON  \n",
      "5           S    3    NaN                        New York, NY  \n",
      "6           S   10    NaN                          Hudson, NY  \n",
      "7           S  NaN    NaN                         Belfast, NI  \n",
      "8           S    D    NaN                 Bayside, Queens, NY  \n",
      "9           C  NaN   22.0                 Montevideo, Uruguay  \n",
      "10          C  NaN  124.0                        New York, NY  \n",
      "11          C    4    NaN                        New York, NY  \n",
      "12          C    9    NaN                       Paris, France  \n",
      "13          S    6    NaN                                 NaN  \n",
      "14          S    B    NaN                       Hessle, Yorks  \n",
      "15          S  NaN    NaN                        New York, NY  \n",
      "16          C  NaN    NaN                        Montreal, PQ  \n",
      "17          C    6    NaN                        Montreal, PQ  \n",
      "18          C    8    NaN                                 NaN  \n",
      "19          C    A    NaN                        Winnipeg, MN  \n",
      "20          S    5    NaN                        New York, NY  \n",
      "21          S    5    NaN                        New York, NY  \n",
      "22          C    5    NaN                        New York, NY  \n",
      "23          C    4    NaN                                 NaN  \n",
      "24          S    8    NaN                                 NaN  \n",
      "25          C  NaN  148.0                   San Francisco, CA  \n",
      "26          C    7    NaN                        Dowagiac, MI  \n",
      "27          C    7    NaN                        Dowagiac, MI  \n",
      "28          S    8    NaN                                 NaN  \n",
      "29          S    D    NaN  Stockholm, Sweden / Washington, DC  \n",
      "...       ...  ...    ...                                 ...  \n",
      "1280        S  NaN    NaN                                 NaN  \n",
      "1281        S  NaN    NaN      Antwerp, Belgium / Stanton, OH  \n",
      "1282        S  NaN    NaN                                 NaN  \n",
      "1283        S  NaN    NaN                                 NaN  \n",
      "1284        S  NaN    NaN                                 NaN  \n",
      "1285        S  NaN  298.0                                 NaN  \n",
      "1286        C    C    NaN                                 NaN  \n",
      "1287        S  NaN    NaN                                 NaN  \n",
      "1288        S  NaN  314.0                                 NaN  \n",
      "1289        S  NaN    NaN                                 NaN  \n",
      "1290        S  NaN    NaN                                 NaN  \n",
      "1291        S  NaN    NaN                                 NaN  \n",
      "1292        S  NaN    NaN                                 NaN  \n",
      "1293        S  NaN    NaN                                 NaN  \n",
      "1294        S  NaN   14.0                                 NaN  \n",
      "1295        S  NaN    NaN                                 NaN  \n",
      "1296        S  NaN  131.0                                 NaN  \n",
      "1297        S  NaN    NaN                                 NaN  \n",
      "1298        S  NaN    NaN                                 NaN  \n",
      "1299        C    C    NaN                                 NaN  \n",
      "1300        C  NaN    NaN                                 NaN  \n",
      "1301        C  NaN  312.0                                 NaN  \n",
      "1302        C  NaN    NaN                                 NaN  \n",
      "1303        C  NaN    NaN                                 NaN  \n",
      "1304        C  NaN  328.0                                 NaN  \n",
      "1305        C  NaN    NaN                                 NaN  \n",
      "1306        C  NaN  304.0                                 NaN  \n",
      "1307        C  NaN    NaN                                 NaN  \n",
      "1308        S  NaN    NaN                                 NaN  \n",
      "1309      NaN  NaN    NaN                                 NaN  \n",
      "\n",
      "[1310 rows x 14 columns]\n"
     ]
    }
   ],
   "source": [
    "df = pd.read_csv('https://raw.githubusercontent.com/Geoyi/Cleaning-Titanic-Data/master/titanic_original.csv')\n",
    "print(df)"
   ]
  },
  {
   "cell_type": "code",
   "execution_count": 5,
   "metadata": {},
   "outputs": [
    {
     "data": {
      "text/plain": [
       "pclass          1\n",
       "survived        1\n",
       "name            1\n",
       "sex             1\n",
       "age           264\n",
       "sibsp           1\n",
       "parch           1\n",
       "ticket          1\n",
       "fare            2\n",
       "cabin        1015\n",
       "embarked        3\n",
       "boat          824\n",
       "body         1189\n",
       "home.dest     565\n",
       "dtype: int64"
      ]
     },
     "execution_count": 5,
     "metadata": {},
     "output_type": "execute_result"
    }
   ],
   "source": [
    "df.isnull().sum()"
   ]
  },
  {
   "cell_type": "code",
   "execution_count": 11,
   "metadata": {},
   "outputs": [
    {
     "name": "stdout",
     "output_type": "stream",
     "text": [
      "(150, 5)\n"
     ]
    }
   ],
   "source": [
    "df2 = pd.read_csv('https://archive.ics.uci.edu/ml/machine-learning-databases/iris/iris.data', header = None)\n",
    "df2.columns = [\"sepal_length\", \"sepal_width\", \"petal_length\", \"petal_width\", \"iris_class\"]\n",
    "print(df2.shape)"
   ]
  },
  {
   "cell_type": "code",
   "execution_count": 12,
   "metadata": {},
   "outputs": [
    {
     "data": {
      "text/html": [
       "<div>\n",
       "<style scoped>\n",
       "    .dataframe tbody tr th:only-of-type {\n",
       "        vertical-align: middle;\n",
       "    }\n",
       "\n",
       "    .dataframe tbody tr th {\n",
       "        vertical-align: top;\n",
       "    }\n",
       "\n",
       "    .dataframe thead th {\n",
       "        text-align: right;\n",
       "    }\n",
       "</style>\n",
       "<table border=\"1\" class=\"dataframe\">\n",
       "  <thead>\n",
       "    <tr style=\"text-align: right;\">\n",
       "      <th></th>\n",
       "      <th>sepal_length</th>\n",
       "      <th>sepal_width</th>\n",
       "      <th>petal_length</th>\n",
       "      <th>petal_width</th>\n",
       "      <th>iris_class</th>\n",
       "    </tr>\n",
       "  </thead>\n",
       "  <tbody>\n",
       "    <tr>\n",
       "      <th>0</th>\n",
       "      <td>5.1</td>\n",
       "      <td>3.5</td>\n",
       "      <td>1.4</td>\n",
       "      <td>0.2</td>\n",
       "      <td>Iris-setosa</td>\n",
       "    </tr>\n",
       "    <tr>\n",
       "      <th>1</th>\n",
       "      <td>4.9</td>\n",
       "      <td>3.0</td>\n",
       "      <td>1.4</td>\n",
       "      <td>0.2</td>\n",
       "      <td>Iris-setosa</td>\n",
       "    </tr>\n",
       "    <tr>\n",
       "      <th>2</th>\n",
       "      <td>4.7</td>\n",
       "      <td>3.2</td>\n",
       "      <td>1.3</td>\n",
       "      <td>0.2</td>\n",
       "      <td>Iris-setosa</td>\n",
       "    </tr>\n",
       "    <tr>\n",
       "      <th>3</th>\n",
       "      <td>4.6</td>\n",
       "      <td>3.1</td>\n",
       "      <td>1.5</td>\n",
       "      <td>0.2</td>\n",
       "      <td>Iris-setosa</td>\n",
       "    </tr>\n",
       "    <tr>\n",
       "      <th>4</th>\n",
       "      <td>5.0</td>\n",
       "      <td>3.6</td>\n",
       "      <td>1.4</td>\n",
       "      <td>0.2</td>\n",
       "      <td>Iris-setosa</td>\n",
       "    </tr>\n",
       "  </tbody>\n",
       "</table>\n",
       "</div>"
      ],
      "text/plain": [
       "   sepal_length  sepal_width  petal_length  petal_width   iris_class\n",
       "0           5.1          3.5           1.4          0.2  Iris-setosa\n",
       "1           4.9          3.0           1.4          0.2  Iris-setosa\n",
       "2           4.7          3.2           1.3          0.2  Iris-setosa\n",
       "3           4.6          3.1           1.5          0.2  Iris-setosa\n",
       "4           5.0          3.6           1.4          0.2  Iris-setosa"
      ]
     },
     "execution_count": 12,
     "metadata": {},
     "output_type": "execute_result"
    }
   ],
   "source": [
    "df2.head()"
   ]
  },
  {
   "cell_type": "code",
   "execution_count": 10,
   "metadata": {},
   "outputs": [
    {
     "data": {
      "text/plain": [
       "array(['Iris-setosa', 'Iris-versicolor', 'Iris-virginica'], dtype=object)"
      ]
     },
     "execution_count": 10,
     "metadata": {},
     "output_type": "execute_result"
    }
   ],
   "source": [
    "df2[4].unique()"
   ]
  },
  {
   "cell_type": "code",
   "execution_count": 26,
   "metadata": {},
   "outputs": [
    {
     "data": {
      "text/plain": [
       "3.83"
      ]
     },
     "execution_count": 26,
     "metadata": {},
     "output_type": "execute_result"
    }
   ],
   "source": [
    "df3 = df2[df2['sepal_length'].between(4.5, 10, inclusive=True)]\n",
    "df3.shape\n",
    "round(df3.petal_length.mean(), 2)\n"
   ]
  },
  {
   "cell_type": "code",
   "execution_count": 29,
   "metadata": {},
   "outputs": [
    {
     "data": {
      "text/html": [
       "<div>\n",
       "<style scoped>\n",
       "    .dataframe tbody tr th:only-of-type {\n",
       "        vertical-align: middle;\n",
       "    }\n",
       "\n",
       "    .dataframe tbody tr th {\n",
       "        vertical-align: top;\n",
       "    }\n",
       "\n",
       "    .dataframe thead th {\n",
       "        text-align: right;\n",
       "    }\n",
       "</style>\n",
       "<table border=\"1\" class=\"dataframe\">\n",
       "  <thead>\n",
       "    <tr style=\"text-align: right;\">\n",
       "      <th></th>\n",
       "      <th>fixed acidity</th>\n",
       "      <th>volatile acidity</th>\n",
       "      <th>citric acid</th>\n",
       "      <th>residual sugar</th>\n",
       "      <th>chlorides</th>\n",
       "      <th>free sulfur dioxide</th>\n",
       "      <th>total sulfur dioxide</th>\n",
       "      <th>density</th>\n",
       "      <th>pH</th>\n",
       "      <th>sulphates</th>\n",
       "      <th>alcohol</th>\n",
       "      <th>quality</th>\n",
       "    </tr>\n",
       "  </thead>\n",
       "  <tbody>\n",
       "    <tr>\n",
       "      <th>0</th>\n",
       "      <td>7.4</td>\n",
       "      <td>0.70</td>\n",
       "      <td>0.00</td>\n",
       "      <td>1.9</td>\n",
       "      <td>0.076</td>\n",
       "      <td>11.0</td>\n",
       "      <td>34.0</td>\n",
       "      <td>0.9978</td>\n",
       "      <td>3.51</td>\n",
       "      <td>0.56</td>\n",
       "      <td>9.4</td>\n",
       "      <td>5</td>\n",
       "    </tr>\n",
       "    <tr>\n",
       "      <th>1</th>\n",
       "      <td>7.8</td>\n",
       "      <td>0.88</td>\n",
       "      <td>0.00</td>\n",
       "      <td>2.6</td>\n",
       "      <td>0.098</td>\n",
       "      <td>25.0</td>\n",
       "      <td>67.0</td>\n",
       "      <td>0.9968</td>\n",
       "      <td>3.20</td>\n",
       "      <td>0.68</td>\n",
       "      <td>9.8</td>\n",
       "      <td>5</td>\n",
       "    </tr>\n",
       "    <tr>\n",
       "      <th>2</th>\n",
       "      <td>7.8</td>\n",
       "      <td>0.76</td>\n",
       "      <td>0.04</td>\n",
       "      <td>2.3</td>\n",
       "      <td>0.092</td>\n",
       "      <td>15.0</td>\n",
       "      <td>54.0</td>\n",
       "      <td>0.9970</td>\n",
       "      <td>3.26</td>\n",
       "      <td>0.65</td>\n",
       "      <td>9.8</td>\n",
       "      <td>5</td>\n",
       "    </tr>\n",
       "    <tr>\n",
       "      <th>3</th>\n",
       "      <td>11.2</td>\n",
       "      <td>0.28</td>\n",
       "      <td>0.56</td>\n",
       "      <td>1.9</td>\n",
       "      <td>0.075</td>\n",
       "      <td>17.0</td>\n",
       "      <td>60.0</td>\n",
       "      <td>0.9980</td>\n",
       "      <td>3.16</td>\n",
       "      <td>0.58</td>\n",
       "      <td>9.8</td>\n",
       "      <td>6</td>\n",
       "    </tr>\n",
       "    <tr>\n",
       "      <th>4</th>\n",
       "      <td>7.4</td>\n",
       "      <td>0.70</td>\n",
       "      <td>0.00</td>\n",
       "      <td>1.9</td>\n",
       "      <td>0.076</td>\n",
       "      <td>11.0</td>\n",
       "      <td>34.0</td>\n",
       "      <td>0.9978</td>\n",
       "      <td>3.51</td>\n",
       "      <td>0.56</td>\n",
       "      <td>9.4</td>\n",
       "      <td>5</td>\n",
       "    </tr>\n",
       "  </tbody>\n",
       "</table>\n",
       "</div>"
      ],
      "text/plain": [
       "   fixed acidity  volatile acidity  citric acid  residual sugar  chlorides  \\\n",
       "0            7.4              0.70         0.00             1.9      0.076   \n",
       "1            7.8              0.88         0.00             2.6      0.098   \n",
       "2            7.8              0.76         0.04             2.3      0.092   \n",
       "3           11.2              0.28         0.56             1.9      0.075   \n",
       "4            7.4              0.70         0.00             1.9      0.076   \n",
       "\n",
       "   free sulfur dioxide  total sulfur dioxide  density    pH  sulphates  \\\n",
       "0                 11.0                  34.0   0.9978  3.51       0.56   \n",
       "1                 25.0                  67.0   0.9968  3.20       0.68   \n",
       "2                 15.0                  54.0   0.9970  3.26       0.65   \n",
       "3                 17.0                  60.0   0.9980  3.16       0.58   \n",
       "4                 11.0                  34.0   0.9978  3.51       0.56   \n",
       "\n",
       "   alcohol  quality  \n",
       "0      9.4        5  \n",
       "1      9.8        5  \n",
       "2      9.8        5  \n",
       "3      9.8        6  \n",
       "4      9.4        5  "
      ]
     },
     "execution_count": 29,
     "metadata": {},
     "output_type": "execute_result"
    }
   ],
   "source": [
    "red = pd.read_csv('http://archive.ics.uci.edu/ml/machine-learning-databases/wine-quality/winequality-red.csv', sep=\";\")\n",
    "white = pd.read_csv('http://archive.ics.uci.edu/ml/machine-learning-databases/wine-quality/winequality-white.csv', sep=\";\")\n",
    "\n"
   ]
  },
  {
   "cell_type": "code",
   "execution_count": 30,
   "metadata": {},
   "outputs": [
    {
     "data": {
      "text/plain": [
       "5.6360225140712945"
      ]
     },
     "execution_count": 30,
     "metadata": {},
     "output_type": "execute_result"
    }
   ],
   "source": [
    "np.mean(red.quality)"
   ]
  },
  {
   "cell_type": "code",
   "execution_count": 32,
   "metadata": {},
   "outputs": [
    {
     "data": {
      "text/plain": [
       "5.87790935075541"
      ]
     },
     "execution_count": 32,
     "metadata": {},
     "output_type": "execute_result"
    }
   ],
   "source": [
    "np.mean(white.quality)"
   ]
  },
  {
   "cell_type": "code",
   "execution_count": 33,
   "metadata": {},
   "outputs": [],
   "source": [
    "red_corr_alcohol_quality = red.alcohol.corr(red.quality)"
   ]
  },
  {
   "cell_type": "code",
   "execution_count": 34,
   "metadata": {},
   "outputs": [],
   "source": [
    "white_corr_alcohol_quality = white.alcohol.corr(white.quality)"
   ]
  },
  {
   "cell_type": "code",
   "execution_count": 37,
   "metadata": {},
   "outputs": [
    {
     "name": "stdout",
     "output_type": "stream",
     "text": [
      "Correlation between red wine and alcohol quality is: 0.48 Correlation between white wine and alcohol quality is: 0.44\n"
     ]
    }
   ],
   "source": [
    "print('Correlation between red wine and alcohol quality is: '+str(round(red_corr_alcohol_quality, 2))+' Correlation between white wine and alcohol quality is: '+str(round(white_corr_alcohol_quality, 2)))"
   ]
  },
  {
   "cell_type": "code",
   "execution_count": null,
   "metadata": {},
   "outputs": [],
   "source": []
  }
 ],
 "metadata": {
  "kernelspec": {
   "display_name": "Python 3",
   "language": "python",
   "name": "python3"
  },
  "language_info": {
   "codemirror_mode": {
    "name": "ipython",
    "version": 3
   },
   "file_extension": ".py",
   "mimetype": "text/x-python",
   "name": "python",
   "nbconvert_exporter": "python",
   "pygments_lexer": "ipython3",
   "version": "3.6.7"
  }
 },
 "nbformat": 4,
 "nbformat_minor": 2
}
