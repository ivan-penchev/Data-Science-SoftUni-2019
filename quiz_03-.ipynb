{
 "cells": [
  {
   "cell_type": "code",
   "execution_count": 98,
   "metadata": {},
   "outputs": [],
   "source": [
    "%matplotlib inline\n",
    "import matplotlib.pyplot as plt\n",
    "import numpy as np\n",
    "import skimage.io\n",
    "from skimage.io import imread, imshow\n",
    "\n",
    "import skimage.morphology\n",
    "from collections import Counter\n",
    "import re\n",
    "import nltk\n",
    "from nltk.corpus import stopwords"
   ]
  },
  {
   "cell_type": "markdown",
   "metadata": {},
   "source": [
    "## Q1 \n",
    "This delicious hamburger image is a standard RGB image.\n",
    "\n",
    "You can either compute the answer or read the image and see how much space it takes.\n",
    "\n",
    "How much memory (in bytes) will this image take?\n"
   ]
  },
  {
   "cell_type": "code",
   "execution_count": 79,
   "metadata": {},
   "outputs": [
    {
     "name": "stdout",
     "output_type": "stream",
     "text": [
      "783126\n"
     ]
    }
   ],
   "source": [
    "img=skimage.io.imread('Data/hamburger.jpg')\n",
    "print(img.nbytes)"
   ]
  },
  {
   "cell_type": "markdown",
   "metadata": {},
   "source": [
    "## Q3\n",
    "Dominant Channel\n",
    "\n",
    "An indication of the dominant color of the image can be the dominant channel, i.e. the channel (R, G or B) with the greatest average brightness (intensity).\n",
    "\n",
    "You're already familiar with the hamburger image. Read it using Python.\n",
    "\n",
    "What is the mean brightness of the dominant channel in this image? Round your answer to two decimal places."
   ]
  },
  {
   "cell_type": "code",
   "execution_count": 38,
   "metadata": {},
   "outputs": [
    {
     "name": "stdout",
     "output_type": "stream",
     "text": [
      "Image mean values for \n",
      "red: 90.09 green: 84.07 blue: 36.79\n"
     ]
    }
   ],
   "source": [
    "red = img[:, :, 0]\n",
    "green = img[:, :, 1]\n",
    "blue = img[:, :, 2]\n",
    "\n",
    "print(\"Image mean values for \")\n",
    "print(\"red: \" + str(round(red.mean(),2))+ \" green: \"+ str(round(green.mean(),2))+ \" blue: \" + str(round(blue.mean(),2)))\n"
   ]
  },
  {
   "cell_type": "markdown",
   "metadata": {},
   "source": [
    "## Q4\n",
    "Morphology\n",
    "\n",
    "Read the blue (third) channel of the hamburger image. Perform binary opening on this channel. You can use skimage. Use a 3x3 square as the structuring element.\n",
    "\n",
    "This will return a boolean array which you can convert to numbers. Optionally, display the resulting image.\n",
    "\n",
    "How many white pixels does the resulting image contain?"
   ]
  },
  {
   "cell_type": "code",
   "execution_count": 64,
   "metadata": {},
   "outputs": [
    {
     "data": {
      "image/png": "[encoded data removed]",
      "text/plain": [
       "<Figure size 432x288 with 1 Axes>"
      ]
     },
     "metadata": {
      "needs_background": "light"
     },
     "output_type": "display_data"
    }
   ],
   "source": [
    "a = np.ones((3,3), dtype=np.int)\n",
    "img_after_opening = skimage.morphology.binary_opening(blue, selem=skimage.morphology.square(3)).astype(int)\n",
    "plt.imshow(img_after_opening)\n",
    "plt.show()"
   ]
  },
  {
   "cell_type": "code",
   "execution_count": 74,
   "metadata": {},
   "outputs": [
    {
     "name": "stdout",
     "output_type": "stream",
     "text": [
      "White pixels count: (182990,)\n",
      "Number of white pixels: 182990\n"
     ]
    }
   ],
   "source": [
    "print(\"White pixels count:\", (img_after_opening[img_after_opening==1]).shape )\n",
    "\n",
    "print('Number of white pixels:', np.sum(img_after_opening))"
   ]
  },
  {
   "cell_type": "markdown",
   "metadata": {},
   "source": [
    "## Q ??\n",
    "\n",
    "The most popular text in Project Gutenberg is the book \"Pride and Prejudice\" by Jane Austen, located here.\n",
    "\n",
    "Read the entire text. Split by non-word characters to get all words.\n",
    "\n",
    "How many times does the word \"pride\" occur in the entire Web page?\n",
    "\n",
    "How many times does the word \"prejudice\" occur in the entire Web page?\n"
   ]
  },
  {
   "cell_type": "code",
   "execution_count": 93,
   "metadata": {},
   "outputs": [
    {
     "name": "stdout",
     "output_type": "stream",
     "text": [
      "704190\n",
      "53\n",
      "11\n"
     ]
    }
   ],
   "source": [
    "text = \"\"\n",
    "with open(\"Data/Pride-and-Prejudice.txt\", \"r\", encoding = \"utf-8\") as f:\n",
    "    text = f.read()\n",
    "print(len(text))\n",
    "word_counter = Counter(re.split(\"\\W+\", text.lower()))\n",
    "print(word_counter['pride'])\n",
    "print(word_counter['prejudice'])"
   ]
  },
  {
   "cell_type": "markdown",
   "metadata": {},
   "source": [
    "## Q??\n",
    "Remove all stopwords. Once again, count all remaining words.\n",
    "\n",
    "What's the name of the protagonist (main character) in the book?"
   ]
  },
  {
   "cell_type": "code",
   "execution_count": 102,
   "metadata": {},
   "outputs": [
    {
     "data": {
      "text/plain": [
       "[('mr', 785),\n",
       " ('elizabeth', 635),\n",
       " ('could', 527),\n",
       " ('would', 468),\n",
       " ('darcy', 417),\n",
       " ('said', 401),\n",
       " ('mrs', 343),\n",
       " ('much', 327),\n",
       " ('bennet', 323),\n",
       " ('must', 315),\n",
       " ('bingley', 306),\n",
       " ('jane', 295),\n",
       " ('miss', 283),\n",
       " ('one', 270),\n",
       " ('know', 237),\n",
       " ('though', 226),\n",
       " ('well', 224),\n",
       " ('never', 218),\n",
       " ('sister', 218),\n",
       " ('soon', 216)]"
      ]
     },
     "execution_count": 102,
     "metadata": {},
     "output_type": "execute_result"
    }
   ],
   "source": [
    "\n",
    "book_words = re.split(\"\\\\W+\",text.lower())\n",
    "stop = stopwords.words(\"english\")\n",
    "counter_without_stopers = Counter([w for w in book_words if w not in stop])\n",
    "counter_without_stopers.most_common(20)"
   ]
  }
 ],
 "metadata": {
  "kernelspec": {
   "display_name": "Python 3",
   "language": "python",
   "name": "python3"
  },
  "language_info": {
   "codemirror_mode": {
    "name": "ipython",
    "version": 3
   },
   "file_extension": ".py",
   "mimetype": "text/x-python",
   "name": "python",
   "nbconvert_exporter": "python",
   "pygments_lexer": "ipython3",
   "version": "3.7.3"
  }
 },
 "nbformat": 4,
 "nbformat_minor": 2
}
