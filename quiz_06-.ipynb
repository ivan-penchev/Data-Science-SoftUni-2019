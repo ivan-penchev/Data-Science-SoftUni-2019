{
 "cells": [
  {
   "cell_type": "markdown",
   "metadata": {},
   "source": [
    "## Q1\n",
    "Which convention is typically used in Python for local variable names?\n",
    "\n",
    "snake_case\n",
    "\n",
    "## Q2\n",
    "If you create a Python class, you will probably need a constructor.\n",
    "\n",
    "What is the method signature of a constructor with no arguments in Python?\n",
    "\n",
    "Hint: Try it yourself and copy the answer directly.\n",
    "\n",
    " \n",
    " def __init__(self)\n",
    "\n",
    "## Q3\n",
    "When we perform a function call, the Python interpreter saves \"the current state\" (called environment in technical terms) in a specific data structure. What is this structure called?\n",
    "\n",
    "\n",
    "Call stack \n",
    "\n",
    "## Q4\n",
    "\n",
    "\n",
    "Imagine you write some code. A colleague leaves a written code review. As part of the review, they state that \"your code demonstrates strong cohesion and loose coupling\". Is that good or bad?\n",
    "\n",
    "\n",
    "Good \n",
    "\n",
    "## Q5\n",
    "\n",
    "Which of the following describes unit testing best?\n",
    "\n",
    "\n",
    "Testing a single function, method, or class correct\n",
    "\n",
    "## Q6\n",
    "\n",
    "Which of the following options is a fully reproducible study? Note that there is a distinction between replication and reproducibility.\n",
    "\n",
    "\n",
    "The data and code are available; when the code is run on the data, it gives similar results to the original study \n",
    "\n",
    "## Q7\n",
    "\n",
    "Evidence-based research gives more freedom to the researcher to choose variables, algorithms, and parameters.\n",
    "\n",
    "\n",
    "\n",
    "False"
   ]
  }
 ],
 "metadata": {
  "kernelspec": {
   "display_name": "Python 3",
   "language": "python",
   "name": "python3"
  },
  "language_info": {
   "codemirror_mode": {
    "name": "ipython",
    "version": 3
   },
   "file_extension": ".py",
   "mimetype": "text/x-python",
   "name": "python",
   "nbconvert_exporter": "python",
   "pygments_lexer": "ipython3",
   "version": "3.7.3"
  }
 },
 "nbformat": 4,
 "nbformat_minor": 2
}
