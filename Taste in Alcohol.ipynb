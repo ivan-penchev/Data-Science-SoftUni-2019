{
 "cells": [
  {
   "cell_type": "code",
   "execution_count": 1,
   "metadata": {},
   "outputs": [],
   "source": [
    "%matplotlib inline"
   ]
  },
  {
   "cell_type": "code",
   "execution_count": 113,
   "metadata": {},
   "outputs": [],
   "source": [
    "import numpy as np\n",
    "import pandas as pd\n",
    "import matplotlib.pyplot as plt\n",
    "\n",
    "import seaborn as sns"
   ]
  },
  {
   "cell_type": "markdown",
   "metadata": {},
   "source": [
    "# People's Taste in Alcohol\n",
    "## An exploration of beer and wine ratings\n",
    "\n",
    "## Author: Yordan Darakchiev"
   ]
  },
  {
   "cell_type": "markdown",
   "metadata": {},
   "source": [
    "### Abstract\n",
    "TODO"
   ]
  },
  {
   "cell_type": "markdown",
   "metadata": {},
   "source": [
    "### Getting data"
   ]
  },
  {
   "cell_type": "code",
   "execution_count": 3,
   "metadata": {},
   "outputs": [],
   "source": [
    "beer_reviews = pd.read_csv(\"data/beer_reviews.csv\")"
   ]
  },
  {
   "cell_type": "code",
   "execution_count": 4,
   "metadata": {},
   "outputs": [
    {
     "data": {
      "text/html": [
       "<div>\n",
       "<style scoped>\n",
       "    .dataframe tbody tr th:only-of-type {\n",
       "        vertical-align: middle;\n",
       "    }\n",
       "\n",
       "    .dataframe tbody tr th {\n",
       "        vertical-align: top;\n",
       "    }\n",
       "\n",
       "    .dataframe thead th {\n",
       "        text-align: right;\n",
       "    }\n",
       "</style>\n",
       "<table border=\"1\" class=\"dataframe\">\n",
       "  <thead>\n",
       "    <tr style=\"text-align: right;\">\n",
       "      <th></th>\n",
       "      <th>brewery_id</th>\n",
       "      <th>brewery_name</th>\n",
       "      <th>review_time</th>\n",
       "      <th>review_overall</th>\n",
       "      <th>review_aroma</th>\n",
       "      <th>review_appearance</th>\n",
       "      <th>review_profilename</th>\n",
       "      <th>beer_style</th>\n",
       "      <th>review_palate</th>\n",
       "      <th>review_taste</th>\n",
       "      <th>beer_name</th>\n",
       "      <th>beer_abv</th>\n",
       "      <th>beer_beerid</th>\n",
       "    </tr>\n",
       "  </thead>\n",
       "  <tbody>\n",
       "    <tr>\n",
       "      <th>0</th>\n",
       "      <td>10325</td>\n",
       "      <td>Vecchio Birraio</td>\n",
       "      <td>1234817823</td>\n",
       "      <td>1.5</td>\n",
       "      <td>2.0</td>\n",
       "      <td>2.5</td>\n",
       "      <td>stcules</td>\n",
       "      <td>Hefeweizen</td>\n",
       "      <td>1.5</td>\n",
       "      <td>1.5</td>\n",
       "      <td>Sausa Weizen</td>\n",
       "      <td>5.0</td>\n",
       "      <td>47986</td>\n",
       "    </tr>\n",
       "    <tr>\n",
       "      <th>1</th>\n",
       "      <td>10325</td>\n",
       "      <td>Vecchio Birraio</td>\n",
       "      <td>1235915097</td>\n",
       "      <td>3.0</td>\n",
       "      <td>2.5</td>\n",
       "      <td>3.0</td>\n",
       "      <td>stcules</td>\n",
       "      <td>English Strong Ale</td>\n",
       "      <td>3.0</td>\n",
       "      <td>3.0</td>\n",
       "      <td>Red Moon</td>\n",
       "      <td>6.2</td>\n",
       "      <td>48213</td>\n",
       "    </tr>\n",
       "    <tr>\n",
       "      <th>2</th>\n",
       "      <td>10325</td>\n",
       "      <td>Vecchio Birraio</td>\n",
       "      <td>1235916604</td>\n",
       "      <td>3.0</td>\n",
       "      <td>2.5</td>\n",
       "      <td>3.0</td>\n",
       "      <td>stcules</td>\n",
       "      <td>Foreign / Export Stout</td>\n",
       "      <td>3.0</td>\n",
       "      <td>3.0</td>\n",
       "      <td>Black Horse Black Beer</td>\n",
       "      <td>6.5</td>\n",
       "      <td>48215</td>\n",
       "    </tr>\n",
       "    <tr>\n",
       "      <th>3</th>\n",
       "      <td>10325</td>\n",
       "      <td>Vecchio Birraio</td>\n",
       "      <td>1234725145</td>\n",
       "      <td>3.0</td>\n",
       "      <td>3.0</td>\n",
       "      <td>3.5</td>\n",
       "      <td>stcules</td>\n",
       "      <td>German Pilsener</td>\n",
       "      <td>2.5</td>\n",
       "      <td>3.0</td>\n",
       "      <td>Sausa Pils</td>\n",
       "      <td>5.0</td>\n",
       "      <td>47969</td>\n",
       "    </tr>\n",
       "    <tr>\n",
       "      <th>4</th>\n",
       "      <td>1075</td>\n",
       "      <td>Caldera Brewing Company</td>\n",
       "      <td>1293735206</td>\n",
       "      <td>4.0</td>\n",
       "      <td>4.5</td>\n",
       "      <td>4.0</td>\n",
       "      <td>johnmichaelsen</td>\n",
       "      <td>American Double / Imperial IPA</td>\n",
       "      <td>4.0</td>\n",
       "      <td>4.5</td>\n",
       "      <td>Cauldron DIPA</td>\n",
       "      <td>7.7</td>\n",
       "      <td>64883</td>\n",
       "    </tr>\n",
       "  </tbody>\n",
       "</table>\n",
       "</div>"
      ],
      "text/plain": [
       "   brewery_id             brewery_name  review_time  review_overall  \\\n",
       "0       10325          Vecchio Birraio   1234817823             1.5   \n",
       "1       10325          Vecchio Birraio   1235915097             3.0   \n",
       "2       10325          Vecchio Birraio   1235916604             3.0   \n",
       "3       10325          Vecchio Birraio   1234725145             3.0   \n",
       "4        1075  Caldera Brewing Company   1293735206             4.0   \n",
       "\n",
       "   review_aroma  review_appearance review_profilename  \\\n",
       "0           2.0                2.5            stcules   \n",
       "1           2.5                3.0            stcules   \n",
       "2           2.5                3.0            stcules   \n",
       "3           3.0                3.5            stcules   \n",
       "4           4.5                4.0     johnmichaelsen   \n",
       "\n",
       "                       beer_style  review_palate  review_taste  \\\n",
       "0                      Hefeweizen            1.5           1.5   \n",
       "1              English Strong Ale            3.0           3.0   \n",
       "2          Foreign / Export Stout            3.0           3.0   \n",
       "3                 German Pilsener            2.5           3.0   \n",
       "4  American Double / Imperial IPA            4.0           4.5   \n",
       "\n",
       "                beer_name  beer_abv  beer_beerid  \n",
       "0            Sausa Weizen       5.0        47986  \n",
       "1                Red Moon       6.2        48213  \n",
       "2  Black Horse Black Beer       6.5        48215  \n",
       "3              Sausa Pils       5.0        47969  \n",
       "4           Cauldron DIPA       7.7        64883  "
      ]
     },
     "execution_count": 4,
     "metadata": {},
     "output_type": "execute_result"
    }
   ],
   "source": [
    "beer_reviews.head()"
   ]
  },
  {
   "cell_type": "code",
   "execution_count": 5,
   "metadata": {},
   "outputs": [
    {
     "data": {
      "text/plain": [
       "(1586614, 13)"
      ]
     },
     "execution_count": 5,
     "metadata": {},
     "output_type": "execute_result"
    }
   ],
   "source": [
    "beer_reviews.shape"
   ]
  },
  {
   "cell_type": "code",
   "execution_count": 6,
   "metadata": {},
   "outputs": [],
   "source": [
    "beer_reviews = beer_reviews[[\"beer_beerid\", \"brewery_id\", \"brewery_name\",\n",
    "                            \"review_profilename\", \"review_time\",\n",
    "                            \"beer_style\", \"beer_name\", \"beer_abv\",\n",
    "                            \"review_overall\", \"review_aroma\", \"review_appearance\", \"review_palate\", \"review_taste\"]]"
   ]
  },
  {
   "cell_type": "code",
   "execution_count": 7,
   "metadata": {},
   "outputs": [
    {
     "data": {
      "text/html": [
       "<div>\n",
       "<style scoped>\n",
       "    .dataframe tbody tr th:only-of-type {\n",
       "        vertical-align: middle;\n",
       "    }\n",
       "\n",
       "    .dataframe tbody tr th {\n",
       "        vertical-align: top;\n",
       "    }\n",
       "\n",
       "    .dataframe thead th {\n",
       "        text-align: right;\n",
       "    }\n",
       "</style>\n",
       "<table border=\"1\" class=\"dataframe\">\n",
       "  <thead>\n",
       "    <tr style=\"text-align: right;\">\n",
       "      <th></th>\n",
       "      <th>beer_beerid</th>\n",
       "      <th>brewery_id</th>\n",
       "      <th>brewery_name</th>\n",
       "      <th>review_profilename</th>\n",
       "      <th>review_time</th>\n",
       "      <th>beer_style</th>\n",
       "      <th>beer_name</th>\n",
       "      <th>beer_abv</th>\n",
       "      <th>review_overall</th>\n",
       "      <th>review_aroma</th>\n",
       "      <th>review_appearance</th>\n",
       "      <th>review_palate</th>\n",
       "      <th>review_taste</th>\n",
       "    </tr>\n",
       "  </thead>\n",
       "  <tbody>\n",
       "    <tr>\n",
       "      <th>0</th>\n",
       "      <td>47986</td>\n",
       "      <td>10325</td>\n",
       "      <td>Vecchio Birraio</td>\n",
       "      <td>stcules</td>\n",
       "      <td>1234817823</td>\n",
       "      <td>Hefeweizen</td>\n",
       "      <td>Sausa Weizen</td>\n",
       "      <td>5.0</td>\n",
       "      <td>1.5</td>\n",
       "      <td>2.0</td>\n",
       "      <td>2.5</td>\n",
       "      <td>1.5</td>\n",
       "      <td>1.5</td>\n",
       "    </tr>\n",
       "    <tr>\n",
       "      <th>1</th>\n",
       "      <td>48213</td>\n",
       "      <td>10325</td>\n",
       "      <td>Vecchio Birraio</td>\n",
       "      <td>stcules</td>\n",
       "      <td>1235915097</td>\n",
       "      <td>English Strong Ale</td>\n",
       "      <td>Red Moon</td>\n",
       "      <td>6.2</td>\n",
       "      <td>3.0</td>\n",
       "      <td>2.5</td>\n",
       "      <td>3.0</td>\n",
       "      <td>3.0</td>\n",
       "      <td>3.0</td>\n",
       "    </tr>\n",
       "    <tr>\n",
       "      <th>2</th>\n",
       "      <td>48215</td>\n",
       "      <td>10325</td>\n",
       "      <td>Vecchio Birraio</td>\n",
       "      <td>stcules</td>\n",
       "      <td>1235916604</td>\n",
       "      <td>Foreign / Export Stout</td>\n",
       "      <td>Black Horse Black Beer</td>\n",
       "      <td>6.5</td>\n",
       "      <td>3.0</td>\n",
       "      <td>2.5</td>\n",
       "      <td>3.0</td>\n",
       "      <td>3.0</td>\n",
       "      <td>3.0</td>\n",
       "    </tr>\n",
       "    <tr>\n",
       "      <th>3</th>\n",
       "      <td>47969</td>\n",
       "      <td>10325</td>\n",
       "      <td>Vecchio Birraio</td>\n",
       "      <td>stcules</td>\n",
       "      <td>1234725145</td>\n",
       "      <td>German Pilsener</td>\n",
       "      <td>Sausa Pils</td>\n",
       "      <td>5.0</td>\n",
       "      <td>3.0</td>\n",
       "      <td>3.0</td>\n",
       "      <td>3.5</td>\n",
       "      <td>2.5</td>\n",
       "      <td>3.0</td>\n",
       "    </tr>\n",
       "    <tr>\n",
       "      <th>4</th>\n",
       "      <td>64883</td>\n",
       "      <td>1075</td>\n",
       "      <td>Caldera Brewing Company</td>\n",
       "      <td>johnmichaelsen</td>\n",
       "      <td>1293735206</td>\n",
       "      <td>American Double / Imperial IPA</td>\n",
       "      <td>Cauldron DIPA</td>\n",
       "      <td>7.7</td>\n",
       "      <td>4.0</td>\n",
       "      <td>4.5</td>\n",
       "      <td>4.0</td>\n",
       "      <td>4.0</td>\n",
       "      <td>4.5</td>\n",
       "    </tr>\n",
       "    <tr>\n",
       "      <th>5</th>\n",
       "      <td>52159</td>\n",
       "      <td>1075</td>\n",
       "      <td>Caldera Brewing Company</td>\n",
       "      <td>oline73</td>\n",
       "      <td>1325524659</td>\n",
       "      <td>Herbed / Spiced Beer</td>\n",
       "      <td>Caldera Ginger Beer</td>\n",
       "      <td>4.7</td>\n",
       "      <td>3.0</td>\n",
       "      <td>3.5</td>\n",
       "      <td>3.5</td>\n",
       "      <td>3.0</td>\n",
       "      <td>3.5</td>\n",
       "    </tr>\n",
       "    <tr>\n",
       "      <th>6</th>\n",
       "      <td>52159</td>\n",
       "      <td>1075</td>\n",
       "      <td>Caldera Brewing Company</td>\n",
       "      <td>Reidrover</td>\n",
       "      <td>1318991115</td>\n",
       "      <td>Herbed / Spiced Beer</td>\n",
       "      <td>Caldera Ginger Beer</td>\n",
       "      <td>4.7</td>\n",
       "      <td>3.5</td>\n",
       "      <td>3.5</td>\n",
       "      <td>3.5</td>\n",
       "      <td>4.0</td>\n",
       "      <td>4.0</td>\n",
       "    </tr>\n",
       "    <tr>\n",
       "      <th>7</th>\n",
       "      <td>52159</td>\n",
       "      <td>1075</td>\n",
       "      <td>Caldera Brewing Company</td>\n",
       "      <td>alpinebryant</td>\n",
       "      <td>1306276018</td>\n",
       "      <td>Herbed / Spiced Beer</td>\n",
       "      <td>Caldera Ginger Beer</td>\n",
       "      <td>4.7</td>\n",
       "      <td>3.0</td>\n",
       "      <td>2.5</td>\n",
       "      <td>3.5</td>\n",
       "      <td>2.0</td>\n",
       "      <td>3.5</td>\n",
       "    </tr>\n",
       "    <tr>\n",
       "      <th>8</th>\n",
       "      <td>52159</td>\n",
       "      <td>1075</td>\n",
       "      <td>Caldera Brewing Company</td>\n",
       "      <td>LordAdmNelson</td>\n",
       "      <td>1290454503</td>\n",
       "      <td>Herbed / Spiced Beer</td>\n",
       "      <td>Caldera Ginger Beer</td>\n",
       "      <td>4.7</td>\n",
       "      <td>4.0</td>\n",
       "      <td>3.0</td>\n",
       "      <td>3.5</td>\n",
       "      <td>3.5</td>\n",
       "      <td>4.0</td>\n",
       "    </tr>\n",
       "    <tr>\n",
       "      <th>9</th>\n",
       "      <td>52159</td>\n",
       "      <td>1075</td>\n",
       "      <td>Caldera Brewing Company</td>\n",
       "      <td>augustgarage</td>\n",
       "      <td>1285632924</td>\n",
       "      <td>Herbed / Spiced Beer</td>\n",
       "      <td>Caldera Ginger Beer</td>\n",
       "      <td>4.7</td>\n",
       "      <td>4.5</td>\n",
       "      <td>3.5</td>\n",
       "      <td>5.0</td>\n",
       "      <td>4.0</td>\n",
       "      <td>4.0</td>\n",
       "    </tr>\n",
       "    <tr>\n",
       "      <th>10</th>\n",
       "      <td>436</td>\n",
       "      <td>163</td>\n",
       "      <td>Amstel Brouwerij B. V.</td>\n",
       "      <td>fodeeoz</td>\n",
       "      <td>1010963392</td>\n",
       "      <td>Light Lager</td>\n",
       "      <td>Amstel Light</td>\n",
       "      <td>3.5</td>\n",
       "      <td>3.0</td>\n",
       "      <td>2.0</td>\n",
       "      <td>3.0</td>\n",
       "      <td>2.5</td>\n",
       "      <td>2.5</td>\n",
       "    </tr>\n",
       "    <tr>\n",
       "      <th>11</th>\n",
       "      <td>52159</td>\n",
       "      <td>1075</td>\n",
       "      <td>Caldera Brewing Company</td>\n",
       "      <td>MadeInOregon</td>\n",
       "      <td>1283154365</td>\n",
       "      <td>Herbed / Spiced Beer</td>\n",
       "      <td>Caldera Ginger Beer</td>\n",
       "      <td>4.7</td>\n",
       "      <td>5.0</td>\n",
       "      <td>5.0</td>\n",
       "      <td>4.0</td>\n",
       "      <td>4.0</td>\n",
       "      <td>4.0</td>\n",
       "    </tr>\n",
       "    <tr>\n",
       "      <th>12</th>\n",
       "      <td>52159</td>\n",
       "      <td>1075</td>\n",
       "      <td>Caldera Brewing Company</td>\n",
       "      <td>rawthar</td>\n",
       "      <td>1277557990</td>\n",
       "      <td>Herbed / Spiced Beer</td>\n",
       "      <td>Caldera Ginger Beer</td>\n",
       "      <td>4.7</td>\n",
       "      <td>4.0</td>\n",
       "      <td>4.0</td>\n",
       "      <td>4.0</td>\n",
       "      <td>3.5</td>\n",
       "      <td>4.0</td>\n",
       "    </tr>\n",
       "    <tr>\n",
       "      <th>13</th>\n",
       "      <td>52159</td>\n",
       "      <td>1075</td>\n",
       "      <td>Caldera Brewing Company</td>\n",
       "      <td>Halcyondays</td>\n",
       "      <td>1275779250</td>\n",
       "      <td>Herbed / Spiced Beer</td>\n",
       "      <td>Caldera Ginger Beer</td>\n",
       "      <td>4.7</td>\n",
       "      <td>4.0</td>\n",
       "      <td>4.5</td>\n",
       "      <td>3.0</td>\n",
       "      <td>2.5</td>\n",
       "      <td>3.0</td>\n",
       "    </tr>\n",
       "    <tr>\n",
       "      <th>14</th>\n",
       "      <td>52159</td>\n",
       "      <td>1075</td>\n",
       "      <td>Caldera Brewing Company</td>\n",
       "      <td>RangerClegg</td>\n",
       "      <td>1273109020</td>\n",
       "      <td>Herbed / Spiced Beer</td>\n",
       "      <td>Caldera Ginger Beer</td>\n",
       "      <td>4.7</td>\n",
       "      <td>3.5</td>\n",
       "      <td>4.0</td>\n",
       "      <td>3.0</td>\n",
       "      <td>3.0</td>\n",
       "      <td>4.0</td>\n",
       "    </tr>\n",
       "    <tr>\n",
       "      <th>15</th>\n",
       "      <td>10789</td>\n",
       "      <td>1075</td>\n",
       "      <td>Caldera Brewing Company</td>\n",
       "      <td>Beerandraiderfan</td>\n",
       "      <td>1316025612</td>\n",
       "      <td>Oatmeal Stout</td>\n",
       "      <td>Caldera Oatmeal Stout</td>\n",
       "      <td>7.2</td>\n",
       "      <td>3.0</td>\n",
       "      <td>3.0</td>\n",
       "      <td>2.5</td>\n",
       "      <td>3.0</td>\n",
       "      <td>3.0</td>\n",
       "    </tr>\n",
       "    <tr>\n",
       "      <th>16</th>\n",
       "      <td>10789</td>\n",
       "      <td>1075</td>\n",
       "      <td>Caldera Brewing Company</td>\n",
       "      <td>RedDiamond</td>\n",
       "      <td>1103502339</td>\n",
       "      <td>Oatmeal Stout</td>\n",
       "      <td>Caldera Oatmeal Stout</td>\n",
       "      <td>7.2</td>\n",
       "      <td>2.0</td>\n",
       "      <td>1.5</td>\n",
       "      <td>2.5</td>\n",
       "      <td>2.5</td>\n",
       "      <td>2.0</td>\n",
       "    </tr>\n",
       "    <tr>\n",
       "      <th>17</th>\n",
       "      <td>12386</td>\n",
       "      <td>1075</td>\n",
       "      <td>Caldera Brewing Company</td>\n",
       "      <td>beerguy101</td>\n",
       "      <td>1062311123</td>\n",
       "      <td>American Pale Lager</td>\n",
       "      <td>Caldera OBF 15</td>\n",
       "      <td>5.6</td>\n",
       "      <td>4.0</td>\n",
       "      <td>3.0</td>\n",
       "      <td>4.0</td>\n",
       "      <td>4.0</td>\n",
       "      <td>4.0</td>\n",
       "    </tr>\n",
       "    <tr>\n",
       "      <th>18</th>\n",
       "      <td>436</td>\n",
       "      <td>163</td>\n",
       "      <td>Amstel Brouwerij B. V.</td>\n",
       "      <td>jdhilt</td>\n",
       "      <td>1010861086</td>\n",
       "      <td>Light Lager</td>\n",
       "      <td>Amstel Light</td>\n",
       "      <td>3.5</td>\n",
       "      <td>2.5</td>\n",
       "      <td>3.0</td>\n",
       "      <td>3.0</td>\n",
       "      <td>2.0</td>\n",
       "      <td>2.0</td>\n",
       "    </tr>\n",
       "    <tr>\n",
       "      <th>19</th>\n",
       "      <td>58046</td>\n",
       "      <td>1075</td>\n",
       "      <td>Caldera Brewing Company</td>\n",
       "      <td>UCLABrewN84</td>\n",
       "      <td>1325478004</td>\n",
       "      <td>Rauchbier</td>\n",
       "      <td>Rauch Ür Bock</td>\n",
       "      <td>7.4</td>\n",
       "      <td>4.5</td>\n",
       "      <td>4.5</td>\n",
       "      <td>3.0</td>\n",
       "      <td>4.0</td>\n",
       "      <td>4.5</td>\n",
       "    </tr>\n",
       "    <tr>\n",
       "      <th>20</th>\n",
       "      <td>58046</td>\n",
       "      <td>1075</td>\n",
       "      <td>Caldera Brewing Company</td>\n",
       "      <td>zaphodchak</td>\n",
       "      <td>1325360812</td>\n",
       "      <td>Rauchbier</td>\n",
       "      <td>Rauch Ür Bock</td>\n",
       "      <td>7.4</td>\n",
       "      <td>4.0</td>\n",
       "      <td>4.0</td>\n",
       "      <td>4.0</td>\n",
       "      <td>3.0</td>\n",
       "      <td>4.0</td>\n",
       "    </tr>\n",
       "    <tr>\n",
       "      <th>21</th>\n",
       "      <td>58046</td>\n",
       "      <td>1075</td>\n",
       "      <td>Caldera Brewing Company</td>\n",
       "      <td>Tilley4</td>\n",
       "      <td>1322506304</td>\n",
       "      <td>Rauchbier</td>\n",
       "      <td>Rauch Ür Bock</td>\n",
       "      <td>7.4</td>\n",
       "      <td>4.0</td>\n",
       "      <td>4.5</td>\n",
       "      <td>4.0</td>\n",
       "      <td>3.5</td>\n",
       "      <td>4.0</td>\n",
       "    </tr>\n",
       "    <tr>\n",
       "      <th>22</th>\n",
       "      <td>58046</td>\n",
       "      <td>1075</td>\n",
       "      <td>Caldera Brewing Company</td>\n",
       "      <td>mikedrinksbeer2</td>\n",
       "      <td>1320494397</td>\n",
       "      <td>Rauchbier</td>\n",
       "      <td>Rauch Ür Bock</td>\n",
       "      <td>7.4</td>\n",
       "      <td>4.5</td>\n",
       "      <td>5.0</td>\n",
       "      <td>4.5</td>\n",
       "      <td>4.0</td>\n",
       "      <td>4.5</td>\n",
       "    </tr>\n",
       "    <tr>\n",
       "      <th>23</th>\n",
       "      <td>58046</td>\n",
       "      <td>1075</td>\n",
       "      <td>Caldera Brewing Company</td>\n",
       "      <td>dbmernin83</td>\n",
       "      <td>1320140421</td>\n",
       "      <td>Rauchbier</td>\n",
       "      <td>Rauch Ür Bock</td>\n",
       "      <td>7.4</td>\n",
       "      <td>4.0</td>\n",
       "      <td>4.5</td>\n",
       "      <td>4.0</td>\n",
       "      <td>4.0</td>\n",
       "      <td>4.5</td>\n",
       "    </tr>\n",
       "    <tr>\n",
       "      <th>24</th>\n",
       "      <td>58046</td>\n",
       "      <td>1075</td>\n",
       "      <td>Caldera Brewing Company</td>\n",
       "      <td>titosupertramp</td>\n",
       "      <td>1319847514</td>\n",
       "      <td>Rauchbier</td>\n",
       "      <td>Rauch Ür Bock</td>\n",
       "      <td>7.4</td>\n",
       "      <td>4.5</td>\n",
       "      <td>4.5</td>\n",
       "      <td>4.0</td>\n",
       "      <td>4.0</td>\n",
       "      <td>4.5</td>\n",
       "    </tr>\n",
       "    <tr>\n",
       "      <th>25</th>\n",
       "      <td>58046</td>\n",
       "      <td>1075</td>\n",
       "      <td>Caldera Brewing Company</td>\n",
       "      <td>optimator13</td>\n",
       "      <td>1318802642</td>\n",
       "      <td>Rauchbier</td>\n",
       "      <td>Rauch Ür Bock</td>\n",
       "      <td>7.4</td>\n",
       "      <td>5.0</td>\n",
       "      <td>5.0</td>\n",
       "      <td>3.5</td>\n",
       "      <td>3.5</td>\n",
       "      <td>5.0</td>\n",
       "    </tr>\n",
       "    <tr>\n",
       "      <th>26</th>\n",
       "      <td>58046</td>\n",
       "      <td>1075</td>\n",
       "      <td>Caldera Brewing Company</td>\n",
       "      <td>Blakaeris</td>\n",
       "      <td>1318290101</td>\n",
       "      <td>Rauchbier</td>\n",
       "      <td>Rauch Ür Bock</td>\n",
       "      <td>7.4</td>\n",
       "      <td>4.5</td>\n",
       "      <td>4.5</td>\n",
       "      <td>4.0</td>\n",
       "      <td>4.0</td>\n",
       "      <td>4.5</td>\n",
       "    </tr>\n",
       "    <tr>\n",
       "      <th>27</th>\n",
       "      <td>58046</td>\n",
       "      <td>1075</td>\n",
       "      <td>Caldera Brewing Company</td>\n",
       "      <td>bashiba</td>\n",
       "      <td>1318289482</td>\n",
       "      <td>Rauchbier</td>\n",
       "      <td>Rauch Ür Bock</td>\n",
       "      <td>7.4</td>\n",
       "      <td>4.5</td>\n",
       "      <td>5.0</td>\n",
       "      <td>4.0</td>\n",
       "      <td>4.0</td>\n",
       "      <td>4.0</td>\n",
       "    </tr>\n",
       "    <tr>\n",
       "      <th>28</th>\n",
       "      <td>58046</td>\n",
       "      <td>1075</td>\n",
       "      <td>Caldera Brewing Company</td>\n",
       "      <td>Klym</td>\n",
       "      <td>1316405909</td>\n",
       "      <td>Rauchbier</td>\n",
       "      <td>Rauch Ür Bock</td>\n",
       "      <td>7.4</td>\n",
       "      <td>4.5</td>\n",
       "      <td>4.5</td>\n",
       "      <td>3.5</td>\n",
       "      <td>4.0</td>\n",
       "      <td>4.5</td>\n",
       "    </tr>\n",
       "    <tr>\n",
       "      <th>29</th>\n",
       "      <td>58046</td>\n",
       "      <td>1075</td>\n",
       "      <td>Caldera Brewing Company</td>\n",
       "      <td>flexabull</td>\n",
       "      <td>1315696563</td>\n",
       "      <td>Rauchbier</td>\n",
       "      <td>Rauch Ür Bock</td>\n",
       "      <td>7.4</td>\n",
       "      <td>4.5</td>\n",
       "      <td>4.5</td>\n",
       "      <td>4.0</td>\n",
       "      <td>4.0</td>\n",
       "      <td>4.0</td>\n",
       "    </tr>\n",
       "    <tr>\n",
       "      <th>...</th>\n",
       "      <td>...</td>\n",
       "      <td>...</td>\n",
       "      <td>...</td>\n",
       "      <td>...</td>\n",
       "      <td>...</td>\n",
       "      <td>...</td>\n",
       "      <td>...</td>\n",
       "      <td>...</td>\n",
       "      <td>...</td>\n",
       "      <td>...</td>\n",
       "      <td>...</td>\n",
       "      <td>...</td>\n",
       "      <td>...</td>\n",
       "    </tr>\n",
       "    <tr>\n",
       "      <th>1586584</th>\n",
       "      <td>34215</td>\n",
       "      <td>14359</td>\n",
       "      <td>The Defiant Brewing Company</td>\n",
       "      <td>dherling</td>\n",
       "      <td>1166930040</td>\n",
       "      <td>Extra Special / Strong Bitter (ESB)</td>\n",
       "      <td>Big Thumper Ale</td>\n",
       "      <td>5.8</td>\n",
       "      <td>4.5</td>\n",
       "      <td>4.0</td>\n",
       "      <td>4.0</td>\n",
       "      <td>4.0</td>\n",
       "      <td>4.0</td>\n",
       "    </tr>\n",
       "    <tr>\n",
       "      <th>1586585</th>\n",
       "      <td>34215</td>\n",
       "      <td>14359</td>\n",
       "      <td>The Defiant Brewing Company</td>\n",
       "      <td>tgbljb</td>\n",
       "      <td>1165710255</td>\n",
       "      <td>Extra Special / Strong Bitter (ESB)</td>\n",
       "      <td>Big Thumper Ale</td>\n",
       "      <td>5.8</td>\n",
       "      <td>3.5</td>\n",
       "      <td>3.5</td>\n",
       "      <td>3.5</td>\n",
       "      <td>3.5</td>\n",
       "      <td>3.5</td>\n",
       "    </tr>\n",
       "    <tr>\n",
       "      <th>1586586</th>\n",
       "      <td>34215</td>\n",
       "      <td>14359</td>\n",
       "      <td>The Defiant Brewing Company</td>\n",
       "      <td>cbl2</td>\n",
       "      <td>1165708674</td>\n",
       "      <td>Extra Special / Strong Bitter (ESB)</td>\n",
       "      <td>Big Thumper Ale</td>\n",
       "      <td>5.8</td>\n",
       "      <td>3.5</td>\n",
       "      <td>3.5</td>\n",
       "      <td>3.5</td>\n",
       "      <td>3.5</td>\n",
       "      <td>3.5</td>\n",
       "    </tr>\n",
       "    <tr>\n",
       "      <th>1586587</th>\n",
       "      <td>36555</td>\n",
       "      <td>14359</td>\n",
       "      <td>The Defiant Brewing Company</td>\n",
       "      <td>BBM</td>\n",
       "      <td>1177842168</td>\n",
       "      <td>Maibock / Helles Bock</td>\n",
       "      <td>Maibock</td>\n",
       "      <td>NaN</td>\n",
       "      <td>3.5</td>\n",
       "      <td>4.5</td>\n",
       "      <td>4.0</td>\n",
       "      <td>4.5</td>\n",
       "      <td>4.0</td>\n",
       "    </tr>\n",
       "    <tr>\n",
       "      <th>1586588</th>\n",
       "      <td>62147</td>\n",
       "      <td>14359</td>\n",
       "      <td>The Defiant Brewing Company</td>\n",
       "      <td>Buddha22</td>\n",
       "      <td>1295399777</td>\n",
       "      <td>Belgian IPA</td>\n",
       "      <td>Bear Mountain Ale</td>\n",
       "      <td>8.0</td>\n",
       "      <td>2.0</td>\n",
       "      <td>2.5</td>\n",
       "      <td>3.0</td>\n",
       "      <td>2.0</td>\n",
       "      <td>2.5</td>\n",
       "    </tr>\n",
       "    <tr>\n",
       "      <th>1586589</th>\n",
       "      <td>62147</td>\n",
       "      <td>14359</td>\n",
       "      <td>The Defiant Brewing Company</td>\n",
       "      <td>JohnQVegas</td>\n",
       "      <td>1294005929</td>\n",
       "      <td>Belgian IPA</td>\n",
       "      <td>Bear Mountain Ale</td>\n",
       "      <td>8.0</td>\n",
       "      <td>1.0</td>\n",
       "      <td>4.0</td>\n",
       "      <td>4.5</td>\n",
       "      <td>3.0</td>\n",
       "      <td>1.0</td>\n",
       "    </tr>\n",
       "    <tr>\n",
       "      <th>1586590</th>\n",
       "      <td>62147</td>\n",
       "      <td>14359</td>\n",
       "      <td>The Defiant Brewing Company</td>\n",
       "      <td>cpanossian</td>\n",
       "      <td>1287628639</td>\n",
       "      <td>Belgian IPA</td>\n",
       "      <td>Bear Mountain Ale</td>\n",
       "      <td>8.0</td>\n",
       "      <td>1.5</td>\n",
       "      <td>3.5</td>\n",
       "      <td>4.0</td>\n",
       "      <td>3.0</td>\n",
       "      <td>1.5</td>\n",
       "    </tr>\n",
       "    <tr>\n",
       "      <th>1586591</th>\n",
       "      <td>62147</td>\n",
       "      <td>14359</td>\n",
       "      <td>The Defiant Brewing Company</td>\n",
       "      <td>claspada</td>\n",
       "      <td>1285616583</td>\n",
       "      <td>Belgian IPA</td>\n",
       "      <td>Bear Mountain Ale</td>\n",
       "      <td>8.0</td>\n",
       "      <td>1.0</td>\n",
       "      <td>2.0</td>\n",
       "      <td>3.0</td>\n",
       "      <td>2.0</td>\n",
       "      <td>1.0</td>\n",
       "    </tr>\n",
       "    <tr>\n",
       "      <th>1586592</th>\n",
       "      <td>41749</td>\n",
       "      <td>14359</td>\n",
       "      <td>The Defiant Brewing Company</td>\n",
       "      <td>RblWthACoz</td>\n",
       "      <td>1209864382</td>\n",
       "      <td>Irish Red Ale</td>\n",
       "      <td>Irish Amber</td>\n",
       "      <td>5.2</td>\n",
       "      <td>4.5</td>\n",
       "      <td>3.5</td>\n",
       "      <td>4.0</td>\n",
       "      <td>4.0</td>\n",
       "      <td>4.5</td>\n",
       "    </tr>\n",
       "    <tr>\n",
       "      <th>1586593</th>\n",
       "      <td>41749</td>\n",
       "      <td>14359</td>\n",
       "      <td>The Defiant Brewing Company</td>\n",
       "      <td>yelterdow</td>\n",
       "      <td>1206241317</td>\n",
       "      <td>Irish Red Ale</td>\n",
       "      <td>Irish Amber</td>\n",
       "      <td>5.2</td>\n",
       "      <td>4.5</td>\n",
       "      <td>4.0</td>\n",
       "      <td>4.5</td>\n",
       "      <td>4.0</td>\n",
       "      <td>4.0</td>\n",
       "    </tr>\n",
       "    <tr>\n",
       "      <th>1586594</th>\n",
       "      <td>38160</td>\n",
       "      <td>14359</td>\n",
       "      <td>The Defiant Brewing Company</td>\n",
       "      <td>maddogruss</td>\n",
       "      <td>1186979266</td>\n",
       "      <td>American Porter</td>\n",
       "      <td>Highland Porter</td>\n",
       "      <td>6.0</td>\n",
       "      <td>3.0</td>\n",
       "      <td>3.5</td>\n",
       "      <td>4.0</td>\n",
       "      <td>4.0</td>\n",
       "      <td>4.0</td>\n",
       "    </tr>\n",
       "    <tr>\n",
       "      <th>1586595</th>\n",
       "      <td>71234</td>\n",
       "      <td>14359</td>\n",
       "      <td>The Defiant Brewing Company</td>\n",
       "      <td>JerzDevl2000</td>\n",
       "      <td>1311205969</td>\n",
       "      <td>Hefeweizen</td>\n",
       "      <td>Baron Von Weizen</td>\n",
       "      <td>5.0</td>\n",
       "      <td>4.0</td>\n",
       "      <td>3.5</td>\n",
       "      <td>4.0</td>\n",
       "      <td>4.0</td>\n",
       "      <td>4.0</td>\n",
       "    </tr>\n",
       "    <tr>\n",
       "      <th>1586596</th>\n",
       "      <td>48360</td>\n",
       "      <td>14359</td>\n",
       "      <td>The Defiant Brewing Company</td>\n",
       "      <td>hoppymcgee</td>\n",
       "      <td>1287951067</td>\n",
       "      <td>Belgian Strong Pale Ale</td>\n",
       "      <td>Resolution #2</td>\n",
       "      <td>NaN</td>\n",
       "      <td>4.0</td>\n",
       "      <td>3.0</td>\n",
       "      <td>5.0</td>\n",
       "      <td>4.0</td>\n",
       "      <td>3.5</td>\n",
       "    </tr>\n",
       "    <tr>\n",
       "      <th>1586597</th>\n",
       "      <td>48360</td>\n",
       "      <td>14359</td>\n",
       "      <td>The Defiant Brewing Company</td>\n",
       "      <td>WesWes</td>\n",
       "      <td>1241906223</td>\n",
       "      <td>Belgian Strong Pale Ale</td>\n",
       "      <td>Resolution #2</td>\n",
       "      <td>NaN</td>\n",
       "      <td>4.5</td>\n",
       "      <td>4.5</td>\n",
       "      <td>4.0</td>\n",
       "      <td>4.0</td>\n",
       "      <td>4.0</td>\n",
       "    </tr>\n",
       "    <tr>\n",
       "      <th>1586598</th>\n",
       "      <td>48360</td>\n",
       "      <td>14359</td>\n",
       "      <td>The Defiant Brewing Company</td>\n",
       "      <td>Slatetank</td>\n",
       "      <td>1236550020</td>\n",
       "      <td>Belgian Strong Pale Ale</td>\n",
       "      <td>Resolution #2</td>\n",
       "      <td>NaN</td>\n",
       "      <td>4.0</td>\n",
       "      <td>4.0</td>\n",
       "      <td>3.5</td>\n",
       "      <td>4.0</td>\n",
       "      <td>4.5</td>\n",
       "    </tr>\n",
       "    <tr>\n",
       "      <th>1586599</th>\n",
       "      <td>43233</td>\n",
       "      <td>14359</td>\n",
       "      <td>The Defiant Brewing Company</td>\n",
       "      <td>Lenny2884</td>\n",
       "      <td>1213497070</td>\n",
       "      <td>American Double / Imperial IPA</td>\n",
       "      <td>Double IPA</td>\n",
       "      <td>9.0</td>\n",
       "      <td>3.5</td>\n",
       "      <td>4.5</td>\n",
       "      <td>4.0</td>\n",
       "      <td>4.0</td>\n",
       "      <td>4.0</td>\n",
       "    </tr>\n",
       "    <tr>\n",
       "      <th>1586600</th>\n",
       "      <td>33061</td>\n",
       "      <td>14359</td>\n",
       "      <td>The Defiant Brewing Company</td>\n",
       "      <td>ummswimmin</td>\n",
       "      <td>1317599053</td>\n",
       "      <td>Pumpkin Ale</td>\n",
       "      <td>The Horseman's Ale</td>\n",
       "      <td>5.2</td>\n",
       "      <td>3.5</td>\n",
       "      <td>4.0</td>\n",
       "      <td>3.5</td>\n",
       "      <td>3.0</td>\n",
       "      <td>3.5</td>\n",
       "    </tr>\n",
       "    <tr>\n",
       "      <th>1586601</th>\n",
       "      <td>33061</td>\n",
       "      <td>14359</td>\n",
       "      <td>The Defiant Brewing Company</td>\n",
       "      <td>pzrhsau</td>\n",
       "      <td>1291257338</td>\n",
       "      <td>Pumpkin Ale</td>\n",
       "      <td>The Horseman's Ale</td>\n",
       "      <td>5.2</td>\n",
       "      <td>4.5</td>\n",
       "      <td>4.0</td>\n",
       "      <td>4.0</td>\n",
       "      <td>4.5</td>\n",
       "      <td>4.0</td>\n",
       "    </tr>\n",
       "    <tr>\n",
       "      <th>1586602</th>\n",
       "      <td>33061</td>\n",
       "      <td>14359</td>\n",
       "      <td>The Defiant Brewing Company</td>\n",
       "      <td>asabreed</td>\n",
       "      <td>1291054144</td>\n",
       "      <td>Pumpkin Ale</td>\n",
       "      <td>The Horseman's Ale</td>\n",
       "      <td>5.2</td>\n",
       "      <td>4.0</td>\n",
       "      <td>4.0</td>\n",
       "      <td>4.0</td>\n",
       "      <td>4.0</td>\n",
       "      <td>4.0</td>\n",
       "    </tr>\n",
       "    <tr>\n",
       "      <th>1586603</th>\n",
       "      <td>33061</td>\n",
       "      <td>14359</td>\n",
       "      <td>The Defiant Brewing Company</td>\n",
       "      <td>infi</td>\n",
       "      <td>1289366204</td>\n",
       "      <td>Pumpkin Ale</td>\n",
       "      <td>The Horseman's Ale</td>\n",
       "      <td>5.2</td>\n",
       "      <td>4.0</td>\n",
       "      <td>4.5</td>\n",
       "      <td>4.0</td>\n",
       "      <td>4.0</td>\n",
       "      <td>4.0</td>\n",
       "    </tr>\n",
       "    <tr>\n",
       "      <th>1586604</th>\n",
       "      <td>33061</td>\n",
       "      <td>14359</td>\n",
       "      <td>The Defiant Brewing Company</td>\n",
       "      <td>njmoons</td>\n",
       "      <td>1288890206</td>\n",
       "      <td>Pumpkin Ale</td>\n",
       "      <td>The Horseman's Ale</td>\n",
       "      <td>5.2</td>\n",
       "      <td>4.0</td>\n",
       "      <td>4.5</td>\n",
       "      <td>4.5</td>\n",
       "      <td>3.5</td>\n",
       "      <td>3.5</td>\n",
       "    </tr>\n",
       "    <tr>\n",
       "      <th>1586605</th>\n",
       "      <td>33061</td>\n",
       "      <td>14359</td>\n",
       "      <td>The Defiant Brewing Company</td>\n",
       "      <td>NyackNicky</td>\n",
       "      <td>1163291143</td>\n",
       "      <td>Pumpkin Ale</td>\n",
       "      <td>The Horseman's Ale</td>\n",
       "      <td>5.2</td>\n",
       "      <td>5.0</td>\n",
       "      <td>5.0</td>\n",
       "      <td>5.0</td>\n",
       "      <td>5.0</td>\n",
       "      <td>5.0</td>\n",
       "    </tr>\n",
       "    <tr>\n",
       "      <th>1586606</th>\n",
       "      <td>33061</td>\n",
       "      <td>14359</td>\n",
       "      <td>The Defiant Brewing Company</td>\n",
       "      <td>blitheringidiot</td>\n",
       "      <td>1162871808</td>\n",
       "      <td>Pumpkin Ale</td>\n",
       "      <td>The Horseman's Ale</td>\n",
       "      <td>5.2</td>\n",
       "      <td>5.0</td>\n",
       "      <td>4.5</td>\n",
       "      <td>4.0</td>\n",
       "      <td>5.0</td>\n",
       "      <td>5.0</td>\n",
       "    </tr>\n",
       "    <tr>\n",
       "      <th>1586607</th>\n",
       "      <td>33061</td>\n",
       "      <td>14359</td>\n",
       "      <td>The Defiant Brewing Company</td>\n",
       "      <td>PopeDX</td>\n",
       "      <td>1162865640</td>\n",
       "      <td>Pumpkin Ale</td>\n",
       "      <td>The Horseman's Ale</td>\n",
       "      <td>5.2</td>\n",
       "      <td>5.0</td>\n",
       "      <td>5.0</td>\n",
       "      <td>4.5</td>\n",
       "      <td>5.0</td>\n",
       "      <td>4.5</td>\n",
       "    </tr>\n",
       "    <tr>\n",
       "      <th>1586608</th>\n",
       "      <td>33061</td>\n",
       "      <td>14359</td>\n",
       "      <td>The Defiant Brewing Company</td>\n",
       "      <td>treehugger02010</td>\n",
       "      <td>1162685856</td>\n",
       "      <td>Pumpkin Ale</td>\n",
       "      <td>The Horseman's Ale</td>\n",
       "      <td>5.2</td>\n",
       "      <td>3.5</td>\n",
       "      <td>4.0</td>\n",
       "      <td>4.0</td>\n",
       "      <td>3.5</td>\n",
       "      <td>3.0</td>\n",
       "    </tr>\n",
       "    <tr>\n",
       "      <th>1586609</th>\n",
       "      <td>33061</td>\n",
       "      <td>14359</td>\n",
       "      <td>The Defiant Brewing Company</td>\n",
       "      <td>maddogruss</td>\n",
       "      <td>1162684892</td>\n",
       "      <td>Pumpkin Ale</td>\n",
       "      <td>The Horseman's Ale</td>\n",
       "      <td>5.2</td>\n",
       "      <td>5.0</td>\n",
       "      <td>4.0</td>\n",
       "      <td>3.5</td>\n",
       "      <td>4.0</td>\n",
       "      <td>4.0</td>\n",
       "    </tr>\n",
       "    <tr>\n",
       "      <th>1586610</th>\n",
       "      <td>33061</td>\n",
       "      <td>14359</td>\n",
       "      <td>The Defiant Brewing Company</td>\n",
       "      <td>yelterdow</td>\n",
       "      <td>1161048566</td>\n",
       "      <td>Pumpkin Ale</td>\n",
       "      <td>The Horseman's Ale</td>\n",
       "      <td>5.2</td>\n",
       "      <td>4.0</td>\n",
       "      <td>5.0</td>\n",
       "      <td>2.5</td>\n",
       "      <td>2.0</td>\n",
       "      <td>4.0</td>\n",
       "    </tr>\n",
       "    <tr>\n",
       "      <th>1586611</th>\n",
       "      <td>33061</td>\n",
       "      <td>14359</td>\n",
       "      <td>The Defiant Brewing Company</td>\n",
       "      <td>TongoRad</td>\n",
       "      <td>1160702513</td>\n",
       "      <td>Pumpkin Ale</td>\n",
       "      <td>The Horseman's Ale</td>\n",
       "      <td>5.2</td>\n",
       "      <td>4.5</td>\n",
       "      <td>3.5</td>\n",
       "      <td>3.0</td>\n",
       "      <td>3.5</td>\n",
       "      <td>4.0</td>\n",
       "    </tr>\n",
       "    <tr>\n",
       "      <th>1586612</th>\n",
       "      <td>33061</td>\n",
       "      <td>14359</td>\n",
       "      <td>The Defiant Brewing Company</td>\n",
       "      <td>dherling</td>\n",
       "      <td>1160023044</td>\n",
       "      <td>Pumpkin Ale</td>\n",
       "      <td>The Horseman's Ale</td>\n",
       "      <td>5.2</td>\n",
       "      <td>4.0</td>\n",
       "      <td>4.5</td>\n",
       "      <td>4.5</td>\n",
       "      <td>4.5</td>\n",
       "      <td>4.5</td>\n",
       "    </tr>\n",
       "    <tr>\n",
       "      <th>1586613</th>\n",
       "      <td>33061</td>\n",
       "      <td>14359</td>\n",
       "      <td>The Defiant Brewing Company</td>\n",
       "      <td>cbl2</td>\n",
       "      <td>1160005319</td>\n",
       "      <td>Pumpkin Ale</td>\n",
       "      <td>The Horseman's Ale</td>\n",
       "      <td>5.2</td>\n",
       "      <td>5.0</td>\n",
       "      <td>4.5</td>\n",
       "      <td>4.5</td>\n",
       "      <td>4.5</td>\n",
       "      <td>4.5</td>\n",
       "    </tr>\n",
       "  </tbody>\n",
       "</table>\n",
       "<p>1586614 rows × 13 columns</p>\n",
       "</div>"
      ],
      "text/plain": [
       "         beer_beerid  brewery_id                 brewery_name  \\\n",
       "0              47986       10325              Vecchio Birraio   \n",
       "1              48213       10325              Vecchio Birraio   \n",
       "2              48215       10325              Vecchio Birraio   \n",
       "3              47969       10325              Vecchio Birraio   \n",
       "4              64883        1075      Caldera Brewing Company   \n",
       "5              52159        1075      Caldera Brewing Company   \n",
       "6              52159        1075      Caldera Brewing Company   \n",
       "7              52159        1075      Caldera Brewing Company   \n",
       "8              52159        1075      Caldera Brewing Company   \n",
       "9              52159        1075      Caldera Brewing Company   \n",
       "10               436         163       Amstel Brouwerij B. V.   \n",
       "11             52159        1075      Caldera Brewing Company   \n",
       "12             52159        1075      Caldera Brewing Company   \n",
       "13             52159        1075      Caldera Brewing Company   \n",
       "14             52159        1075      Caldera Brewing Company   \n",
       "15             10789        1075      Caldera Brewing Company   \n",
       "16             10789        1075      Caldera Brewing Company   \n",
       "17             12386        1075      Caldera Brewing Company   \n",
       "18               436         163       Amstel Brouwerij B. V.   \n",
       "19             58046        1075      Caldera Brewing Company   \n",
       "20             58046        1075      Caldera Brewing Company   \n",
       "21             58046        1075      Caldera Brewing Company   \n",
       "22             58046        1075      Caldera Brewing Company   \n",
       "23             58046        1075      Caldera Brewing Company   \n",
       "24             58046        1075      Caldera Brewing Company   \n",
       "25             58046        1075      Caldera Brewing Company   \n",
       "26             58046        1075      Caldera Brewing Company   \n",
       "27             58046        1075      Caldera Brewing Company   \n",
       "28             58046        1075      Caldera Brewing Company   \n",
       "29             58046        1075      Caldera Brewing Company   \n",
       "...              ...         ...                          ...   \n",
       "1586584        34215       14359  The Defiant Brewing Company   \n",
       "1586585        34215       14359  The Defiant Brewing Company   \n",
       "1586586        34215       14359  The Defiant Brewing Company   \n",
       "1586587        36555       14359  The Defiant Brewing Company   \n",
       "1586588        62147       14359  The Defiant Brewing Company   \n",
       "1586589        62147       14359  The Defiant Brewing Company   \n",
       "1586590        62147       14359  The Defiant Brewing Company   \n",
       "1586591        62147       14359  The Defiant Brewing Company   \n",
       "1586592        41749       14359  The Defiant Brewing Company   \n",
       "1586593        41749       14359  The Defiant Brewing Company   \n",
       "1586594        38160       14359  The Defiant Brewing Company   \n",
       "1586595        71234       14359  The Defiant Brewing Company   \n",
       "1586596        48360       14359  The Defiant Brewing Company   \n",
       "1586597        48360       14359  The Defiant Brewing Company   \n",
       "1586598        48360       14359  The Defiant Brewing Company   \n",
       "1586599        43233       14359  The Defiant Brewing Company   \n",
       "1586600        33061       14359  The Defiant Brewing Company   \n",
       "1586601        33061       14359  The Defiant Brewing Company   \n",
       "1586602        33061       14359  The Defiant Brewing Company   \n",
       "1586603        33061       14359  The Defiant Brewing Company   \n",
       "1586604        33061       14359  The Defiant Brewing Company   \n",
       "1586605        33061       14359  The Defiant Brewing Company   \n",
       "1586606        33061       14359  The Defiant Brewing Company   \n",
       "1586607        33061       14359  The Defiant Brewing Company   \n",
       "1586608        33061       14359  The Defiant Brewing Company   \n",
       "1586609        33061       14359  The Defiant Brewing Company   \n",
       "1586610        33061       14359  The Defiant Brewing Company   \n",
       "1586611        33061       14359  The Defiant Brewing Company   \n",
       "1586612        33061       14359  The Defiant Brewing Company   \n",
       "1586613        33061       14359  The Defiant Brewing Company   \n",
       "\n",
       "        review_profilename  review_time                           beer_style  \\\n",
       "0                  stcules   1234817823                           Hefeweizen   \n",
       "1                  stcules   1235915097                   English Strong Ale   \n",
       "2                  stcules   1235916604               Foreign / Export Stout   \n",
       "3                  stcules   1234725145                      German Pilsener   \n",
       "4           johnmichaelsen   1293735206       American Double / Imperial IPA   \n",
       "5                  oline73   1325524659                 Herbed / Spiced Beer   \n",
       "6                Reidrover   1318991115                 Herbed / Spiced Beer   \n",
       "7             alpinebryant   1306276018                 Herbed / Spiced Beer   \n",
       "8            LordAdmNelson   1290454503                 Herbed / Spiced Beer   \n",
       "9             augustgarage   1285632924                 Herbed / Spiced Beer   \n",
       "10                 fodeeoz   1010963392                          Light Lager   \n",
       "11            MadeInOregon   1283154365                 Herbed / Spiced Beer   \n",
       "12                 rawthar   1277557990                 Herbed / Spiced Beer   \n",
       "13             Halcyondays   1275779250                 Herbed / Spiced Beer   \n",
       "14             RangerClegg   1273109020                 Herbed / Spiced Beer   \n",
       "15        Beerandraiderfan   1316025612                        Oatmeal Stout   \n",
       "16              RedDiamond   1103502339                        Oatmeal Stout   \n",
       "17              beerguy101   1062311123                  American Pale Lager   \n",
       "18                  jdhilt   1010861086                          Light Lager   \n",
       "19             UCLABrewN84   1325478004                            Rauchbier   \n",
       "20              zaphodchak   1325360812                            Rauchbier   \n",
       "21                 Tilley4   1322506304                            Rauchbier   \n",
       "22         mikedrinksbeer2   1320494397                            Rauchbier   \n",
       "23              dbmernin83   1320140421                            Rauchbier   \n",
       "24          titosupertramp   1319847514                            Rauchbier   \n",
       "25             optimator13   1318802642                            Rauchbier   \n",
       "26               Blakaeris   1318290101                            Rauchbier   \n",
       "27                 bashiba   1318289482                            Rauchbier   \n",
       "28                    Klym   1316405909                            Rauchbier   \n",
       "29               flexabull   1315696563                            Rauchbier   \n",
       "...                    ...          ...                                  ...   \n",
       "1586584           dherling   1166930040  Extra Special / Strong Bitter (ESB)   \n",
       "1586585             tgbljb   1165710255  Extra Special / Strong Bitter (ESB)   \n",
       "1586586               cbl2   1165708674  Extra Special / Strong Bitter (ESB)   \n",
       "1586587                BBM   1177842168                Maibock / Helles Bock   \n",
       "1586588           Buddha22   1295399777                          Belgian IPA   \n",
       "1586589         JohnQVegas   1294005929                          Belgian IPA   \n",
       "1586590         cpanossian   1287628639                          Belgian IPA   \n",
       "1586591           claspada   1285616583                          Belgian IPA   \n",
       "1586592         RblWthACoz   1209864382                        Irish Red Ale   \n",
       "1586593          yelterdow   1206241317                        Irish Red Ale   \n",
       "1586594         maddogruss   1186979266                      American Porter   \n",
       "1586595       JerzDevl2000   1311205969                           Hefeweizen   \n",
       "1586596         hoppymcgee   1287951067              Belgian Strong Pale Ale   \n",
       "1586597             WesWes   1241906223              Belgian Strong Pale Ale   \n",
       "1586598          Slatetank   1236550020              Belgian Strong Pale Ale   \n",
       "1586599          Lenny2884   1213497070       American Double / Imperial IPA   \n",
       "1586600         ummswimmin   1317599053                          Pumpkin Ale   \n",
       "1586601            pzrhsau   1291257338                          Pumpkin Ale   \n",
       "1586602           asabreed   1291054144                          Pumpkin Ale   \n",
       "1586603               infi   1289366204                          Pumpkin Ale   \n",
       "1586604            njmoons   1288890206                          Pumpkin Ale   \n",
       "1586605         NyackNicky   1163291143                          Pumpkin Ale   \n",
       "1586606    blitheringidiot   1162871808                          Pumpkin Ale   \n",
       "1586607             PopeDX   1162865640                          Pumpkin Ale   \n",
       "1586608    treehugger02010   1162685856                          Pumpkin Ale   \n",
       "1586609         maddogruss   1162684892                          Pumpkin Ale   \n",
       "1586610          yelterdow   1161048566                          Pumpkin Ale   \n",
       "1586611           TongoRad   1160702513                          Pumpkin Ale   \n",
       "1586612           dherling   1160023044                          Pumpkin Ale   \n",
       "1586613               cbl2   1160005319                          Pumpkin Ale   \n",
       "\n",
       "                      beer_name  beer_abv  review_overall  review_aroma  \\\n",
       "0                  Sausa Weizen       5.0             1.5           2.0   \n",
       "1                      Red Moon       6.2             3.0           2.5   \n",
       "2        Black Horse Black Beer       6.5             3.0           2.5   \n",
       "3                    Sausa Pils       5.0             3.0           3.0   \n",
       "4                 Cauldron DIPA       7.7             4.0           4.5   \n",
       "5           Caldera Ginger Beer       4.7             3.0           3.5   \n",
       "6           Caldera Ginger Beer       4.7             3.5           3.5   \n",
       "7           Caldera Ginger Beer       4.7             3.0           2.5   \n",
       "8           Caldera Ginger Beer       4.7             4.0           3.0   \n",
       "9           Caldera Ginger Beer       4.7             4.5           3.5   \n",
       "10                 Amstel Light       3.5             3.0           2.0   \n",
       "11          Caldera Ginger Beer       4.7             5.0           5.0   \n",
       "12          Caldera Ginger Beer       4.7             4.0           4.0   \n",
       "13          Caldera Ginger Beer       4.7             4.0           4.5   \n",
       "14          Caldera Ginger Beer       4.7             3.5           4.0   \n",
       "15        Caldera Oatmeal Stout       7.2             3.0           3.0   \n",
       "16        Caldera Oatmeal Stout       7.2             2.0           1.5   \n",
       "17               Caldera OBF 15       5.6             4.0           3.0   \n",
       "18                 Amstel Light       3.5             2.5           3.0   \n",
       "19                Rauch Ür Bock       7.4             4.5           4.5   \n",
       "20                Rauch Ür Bock       7.4             4.0           4.0   \n",
       "21                Rauch Ür Bock       7.4             4.0           4.5   \n",
       "22                Rauch Ür Bock       7.4             4.5           5.0   \n",
       "23                Rauch Ür Bock       7.4             4.0           4.5   \n",
       "24                Rauch Ür Bock       7.4             4.5           4.5   \n",
       "25                Rauch Ür Bock       7.4             5.0           5.0   \n",
       "26                Rauch Ür Bock       7.4             4.5           4.5   \n",
       "27                Rauch Ür Bock       7.4             4.5           5.0   \n",
       "28                Rauch Ür Bock       7.4             4.5           4.5   \n",
       "29                Rauch Ür Bock       7.4             4.5           4.5   \n",
       "...                         ...       ...             ...           ...   \n",
       "1586584         Big Thumper Ale       5.8             4.5           4.0   \n",
       "1586585         Big Thumper Ale       5.8             3.5           3.5   \n",
       "1586586         Big Thumper Ale       5.8             3.5           3.5   \n",
       "1586587                 Maibock       NaN             3.5           4.5   \n",
       "1586588       Bear Mountain Ale       8.0             2.0           2.5   \n",
       "1586589       Bear Mountain Ale       8.0             1.0           4.0   \n",
       "1586590       Bear Mountain Ale       8.0             1.5           3.5   \n",
       "1586591       Bear Mountain Ale       8.0             1.0           2.0   \n",
       "1586592             Irish Amber       5.2             4.5           3.5   \n",
       "1586593             Irish Amber       5.2             4.5           4.0   \n",
       "1586594         Highland Porter       6.0             3.0           3.5   \n",
       "1586595        Baron Von Weizen       5.0             4.0           3.5   \n",
       "1586596           Resolution #2       NaN             4.0           3.0   \n",
       "1586597           Resolution #2       NaN             4.5           4.5   \n",
       "1586598           Resolution #2       NaN             4.0           4.0   \n",
       "1586599              Double IPA       9.0             3.5           4.5   \n",
       "1586600      The Horseman's Ale       5.2             3.5           4.0   \n",
       "1586601      The Horseman's Ale       5.2             4.5           4.0   \n",
       "1586602      The Horseman's Ale       5.2             4.0           4.0   \n",
       "1586603      The Horseman's Ale       5.2             4.0           4.5   \n",
       "1586604      The Horseman's Ale       5.2             4.0           4.5   \n",
       "1586605      The Horseman's Ale       5.2             5.0           5.0   \n",
       "1586606      The Horseman's Ale       5.2             5.0           4.5   \n",
       "1586607      The Horseman's Ale       5.2             5.0           5.0   \n",
       "1586608      The Horseman's Ale       5.2             3.5           4.0   \n",
       "1586609      The Horseman's Ale       5.2             5.0           4.0   \n",
       "1586610      The Horseman's Ale       5.2             4.0           5.0   \n",
       "1586611      The Horseman's Ale       5.2             4.5           3.5   \n",
       "1586612      The Horseman's Ale       5.2             4.0           4.5   \n",
       "1586613      The Horseman's Ale       5.2             5.0           4.5   \n",
       "\n",
       "         review_appearance  review_palate  review_taste  \n",
       "0                      2.5            1.5           1.5  \n",
       "1                      3.0            3.0           3.0  \n",
       "2                      3.0            3.0           3.0  \n",
       "3                      3.5            2.5           3.0  \n",
       "4                      4.0            4.0           4.5  \n",
       "5                      3.5            3.0           3.5  \n",
       "6                      3.5            4.0           4.0  \n",
       "7                      3.5            2.0           3.5  \n",
       "8                      3.5            3.5           4.0  \n",
       "9                      5.0            4.0           4.0  \n",
       "10                     3.0            2.5           2.5  \n",
       "11                     4.0            4.0           4.0  \n",
       "12                     4.0            3.5           4.0  \n",
       "13                     3.0            2.5           3.0  \n",
       "14                     3.0            3.0           4.0  \n",
       "15                     2.5            3.0           3.0  \n",
       "16                     2.5            2.5           2.0  \n",
       "17                     4.0            4.0           4.0  \n",
       "18                     3.0            2.0           2.0  \n",
       "19                     3.0            4.0           4.5  \n",
       "20                     4.0            3.0           4.0  \n",
       "21                     4.0            3.5           4.0  \n",
       "22                     4.5            4.0           4.5  \n",
       "23                     4.0            4.0           4.5  \n",
       "24                     4.0            4.0           4.5  \n",
       "25                     3.5            3.5           5.0  \n",
       "26                     4.0            4.0           4.5  \n",
       "27                     4.0            4.0           4.0  \n",
       "28                     3.5            4.0           4.5  \n",
       "29                     4.0            4.0           4.0  \n",
       "...                    ...            ...           ...  \n",
       "1586584                4.0            4.0           4.0  \n",
       "1586585                3.5            3.5           3.5  \n",
       "1586586                3.5            3.5           3.5  \n",
       "1586587                4.0            4.5           4.0  \n",
       "1586588                3.0            2.0           2.5  \n",
       "1586589                4.5            3.0           1.0  \n",
       "1586590                4.0            3.0           1.5  \n",
       "1586591                3.0            2.0           1.0  \n",
       "1586592                4.0            4.0           4.5  \n",
       "1586593                4.5            4.0           4.0  \n",
       "1586594                4.0            4.0           4.0  \n",
       "1586595                4.0            4.0           4.0  \n",
       "1586596                5.0            4.0           3.5  \n",
       "1586597                4.0            4.0           4.0  \n",
       "1586598                3.5            4.0           4.5  \n",
       "1586599                4.0            4.0           4.0  \n",
       "1586600                3.5            3.0           3.5  \n",
       "1586601                4.0            4.5           4.0  \n",
       "1586602                4.0            4.0           4.0  \n",
       "1586603                4.0            4.0           4.0  \n",
       "1586604                4.5            3.5           3.5  \n",
       "1586605                5.0            5.0           5.0  \n",
       "1586606                4.0            5.0           5.0  \n",
       "1586607                4.5            5.0           4.5  \n",
       "1586608                4.0            3.5           3.0  \n",
       "1586609                3.5            4.0           4.0  \n",
       "1586610                2.5            2.0           4.0  \n",
       "1586611                3.0            3.5           4.0  \n",
       "1586612                4.5            4.5           4.5  \n",
       "1586613                4.5            4.5           4.5  \n",
       "\n",
       "[1586614 rows x 13 columns]"
      ]
     },
     "execution_count": 7,
     "metadata": {},
     "output_type": "execute_result"
    }
   ],
   "source": [
    "beer_reviews"
   ]
  },
  {
   "cell_type": "code",
   "execution_count": 8,
   "metadata": {},
   "outputs": [
    {
     "data": {
      "text/plain": [
       "beer_beerid             int64\n",
       "brewery_id              int64\n",
       "brewery_name           object\n",
       "review_profilename     object\n",
       "review_time             int64\n",
       "beer_style             object\n",
       "beer_name              object\n",
       "beer_abv              float64\n",
       "review_overall        float64\n",
       "review_aroma          float64\n",
       "review_appearance     float64\n",
       "review_palate         float64\n",
       "review_taste          float64\n",
       "dtype: object"
      ]
     },
     "execution_count": 8,
     "metadata": {},
     "output_type": "execute_result"
    }
   ],
   "source": [
    "beer_reviews.dtypes"
   ]
  },
  {
   "cell_type": "code",
   "execution_count": 9,
   "metadata": {},
   "outputs": [
    {
     "data": {
      "text/plain": [
       "0    1234817823\n",
       "1    1235915097\n",
       "2    1235916604\n",
       "3    1234725145\n",
       "4    1293735206\n",
       "Name: review_time, dtype: int64"
      ]
     },
     "execution_count": 9,
     "metadata": {},
     "output_type": "execute_result"
    }
   ],
   "source": [
    "beer_reviews.review_time.head()"
   ]
  },
  {
   "cell_type": "code",
   "execution_count": 10,
   "metadata": {},
   "outputs": [],
   "source": [
    "beer_reviews.review_time = pd.to_datetime(beer_reviews.review_time, unit = \"s\")"
   ]
  },
  {
   "cell_type": "code",
   "execution_count": 11,
   "metadata": {},
   "outputs": [
    {
     "data": {
      "text/plain": [
       "beer_beerid                    int64\n",
       "brewery_id                     int64\n",
       "brewery_name                  object\n",
       "review_profilename            object\n",
       "review_time           datetime64[ns]\n",
       "beer_style                    object\n",
       "beer_name                     object\n",
       "beer_abv                     float64\n",
       "review_overall               float64\n",
       "review_aroma                 float64\n",
       "review_appearance            float64\n",
       "review_palate                float64\n",
       "review_taste                 float64\n",
       "dtype: object"
      ]
     },
     "execution_count": 11,
     "metadata": {},
     "output_type": "execute_result"
    }
   ],
   "source": [
    "beer_reviews.dtypes"
   ]
  },
  {
   "cell_type": "code",
   "execution_count": 12,
   "metadata": {},
   "outputs": [
    {
     "data": {
      "text/plain": [
       "(Timestamp('1996-08-22 00:00:01'), Timestamp('2012-01-11 12:35:48'))"
      ]
     },
     "execution_count": 12,
     "metadata": {},
     "output_type": "execute_result"
    }
   ],
   "source": [
    "beer_reviews.review_time.min(), beer_reviews.review_time.max()"
   ]
  },
  {
   "cell_type": "code",
   "execution_count": 13,
   "metadata": {},
   "outputs": [
    {
     "data": {
      "text/plain": [
       "review_time\n",
       "1996         1\n",
       "1998       133\n",
       "1999        86\n",
       "2000       119\n",
       "2001      1999\n",
       "2002     23140\n",
       "2003     56958\n",
       "2004     69701\n",
       "2005     89116\n",
       "2006    129648\n",
       "2007    142404\n",
       "2008    210099\n",
       "2009    243402\n",
       "2010    277072\n",
       "2011    333072\n",
       "2012      9664\n",
       "dtype: int64"
      ]
     },
     "execution_count": 13,
     "metadata": {},
     "output_type": "execute_result"
    }
   ],
   "source": [
    "review_counts_by_year = beer_reviews.groupby(beer_reviews.review_time.dt.year).size()\n",
    "review_counts_by_year"
   ]
  },
  {
   "cell_type": "code",
   "execution_count": 5,
   "metadata": {},
   "outputs": [
    {
     "ename": "NameError",
     "evalue": "name 'beer_reviews' is not defined",
     "output_type": "error",
     "traceback": [
      "\u001b[1;31m---------------------------------------------------------------------------\u001b[0m",
      "\u001b[1;31mNameError\u001b[0m                                 Traceback (most recent call last)",
      "\u001b[1;32m<ipython-input-5-193ccd1acc27>\u001b[0m in \u001b[0;36m<module>\u001b[1;34m\u001b[0m\n\u001b[1;32m----> 1\u001b[1;33m \u001b[0mmin_year\u001b[0m\u001b[1;33m,\u001b[0m \u001b[0mmax_year\u001b[0m \u001b[1;33m=\u001b[0m \u001b[0mbeer_reviews\u001b[0m\u001b[1;33m.\u001b[0m\u001b[0mreview_time\u001b[0m\u001b[1;33m.\u001b[0m\u001b[0mmin\u001b[0m\u001b[1;33m(\u001b[0m\u001b[1;33m)\u001b[0m\u001b[1;33m.\u001b[0m\u001b[0myear\u001b[0m\u001b[1;33m,\u001b[0m \u001b[0mbeer_reviews\u001b[0m\u001b[1;33m.\u001b[0m\u001b[0mreview_time\u001b[0m\u001b[1;33m.\u001b[0m\u001b[0mmax\u001b[0m\u001b[1;33m(\u001b[0m\u001b[1;33m)\u001b[0m\u001b[1;33m.\u001b[0m\u001b[0myear\u001b[0m\u001b[1;33m\u001b[0m\u001b[1;33m\u001b[0m\u001b[0m\n\u001b[0m\u001b[0;32m      2\u001b[0m \u001b[1;33m\u001b[0m\u001b[0m\n\u001b[0;32m      3\u001b[0m \u001b[0mplt\u001b[0m\u001b[1;33m.\u001b[0m\u001b[0mfigure\u001b[0m\u001b[1;33m(\u001b[0m\u001b[0mfigsize\u001b[0m \u001b[1;33m=\u001b[0m \u001b[1;33m(\u001b[0m\u001b[1;36m12\u001b[0m\u001b[1;33m,\u001b[0m \u001b[1;36m6\u001b[0m\u001b[1;33m)\u001b[0m\u001b[1;33m)\u001b[0m\u001b[1;33m\u001b[0m\u001b[1;33m\u001b[0m\u001b[0m\n\u001b[0;32m      4\u001b[0m \u001b[1;33m\u001b[0m\u001b[0m\n\u001b[0;32m      5\u001b[0m \u001b[0mplt\u001b[0m\u001b[1;33m.\u001b[0m\u001b[0mhistogram\u001b[0m\u001b[1;33m(\u001b[0m\u001b[0mreview_counts_by_year\u001b[0m\u001b[1;33m.\u001b[0m\u001b[0mindex\u001b[0m\u001b[1;33m,\u001b[0m \u001b[0mreview_counts_by_year\u001b[0m\u001b[1;33m,\u001b[0m \u001b[0malign\u001b[0m\u001b[1;33m=\u001b[0m\u001b[1;34m'center'\u001b[0m\u001b[1;33m)\u001b[0m\u001b[1;33m\u001b[0m\u001b[1;33m\u001b[0m\u001b[0m\n",
      "\u001b[1;31mNameError\u001b[0m: name 'beer_reviews' is not defined"
     ]
    }
   ],
   "source": [
    "min_year, max_year = beer_reviews.review_time.min().year, beer_reviews.review_time.max().year\n",
    "\n",
    "plt.figure(figsize = (12, 6))\n",
    "\n",
    "plt.histogram(review_counts_by_year.index, review_counts_by_year, align='center')\n",
    "\n",
    "plt.title(\"Number of ratings per year\")\n",
    "plt.xlabel(\"Year\")\n",
    "plt.ylabel(\"Ratings\")\n",
    "plt.xticks(range(min_year, max_year + 1), rotation='vertical')\n",
    "plt.show()"
   ]
  },
  {
   "cell_type": "code",
   "execution_count": 15,
   "metadata": {},
   "outputs": [
    {
     "data": {
      "text/plain": [
       "review_time\n",
       "1     142123\n",
       "2     122020\n",
       "3     130983\n",
       "4     121689\n",
       "5     127503\n",
       "6     120425\n",
       "7     128448\n",
       "8     136001\n",
       "9     129376\n",
       "10    135975\n",
       "11    140558\n",
       "12    151513\n",
       "dtype: int64"
      ]
     },
     "execution_count": 15,
     "metadata": {},
     "output_type": "execute_result"
    }
   ],
   "source": [
    "review_counts_by_month = beer_reviews.groupby(beer_reviews.review_time.dt.month).size()\n",
    "review_counts_by_month"
   ]
  },
  {
   "cell_type": "code",
   "execution_count": 16,
   "metadata": {},
   "outputs": [
    {
     "data": {
      "image/png": "[encoded data removed]",
      "text/plain": [
       "<matplotlib.figure.Figure at 0x234824284e0>"
      ]
     },
     "metadata": {
      "needs_background": "light"
     },
     "output_type": "display_data"
    }
   ],
   "source": [
    "plt.figure(figsize = (12, 6))\n",
    "\n",
    "plt.bar(review_counts_by_month.index, review_counts_by_month)\n",
    "\n",
    "plt.title(\"Number of ratings per month\")\n",
    "plt.xlabel(\"Month\")\n",
    "plt.ylabel(\"Ratings\")\n",
    "plt.xticks(range(1, 12 + 1))\n",
    "# plt.yscale(\"log\")\n",
    "plt.show()"
   ]
  },
  {
   "cell_type": "code",
   "execution_count": 17,
   "metadata": {},
   "outputs": [],
   "source": [
    "beer_reviews_by_day = beer_reviews.groupby(beer_reviews.review_time.dt.date).size()"
   ]
  },
  {
   "cell_type": "code",
   "execution_count": 18,
   "metadata": {},
   "outputs": [
    {
     "name": "stderr",
     "output_type": "stream",
     "text": [
      "C:\\Users\\Yordan\\Anaconda3\\lib\\site-packages\\pandas\\plotting\\_converter.py:129: FutureWarning: Using an implicitly registered datetime converter for a matplotlib plotting method. The converter was registered by pandas on import. Future versions of pandas will require you to explicitly register matplotlib converters.\n",
      "\n",
      "To register the converters:\n",
      "\t>>> from pandas.plotting import register_matplotlib_converters\n",
      "\t>>> register_matplotlib_converters()\n",
      "  warnings.warn(msg, FutureWarning)\n"
     ]
    },
    {
     "data": {
      "image/png": "[encoded data removed]",
      "text/plain": [
       "<matplotlib.figure.Figure at 0x234825701d0>"
      ]
     },
     "metadata": {
      "needs_background": "light"
     },
     "output_type": "display_data"
    }
   ],
   "source": [
    "plt.figure(figsize = (15, 6))\n",
    "plt.plot(beer_reviews_by_day.index, beer_reviews_by_day)\n",
    "plt.show()"
   ]
  },
  {
   "cell_type": "code",
   "execution_count": 19,
   "metadata": {},
   "outputs": [
    {
     "data": {
      "text/html": [
       "<div>\n",
       "<style scoped>\n",
       "    .dataframe tbody tr th:only-of-type {\n",
       "        vertical-align: middle;\n",
       "    }\n",
       "\n",
       "    .dataframe tbody tr th {\n",
       "        vertical-align: top;\n",
       "    }\n",
       "\n",
       "    .dataframe thead th {\n",
       "        text-align: right;\n",
       "    }\n",
       "</style>\n",
       "<table border=\"1\" class=\"dataframe\">\n",
       "  <thead>\n",
       "    <tr style=\"text-align: right;\">\n",
       "      <th></th>\n",
       "      <th>count</th>\n",
       "      <th>mean</th>\n",
       "      <th>std</th>\n",
       "      <th>min</th>\n",
       "      <th>25%</th>\n",
       "      <th>50%</th>\n",
       "      <th>75%</th>\n",
       "      <th>max</th>\n",
       "    </tr>\n",
       "  </thead>\n",
       "  <tbody>\n",
       "    <tr>\n",
       "      <th>beer_beerid</th>\n",
       "      <td>1586614.0</td>\n",
       "      <td>21712.794279</td>\n",
       "      <td>21818.335997</td>\n",
       "      <td>3.00</td>\n",
       "      <td>1717.0</td>\n",
       "      <td>13906.0</td>\n",
       "      <td>39441.0</td>\n",
       "      <td>77317.0</td>\n",
       "    </tr>\n",
       "    <tr>\n",
       "      <th>brewery_id</th>\n",
       "      <td>1586614.0</td>\n",
       "      <td>3130.099202</td>\n",
       "      <td>5578.103987</td>\n",
       "      <td>1.00</td>\n",
       "      <td>143.0</td>\n",
       "      <td>429.0</td>\n",
       "      <td>2372.0</td>\n",
       "      <td>28003.0</td>\n",
       "    </tr>\n",
       "    <tr>\n",
       "      <th>beer_abv</th>\n",
       "      <td>1518829.0</td>\n",
       "      <td>7.042387</td>\n",
       "      <td>2.322526</td>\n",
       "      <td>0.01</td>\n",
       "      <td>5.2</td>\n",
       "      <td>6.5</td>\n",
       "      <td>8.5</td>\n",
       "      <td>57.7</td>\n",
       "    </tr>\n",
       "    <tr>\n",
       "      <th>review_overall</th>\n",
       "      <td>1586614.0</td>\n",
       "      <td>3.815581</td>\n",
       "      <td>0.720622</td>\n",
       "      <td>0.00</td>\n",
       "      <td>3.5</td>\n",
       "      <td>4.0</td>\n",
       "      <td>4.5</td>\n",
       "      <td>5.0</td>\n",
       "    </tr>\n",
       "    <tr>\n",
       "      <th>review_aroma</th>\n",
       "      <td>1586614.0</td>\n",
       "      <td>3.735636</td>\n",
       "      <td>0.697617</td>\n",
       "      <td>1.00</td>\n",
       "      <td>3.5</td>\n",
       "      <td>4.0</td>\n",
       "      <td>4.0</td>\n",
       "      <td>5.0</td>\n",
       "    </tr>\n",
       "    <tr>\n",
       "      <th>review_appearance</th>\n",
       "      <td>1586614.0</td>\n",
       "      <td>3.841642</td>\n",
       "      <td>0.616093</td>\n",
       "      <td>0.00</td>\n",
       "      <td>3.5</td>\n",
       "      <td>4.0</td>\n",
       "      <td>4.0</td>\n",
       "      <td>5.0</td>\n",
       "    </tr>\n",
       "    <tr>\n",
       "      <th>review_palate</th>\n",
       "      <td>1586614.0</td>\n",
       "      <td>3.743701</td>\n",
       "      <td>0.682218</td>\n",
       "      <td>1.00</td>\n",
       "      <td>3.5</td>\n",
       "      <td>4.0</td>\n",
       "      <td>4.0</td>\n",
       "      <td>5.0</td>\n",
       "    </tr>\n",
       "    <tr>\n",
       "      <th>review_taste</th>\n",
       "      <td>1586614.0</td>\n",
       "      <td>3.792860</td>\n",
       "      <td>0.731970</td>\n",
       "      <td>1.00</td>\n",
       "      <td>3.5</td>\n",
       "      <td>4.0</td>\n",
       "      <td>4.5</td>\n",
       "      <td>5.0</td>\n",
       "    </tr>\n",
       "  </tbody>\n",
       "</table>\n",
       "</div>"
      ],
      "text/plain": [
       "                       count          mean           std   min     25%  \\\n",
       "beer_beerid        1586614.0  21712.794279  21818.335997  3.00  1717.0   \n",
       "brewery_id         1586614.0   3130.099202   5578.103987  1.00   143.0   \n",
       "beer_abv           1518829.0      7.042387      2.322526  0.01     5.2   \n",
       "review_overall     1586614.0      3.815581      0.720622  0.00     3.5   \n",
       "review_aroma       1586614.0      3.735636      0.697617  1.00     3.5   \n",
       "review_appearance  1586614.0      3.841642      0.616093  0.00     3.5   \n",
       "review_palate      1586614.0      3.743701      0.682218  1.00     3.5   \n",
       "review_taste       1586614.0      3.792860      0.731970  1.00     3.5   \n",
       "\n",
       "                       50%      75%      max  \n",
       "beer_beerid        13906.0  39441.0  77317.0  \n",
       "brewery_id           429.0   2372.0  28003.0  \n",
       "beer_abv               6.5      8.5     57.7  \n",
       "review_overall         4.0      4.5      5.0  \n",
       "review_aroma           4.0      4.0      5.0  \n",
       "review_appearance      4.0      4.0      5.0  \n",
       "review_palate          4.0      4.0      5.0  \n",
       "review_taste           4.0      4.5      5.0  "
      ]
     },
     "execution_count": 19,
     "metadata": {},
     "output_type": "execute_result"
    }
   ],
   "source": [
    "beer_reviews.describe().T"
   ]
  },
  {
   "cell_type": "code",
   "execution_count": 20,
   "metadata": {},
   "outputs": [
    {
     "data": {
      "text/plain": [
       "beer_beerid           False\n",
       "brewery_id            False\n",
       "brewery_name           True\n",
       "review_profilename     True\n",
       "review_time           False\n",
       "beer_style            False\n",
       "beer_name             False\n",
       "beer_abv               True\n",
       "review_overall        False\n",
       "review_aroma          False\n",
       "review_appearance     False\n",
       "review_palate         False\n",
       "review_taste          False\n",
       "dtype: bool"
      ]
     },
     "execution_count": 20,
     "metadata": {},
     "output_type": "execute_result"
    }
   ],
   "source": [
    "beer_reviews.isna().any()"
   ]
  },
  {
   "cell_type": "code",
   "execution_count": 21,
   "metadata": {},
   "outputs": [
    {
     "data": {
      "text/plain": [
       "beer_beerid           0.000000\n",
       "brewery_id            0.000000\n",
       "brewery_name          0.000945\n",
       "review_profilename    0.021934\n",
       "review_time           0.000000\n",
       "beer_style            0.000000\n",
       "beer_name             0.000000\n",
       "beer_abv              4.272306\n",
       "review_overall        0.000000\n",
       "review_aroma          0.000000\n",
       "review_appearance     0.000000\n",
       "review_palate         0.000000\n",
       "review_taste          0.000000\n",
       "dtype: float64"
      ]
     },
     "execution_count": 21,
     "metadata": {},
     "output_type": "execute_result"
    }
   ],
   "source": [
    "beer_reviews.isna().sum() / len(beer_reviews) * 100"
   ]
  },
  {
   "cell_type": "code",
   "execution_count": 22,
   "metadata": {},
   "outputs": [
    {
     "data": {
      "text/html": [
       "<div>\n",
       "<style scoped>\n",
       "    .dataframe tbody tr th:only-of-type {\n",
       "        vertical-align: middle;\n",
       "    }\n",
       "\n",
       "    .dataframe tbody tr th {\n",
       "        vertical-align: top;\n",
       "    }\n",
       "\n",
       "    .dataframe thead th {\n",
       "        text-align: right;\n",
       "    }\n",
       "</style>\n",
       "<table border=\"1\" class=\"dataframe\">\n",
       "  <thead>\n",
       "    <tr style=\"text-align: right;\">\n",
       "      <th></th>\n",
       "      <th>beer_beerid</th>\n",
       "      <th>brewery_id</th>\n",
       "      <th>brewery_name</th>\n",
       "      <th>review_profilename</th>\n",
       "      <th>review_time</th>\n",
       "      <th>beer_style</th>\n",
       "      <th>beer_name</th>\n",
       "      <th>beer_abv</th>\n",
       "      <th>review_overall</th>\n",
       "      <th>review_aroma</th>\n",
       "      <th>review_appearance</th>\n",
       "      <th>review_palate</th>\n",
       "      <th>review_taste</th>\n",
       "    </tr>\n",
       "  </thead>\n",
       "  <tbody>\n",
       "    <tr>\n",
       "      <th>273</th>\n",
       "      <td>21241</td>\n",
       "      <td>1075</td>\n",
       "      <td>Caldera Brewing Company</td>\n",
       "      <td>RedDiamond</td>\n",
       "      <td>2004-12-21 22:29:55</td>\n",
       "      <td>American Stout</td>\n",
       "      <td>Cauldron Espresso Stout</td>\n",
       "      <td>NaN</td>\n",
       "      <td>3.0</td>\n",
       "      <td>3.0</td>\n",
       "      <td>3.0</td>\n",
       "      <td>4.0</td>\n",
       "      <td>3.0</td>\n",
       "    </tr>\n",
       "    <tr>\n",
       "      <th>430</th>\n",
       "      <td>20689</td>\n",
       "      <td>850</td>\n",
       "      <td>Moon River Brewing Company</td>\n",
       "      <td>cMonkey</td>\n",
       "      <td>2005-03-13 17:48:30</td>\n",
       "      <td>Scotch Ale / Wee Heavy</td>\n",
       "      <td>The Highland Stagger</td>\n",
       "      <td>NaN</td>\n",
       "      <td>3.5</td>\n",
       "      <td>4.0</td>\n",
       "      <td>4.5</td>\n",
       "      <td>3.5</td>\n",
       "      <td>3.5</td>\n",
       "    </tr>\n",
       "    <tr>\n",
       "      <th>603</th>\n",
       "      <td>20689</td>\n",
       "      <td>850</td>\n",
       "      <td>Moon River Brewing Company</td>\n",
       "      <td>aracauna</td>\n",
       "      <td>2004-11-09 22:20:19</td>\n",
       "      <td>Scotch Ale / Wee Heavy</td>\n",
       "      <td>The Highland Stagger</td>\n",
       "      <td>NaN</td>\n",
       "      <td>4.0</td>\n",
       "      <td>3.5</td>\n",
       "      <td>4.0</td>\n",
       "      <td>3.5</td>\n",
       "      <td>3.5</td>\n",
       "    </tr>\n",
       "    <tr>\n",
       "      <th>733</th>\n",
       "      <td>54723</td>\n",
       "      <td>1075</td>\n",
       "      <td>Caldera Brewing Company</td>\n",
       "      <td>plaid75</td>\n",
       "      <td>2009-12-13 03:12:01</td>\n",
       "      <td>American IPA</td>\n",
       "      <td>Alpha Beta</td>\n",
       "      <td>NaN</td>\n",
       "      <td>4.0</td>\n",
       "      <td>4.0</td>\n",
       "      <td>4.0</td>\n",
       "      <td>4.0</td>\n",
       "      <td>4.0</td>\n",
       "    </tr>\n",
       "    <tr>\n",
       "      <th>798</th>\n",
       "      <td>42964</td>\n",
       "      <td>1075</td>\n",
       "      <td>Caldera Brewing Company</td>\n",
       "      <td>grumpy</td>\n",
       "      <td>2008-05-31 02:34:28</td>\n",
       "      <td>American Double / Imperial Stout</td>\n",
       "      <td>Imperial Stout</td>\n",
       "      <td>NaN</td>\n",
       "      <td>4.5</td>\n",
       "      <td>4.5</td>\n",
       "      <td>4.0</td>\n",
       "      <td>4.0</td>\n",
       "      <td>4.5</td>\n",
       "    </tr>\n",
       "  </tbody>\n",
       "</table>\n",
       "</div>"
      ],
      "text/plain": [
       "     beer_beerid  brewery_id                brewery_name review_profilename  \\\n",
       "273        21241        1075     Caldera Brewing Company         RedDiamond   \n",
       "430        20689         850  Moon River Brewing Company            cMonkey   \n",
       "603        20689         850  Moon River Brewing Company           aracauna   \n",
       "733        54723        1075     Caldera Brewing Company            plaid75   \n",
       "798        42964        1075     Caldera Brewing Company             grumpy   \n",
       "\n",
       "            review_time                        beer_style  \\\n",
       "273 2004-12-21 22:29:55                    American Stout   \n",
       "430 2005-03-13 17:48:30            Scotch Ale / Wee Heavy   \n",
       "603 2004-11-09 22:20:19            Scotch Ale / Wee Heavy   \n",
       "733 2009-12-13 03:12:01                      American IPA   \n",
       "798 2008-05-31 02:34:28  American Double / Imperial Stout   \n",
       "\n",
       "                   beer_name  beer_abv  review_overall  review_aroma  \\\n",
       "273  Cauldron Espresso Stout       NaN             3.0           3.0   \n",
       "430     The Highland Stagger       NaN             3.5           4.0   \n",
       "603     The Highland Stagger       NaN             4.0           3.5   \n",
       "733               Alpha Beta       NaN             4.0           4.0   \n",
       "798           Imperial Stout       NaN             4.5           4.5   \n",
       "\n",
       "     review_appearance  review_palate  review_taste  \n",
       "273                3.0            4.0           3.0  \n",
       "430                4.5            3.5           3.5  \n",
       "603                4.0            3.5           3.5  \n",
       "733                4.0            4.0           4.0  \n",
       "798                4.0            4.0           4.5  "
      ]
     },
     "execution_count": 22,
     "metadata": {},
     "output_type": "execute_result"
    }
   ],
   "source": [
    "beers_with_missing_abv = beer_reviews[beer_reviews.beer_abv.isnull()]\n",
    "beers_with_missing_abv.head()"
   ]
  },
  {
   "cell_type": "code",
   "execution_count": 23,
   "metadata": {},
   "outputs": [
    {
     "name": "stdout",
     "output_type": "stream",
     "text": [
      "Total number of breweries: 5743\n",
      "Number of breweries with missing data for beer ABV: 2779\n"
     ]
    }
   ],
   "source": [
    "print(\"Total number of breweries: {}\".format(len(beer_reviews.brewery_name.unique())))\n",
    "print(\"Number of breweries with missing data for beer ABV: {}\".format(len(beers_with_missing_abv.brewery_name.unique())))"
   ]
  },
  {
   "cell_type": "code",
   "execution_count": 24,
   "metadata": {},
   "outputs": [
    {
     "data": {
      "text/plain": [
       "Timestamp('2012-01-11 06:35:37')"
      ]
     },
     "execution_count": 24,
     "metadata": {},
     "output_type": "execute_result"
    }
   ],
   "source": [
    "beers_with_missing_abv.review_time.max()"
   ]
  },
  {
   "cell_type": "code",
   "execution_count": 25,
   "metadata": {},
   "outputs": [],
   "source": [
    "beers_with_known_abv = beer_reviews[~beer_reviews.beer_abv.isnull()]"
   ]
  },
  {
   "cell_type": "code",
   "execution_count": 26,
   "metadata": {},
   "outputs": [
    {
     "data": {
      "image/png": "[encoded data removed]",
      "text/plain": [
       "<matplotlib.figure.Figure at 0x234824ab080>"
      ]
     },
     "metadata": {
      "needs_background": "light"
     },
     "output_type": "display_data"
    }
   ],
   "source": [
    "plt.hist(beers_with_known_abv.beer_abv, bins = 30)\n",
    "plt.show()"
   ]
  },
  {
   "cell_type": "code",
   "execution_count": 27,
   "metadata": {},
   "outputs": [
    {
     "data": {
      "text/plain": [
       "0"
      ]
     },
     "execution_count": 27,
     "metadata": {},
     "output_type": "execute_result"
    }
   ],
   "source": [
    "len(beer_reviews[beer_reviews.beer_abv == 0])"
   ]
  },
  {
   "cell_type": "code",
   "execution_count": 28,
   "metadata": {},
   "outputs": [],
   "source": [
    "LOW_ALCOHOL_THRESHOLD = 20\n",
    "beers_with_low_abv = beer_reviews[beer_reviews.beer_abv <= LOW_ALCOHOL_THRESHOLD]\n",
    "beers_with_high_abv = beer_reviews[beer_reviews.beer_abv > LOW_ALCOHOL_THRESHOLD]"
   ]
  },
  {
   "cell_type": "code",
   "execution_count": 29,
   "metadata": {},
   "outputs": [
    {
     "data": {
      "image/png": "[encoded data removed]",
      "text/plain": [
       "<matplotlib.figure.Figure at 0x2348506ef28>"
      ]
     },
     "metadata": {
      "needs_background": "light"
     },
     "output_type": "display_data"
    }
   ],
   "source": [
    "plt.hist(beers_with_high_abv.beer_abv)\n",
    "plt.show()"
   ]
  },
  {
   "cell_type": "code",
   "execution_count": 30,
   "metadata": {},
   "outputs": [
    {
     "data": {
      "text/html": [
       "<div>\n",
       "<style scoped>\n",
       "    .dataframe tbody tr th:only-of-type {\n",
       "        vertical-align: middle;\n",
       "    }\n",
       "\n",
       "    .dataframe tbody tr th {\n",
       "        vertical-align: top;\n",
       "    }\n",
       "\n",
       "    .dataframe thead th {\n",
       "        text-align: right;\n",
       "    }\n",
       "</style>\n",
       "<table border=\"1\" class=\"dataframe\">\n",
       "  <thead>\n",
       "    <tr style=\"text-align: right;\">\n",
       "      <th></th>\n",
       "      <th>beer_beerid</th>\n",
       "      <th>brewery_id</th>\n",
       "      <th>brewery_name</th>\n",
       "      <th>review_profilename</th>\n",
       "      <th>review_time</th>\n",
       "      <th>beer_style</th>\n",
       "      <th>beer_name</th>\n",
       "      <th>beer_abv</th>\n",
       "      <th>review_overall</th>\n",
       "      <th>review_aroma</th>\n",
       "      <th>review_appearance</th>\n",
       "      <th>review_palate</th>\n",
       "      <th>review_taste</th>\n",
       "    </tr>\n",
       "  </thead>\n",
       "  <tbody>\n",
       "    <tr>\n",
       "      <th>12919</th>\n",
       "      <td>73368</td>\n",
       "      <td>6513</td>\n",
       "      <td>Schorschbräu</td>\n",
       "      <td>kappldav123</td>\n",
       "      <td>2011-09-23 12:28:21</td>\n",
       "      <td>Eisbock</td>\n",
       "      <td>Schorschbräu Schorschbock 57%</td>\n",
       "      <td>57.7</td>\n",
       "      <td>4.0</td>\n",
       "      <td>4.0</td>\n",
       "      <td>4.0</td>\n",
       "      <td>4.0</td>\n",
       "      <td>3.5</td>\n",
       "    </tr>\n",
       "  </tbody>\n",
       "</table>\n",
       "</div>"
      ],
      "text/plain": [
       "       beer_beerid  brewery_id  brewery_name review_profilename  \\\n",
       "12919        73368        6513  Schorschbräu        kappldav123   \n",
       "\n",
       "              review_time beer_style                      beer_name  beer_abv  \\\n",
       "12919 2011-09-23 12:28:21    Eisbock  Schorschbräu Schorschbock 57%      57.7   \n",
       "\n",
       "       review_overall  review_aroma  review_appearance  review_palate  \\\n",
       "12919             4.0           4.0                4.0            4.0   \n",
       "\n",
       "       review_taste  \n",
       "12919           3.5  "
      ]
     },
     "execution_count": 30,
     "metadata": {},
     "output_type": "execute_result"
    }
   ],
   "source": [
    "beer_reviews[beer_reviews.beer_abv == beer_reviews.beer_abv.max()]"
   ]
  },
  {
   "cell_type": "code",
   "execution_count": 31,
   "metadata": {},
   "outputs": [
    {
     "data": {
      "text/plain": [
       "7.0318344954258745"
      ]
     },
     "execution_count": 31,
     "metadata": {},
     "output_type": "execute_result"
    }
   ],
   "source": [
    "beers_with_low_abv.beer_abv.mean()"
   ]
  },
  {
   "cell_type": "code",
   "execution_count": 32,
   "metadata": {},
   "outputs": [
    {
     "data": {
      "text/plain": [
       "0    5.0\n",
       "dtype: float64"
      ]
     },
     "execution_count": 32,
     "metadata": {},
     "output_type": "execute_result"
    }
   ],
   "source": [
    "beers_with_low_abv.beer_abv.mode()"
   ]
  },
  {
   "cell_type": "code",
   "execution_count": 33,
   "metadata": {},
   "outputs": [
    {
     "data": {
      "text/plain": [
       "6.5"
      ]
     },
     "execution_count": 33,
     "metadata": {},
     "output_type": "execute_result"
    }
   ],
   "source": [
    "beers_with_low_abv.beer_abv.median()"
   ]
  },
  {
   "cell_type": "code",
   "execution_count": 34,
   "metadata": {},
   "outputs": [
    {
     "data": {
      "text/plain": [
       "1.164489621689754"
      ]
     },
     "execution_count": 34,
     "metadata": {},
     "output_type": "execute_result"
    }
   ],
   "source": [
    "beers_with_low_abv.beer_abv.skew()"
   ]
  },
  {
   "cell_type": "code",
   "execution_count": 35,
   "metadata": {},
   "outputs": [
    {
     "data": {
      "text/plain": [
       "56857"
      ]
     },
     "execution_count": 35,
     "metadata": {},
     "output_type": "execute_result"
    }
   ],
   "source": [
    "len(beer_reviews.beer_name.unique())"
   ]
  },
  {
   "cell_type": "code",
   "execution_count": 36,
   "metadata": {},
   "outputs": [
    {
     "data": {
      "text/plain": [
       "14110"
      ]
     },
     "execution_count": 36,
     "metadata": {},
     "output_type": "execute_result"
    }
   ],
   "source": [
    "len(beers_with_missing_abv.beer_name.unique())"
   ]
  },
  {
   "cell_type": "code",
   "execution_count": 37,
   "metadata": {},
   "outputs": [
    {
     "data": {
      "text/plain": [
       "1207080      Almost Heaven Amber Ale\n",
       "981049                  Bayern Amber\n",
       "1092885            Frundsberg Dunkel\n",
       "1067137         Boscos London Porter\n",
       "585407     Chief Wawatam Steam Lager\n",
       "Name: beer_name, dtype: object"
      ]
     },
     "execution_count": 37,
     "metadata": {},
     "output_type": "execute_result"
    }
   ],
   "source": [
    "beers_with_missing_abv.beer_name.sample(5)"
   ]
  },
  {
   "cell_type": "code",
   "execution_count": 38,
   "metadata": {},
   "outputs": [
    {
     "data": {
      "text/html": [
       "<div>\n",
       "<style scoped>\n",
       "    .dataframe tbody tr th:only-of-type {\n",
       "        vertical-align: middle;\n",
       "    }\n",
       "\n",
       "    .dataframe tbody tr th {\n",
       "        vertical-align: top;\n",
       "    }\n",
       "\n",
       "    .dataframe thead th {\n",
       "        text-align: right;\n",
       "    }\n",
       "</style>\n",
       "<table border=\"1\" class=\"dataframe\">\n",
       "  <thead>\n",
       "    <tr style=\"text-align: right;\">\n",
       "      <th></th>\n",
       "      <th>beer_beerid</th>\n",
       "      <th>brewery_id</th>\n",
       "      <th>brewery_name</th>\n",
       "      <th>review_profilename</th>\n",
       "      <th>review_time</th>\n",
       "      <th>beer_style</th>\n",
       "      <th>beer_name</th>\n",
       "      <th>beer_abv</th>\n",
       "      <th>review_overall</th>\n",
       "      <th>review_aroma</th>\n",
       "      <th>review_appearance</th>\n",
       "      <th>review_palate</th>\n",
       "      <th>review_taste</th>\n",
       "    </tr>\n",
       "  </thead>\n",
       "  <tbody>\n",
       "    <tr>\n",
       "      <th>98517</th>\n",
       "      <td>75763</td>\n",
       "      <td>27632</td>\n",
       "      <td>Aztec Brewing Company</td>\n",
       "      <td>HopHead84</td>\n",
       "      <td>2011-11-27 17:32:36</td>\n",
       "      <td>Baltic Porter</td>\n",
       "      <td>Eclipse</td>\n",
       "      <td>6.4</td>\n",
       "      <td>4.0</td>\n",
       "      <td>4.0</td>\n",
       "      <td>4.0</td>\n",
       "      <td>4.0</td>\n",
       "      <td>4.0</td>\n",
       "    </tr>\n",
       "    <tr>\n",
       "      <th>717336</th>\n",
       "      <td>28720</td>\n",
       "      <td>10193</td>\n",
       "      <td>Blindmans Brewery</td>\n",
       "      <td>wl0307</td>\n",
       "      <td>2006-03-03 01:54:26</td>\n",
       "      <td>English Porter</td>\n",
       "      <td>Eclipse</td>\n",
       "      <td>4.2</td>\n",
       "      <td>3.5</td>\n",
       "      <td>4.5</td>\n",
       "      <td>4.0</td>\n",
       "      <td>3.5</td>\n",
       "      <td>3.5</td>\n",
       "    </tr>\n",
       "    <tr>\n",
       "      <th>1249958</th>\n",
       "      <td>43459</td>\n",
       "      <td>944</td>\n",
       "      <td>Commonwealth Brewery Ltd.</td>\n",
       "      <td>wcudwight</td>\n",
       "      <td>2008-06-30 04:06:02</td>\n",
       "      <td>American Adjunct Lager</td>\n",
       "      <td>Eclipse</td>\n",
       "      <td>NaN</td>\n",
       "      <td>2.5</td>\n",
       "      <td>3.0</td>\n",
       "      <td>2.0</td>\n",
       "      <td>2.5</td>\n",
       "      <td>2.5</td>\n",
       "    </tr>\n",
       "    <tr>\n",
       "      <th>1249968</th>\n",
       "      <td>43459</td>\n",
       "      <td>944</td>\n",
       "      <td>Commonwealth Brewery Ltd.</td>\n",
       "      <td>KeefD</td>\n",
       "      <td>2008-11-14 21:17:11</td>\n",
       "      <td>American Adjunct Lager</td>\n",
       "      <td>Eclipse</td>\n",
       "      <td>NaN</td>\n",
       "      <td>4.0</td>\n",
       "      <td>2.5</td>\n",
       "      <td>3.0</td>\n",
       "      <td>4.0</td>\n",
       "      <td>3.0</td>\n",
       "    </tr>\n",
       "    <tr>\n",
       "      <th>1427497</th>\n",
       "      <td>61110</td>\n",
       "      <td>235</td>\n",
       "      <td>Northampton Brewery</td>\n",
       "      <td>MA08</td>\n",
       "      <td>2010-08-24 18:45:31</td>\n",
       "      <td>American Black Ale</td>\n",
       "      <td>Eclipse</td>\n",
       "      <td>4.9</td>\n",
       "      <td>4.0</td>\n",
       "      <td>3.0</td>\n",
       "      <td>2.5</td>\n",
       "      <td>3.0</td>\n",
       "      <td>4.0</td>\n",
       "    </tr>\n",
       "    <tr>\n",
       "      <th>1427498</th>\n",
       "      <td>61110</td>\n",
       "      <td>235</td>\n",
       "      <td>Northampton Brewery</td>\n",
       "      <td>connecticutpoet</td>\n",
       "      <td>2010-08-17 03:08:52</td>\n",
       "      <td>American Black Ale</td>\n",
       "      <td>Eclipse</td>\n",
       "      <td>4.9</td>\n",
       "      <td>3.5</td>\n",
       "      <td>3.0</td>\n",
       "      <td>3.5</td>\n",
       "      <td>3.5</td>\n",
       "      <td>3.0</td>\n",
       "    </tr>\n",
       "  </tbody>\n",
       "</table>\n",
       "</div>"
      ],
      "text/plain": [
       "         beer_beerid  brewery_id               brewery_name  \\\n",
       "98517          75763       27632      Aztec Brewing Company   \n",
       "717336         28720       10193          Blindmans Brewery   \n",
       "1249958        43459         944  Commonwealth Brewery Ltd.   \n",
       "1249968        43459         944  Commonwealth Brewery Ltd.   \n",
       "1427497        61110         235        Northampton Brewery   \n",
       "1427498        61110         235        Northampton Brewery   \n",
       "\n",
       "        review_profilename         review_time              beer_style  \\\n",
       "98517            HopHead84 2011-11-27 17:32:36           Baltic Porter   \n",
       "717336              wl0307 2006-03-03 01:54:26          English Porter   \n",
       "1249958          wcudwight 2008-06-30 04:06:02  American Adjunct Lager   \n",
       "1249968              KeefD 2008-11-14 21:17:11  American Adjunct Lager   \n",
       "1427497               MA08 2010-08-24 18:45:31      American Black Ale   \n",
       "1427498    connecticutpoet 2010-08-17 03:08:52      American Black Ale   \n",
       "\n",
       "        beer_name  beer_abv  review_overall  review_aroma  review_appearance  \\\n",
       "98517     Eclipse       6.4             4.0           4.0                4.0   \n",
       "717336    Eclipse       4.2             3.5           4.5                4.0   \n",
       "1249958   Eclipse       NaN             2.5           3.0                2.0   \n",
       "1249968   Eclipse       NaN             4.0           2.5                3.0   \n",
       "1427497   Eclipse       4.9             4.0           3.0                2.5   \n",
       "1427498   Eclipse       4.9             3.5           3.0                3.5   \n",
       "\n",
       "         review_palate  review_taste  \n",
       "98517              4.0           4.0  \n",
       "717336             3.5           3.5  \n",
       "1249958            2.5           2.5  \n",
       "1249968            4.0           3.0  \n",
       "1427497            3.0           4.0  \n",
       "1427498            3.5           3.0  "
      ]
     },
     "execution_count": 38,
     "metadata": {},
     "output_type": "execute_result"
    }
   ],
   "source": [
    "beer_reviews[beer_reviews.beer_name == \"Eclipse\"]"
   ]
  },
  {
   "cell_type": "code",
   "execution_count": 41,
   "metadata": {},
   "outputs": [
    {
     "data": {
      "text/plain": [
       "66055"
      ]
     },
     "execution_count": 41,
     "metadata": {},
     "output_type": "execute_result"
    }
   ],
   "source": [
    "len(beer_reviews.beer_beerid.unique())"
   ]
  },
  {
   "cell_type": "code",
   "execution_count": 66,
   "metadata": {},
   "outputs": [
    {
     "data": {
      "text/plain": [
       "beer_style\n",
       "American IPA                        117586\n",
       "American Double / Imperial IPA       85977\n",
       "American Pale Ale (APA)              63469\n",
       "Russian Imperial Stout               54129\n",
       "American Double / Imperial Stout     50705\n",
       "American Porter                      50477\n",
       "American Amber / Red Ale             45751\n",
       "Belgian Strong Dark Ale              37743\n",
       "Fruit / Vegetable Beer               33861\n",
       "American Strong Ale                  31945\n",
       "dtype: int64"
      ]
     },
     "execution_count": 66,
     "metadata": {},
     "output_type": "execute_result"
    }
   ],
   "source": [
    "top_beer_styles = beer_reviews.groupby(\"beer_style\").size().sort_values(ascending = False).head(10)\n",
    "top_beer_styles"
   ]
  },
  {
   "cell_type": "code",
   "execution_count": 70,
   "metadata": {},
   "outputs": [
    {
     "data": {
      "image/png": "[encoded data removed]",
      "text/plain": [
       "<matplotlib.figure.Figure at 0x2348584beb8>"
      ]
     },
     "metadata": {
      "needs_background": "light"
     },
     "output_type": "display_data"
    }
   ],
   "source": [
    "plt.barh(range(len(top_beer_styles.index)), top_beer_styles)\n",
    "\n",
    "plt.title(\"Top 10 beers\")\n",
    "plt.xlabel(\"Number of reviews\")\n",
    "plt.yticks(range(len(top_beer_styles)), top_beer_styles.index)\n",
    "plt.gca().invert_yaxis()\n",
    "plt.show()"
   ]
  },
  {
   "cell_type": "code",
   "execution_count": 72,
   "metadata": {},
   "outputs": [],
   "source": [
    "# \"review_overall\", \"review_aroma\", \"review_appearance\", \"review_palate\", \"review_taste\""
   ]
  },
  {
   "cell_type": "code",
   "execution_count": 92,
   "metadata": {},
   "outputs": [],
   "source": [
    "def plot_rating_histogram(column_name, show = True):\n",
    "    alpha = 1 if show else 0.5\n",
    "    plt.hist(beer_reviews[\"review_\" + column_name], bins = 11, label = column_name, alpha = alpha)\n",
    "\n",
    "    plt.title(\"Distribution of {} rating\".format(column_name))\n",
    "    plt.xlabel(\"Rating\")\n",
    "    plt.ylabel(\"Count\")\n",
    "    plt.legend()\n",
    "    if show:\n",
    "        plt.show()"
   ]
  },
  {
   "cell_type": "code",
   "execution_count": 93,
   "metadata": {},
   "outputs": [
    {
     "data": {
      "image/png": "[encoded data removed]",
      "text/plain": [
       "<matplotlib.figure.Figure at 0x2348777cef0>"
      ]
     },
     "metadata": {
      "needs_background": "light"
     },
     "output_type": "display_data"
    },
    {
     "data": {
      "image/png": "[encoded data removed]",
      "text/plain": [
       "<matplotlib.figure.Figure at 0x23487659198>"
      ]
     },
     "metadata": {
      "needs_background": "light"
     },
     "output_type": "display_data"
    },
    {
     "data": {
      "image/png": "[encoded data removed]",
      "text/plain": [
       "<matplotlib.figure.Figure at 0x234841165f8>"
      ]
     },
     "metadata": {
      "needs_background": "light"
     },
     "output_type": "display_data"
    },
    {
     "data": {
      "image/png": "[encoded data removed]",
      "text/plain": [
       "<matplotlib.figure.Figure at 0x234a56ac278>"
      ]
     },
     "metadata": {
      "needs_background": "light"
     },
     "output_type": "display_data"
    }
   ],
   "source": [
    "plot_rating_histogram(\"aroma\")\n",
    "plot_rating_histogram(\"appearance\")\n",
    "plot_rating_histogram(\"palate\")\n",
    "plot_rating_histogram(\"taste\")"
   ]
  },
  {
   "cell_type": "code",
   "execution_count": 94,
   "metadata": {},
   "outputs": [
    {
     "data": {
      "image/png": "[encoded data removed]",
      "text/plain": [
       "<matplotlib.figure.Figure at 0x234a536d9b0>"
      ]
     },
     "metadata": {
      "needs_background": "light"
     },
     "output_type": "display_data"
    }
   ],
   "source": [
    "plot_rating_histogram(\"aroma\", show = False)\n",
    "plot_rating_histogram(\"appearance\", show = False)\n",
    "plot_rating_histogram(\"palate\", show = False)\n",
    "plot_rating_histogram(\"taste\", show = False)"
   ]
  },
  {
   "cell_type": "code",
   "execution_count": 97,
   "metadata": {},
   "outputs": [
    {
     "data": {
      "text/html": [
       "<div>\n",
       "<style scoped>\n",
       "    .dataframe tbody tr th:only-of-type {\n",
       "        vertical-align: middle;\n",
       "    }\n",
       "\n",
       "    .dataframe tbody tr th {\n",
       "        vertical-align: top;\n",
       "    }\n",
       "\n",
       "    .dataframe thead th {\n",
       "        text-align: right;\n",
       "    }\n",
       "</style>\n",
       "<table border=\"1\" class=\"dataframe\">\n",
       "  <thead>\n",
       "    <tr style=\"text-align: right;\">\n",
       "      <th></th>\n",
       "      <th>beer_beerid</th>\n",
       "      <th>brewery_id</th>\n",
       "      <th>brewery_name</th>\n",
       "      <th>review_profilename</th>\n",
       "      <th>review_time</th>\n",
       "      <th>beer_style</th>\n",
       "      <th>beer_name</th>\n",
       "      <th>beer_abv</th>\n",
       "      <th>review_overall</th>\n",
       "      <th>review_aroma</th>\n",
       "      <th>review_appearance</th>\n",
       "      <th>review_palate</th>\n",
       "      <th>review_taste</th>\n",
       "    </tr>\n",
       "  </thead>\n",
       "  <tbody>\n",
       "    <tr>\n",
       "      <th>37234</th>\n",
       "      <td>3806</td>\n",
       "      <td>1413</td>\n",
       "      <td>Desert Edge Brewery</td>\n",
       "      <td>beernut7</td>\n",
       "      <td>2002-08-24 14:01:10</td>\n",
       "      <td>Czech Pilsener</td>\n",
       "      <td>Pub Pils</td>\n",
       "      <td>4.0</td>\n",
       "      <td>0.0</td>\n",
       "      <td>2.0</td>\n",
       "      <td>0.0</td>\n",
       "      <td>3.0</td>\n",
       "      <td>2.0</td>\n",
       "    </tr>\n",
       "    <tr>\n",
       "      <th>39648</th>\n",
       "      <td>3804</td>\n",
       "      <td>1413</td>\n",
       "      <td>Desert Edge Brewery</td>\n",
       "      <td>beernut7</td>\n",
       "      <td>2002-08-25 09:19:18</td>\n",
       "      <td>Irish Dry Stout</td>\n",
       "      <td>Latter Days Stout</td>\n",
       "      <td>4.0</td>\n",
       "      <td>0.0</td>\n",
       "      <td>4.0</td>\n",
       "      <td>0.0</td>\n",
       "      <td>2.0</td>\n",
       "      <td>2.0</td>\n",
       "    </tr>\n",
       "    <tr>\n",
       "      <th>39667</th>\n",
       "      <td>3810</td>\n",
       "      <td>1413</td>\n",
       "      <td>Desert Edge Brewery</td>\n",
       "      <td>beernut7</td>\n",
       "      <td>2002-08-25 09:14:49</td>\n",
       "      <td>American Pale Ale (APA)</td>\n",
       "      <td>Utah Pale Ale</td>\n",
       "      <td>4.0</td>\n",
       "      <td>0.0</td>\n",
       "      <td>3.0</td>\n",
       "      <td>0.0</td>\n",
       "      <td>2.0</td>\n",
       "      <td>2.0</td>\n",
       "    </tr>\n",
       "    <tr>\n",
       "      <th>653695</th>\n",
       "      <td>3788</td>\n",
       "      <td>1412</td>\n",
       "      <td>Red Rock Brewing Company</td>\n",
       "      <td>beernut7</td>\n",
       "      <td>2002-08-22 09:17:39</td>\n",
       "      <td>Hefeweizen</td>\n",
       "      <td>Red Rock Bavarian Weiss</td>\n",
       "      <td>4.0</td>\n",
       "      <td>0.0</td>\n",
       "      <td>2.0</td>\n",
       "      <td>0.0</td>\n",
       "      <td>2.5</td>\n",
       "      <td>2.0</td>\n",
       "    </tr>\n",
       "    <tr>\n",
       "      <th>653706</th>\n",
       "      <td>3787</td>\n",
       "      <td>1412</td>\n",
       "      <td>Red Rock Brewing Company</td>\n",
       "      <td>beernut7</td>\n",
       "      <td>2002-08-22 09:22:22</td>\n",
       "      <td>American Amber / Red Ale</td>\n",
       "      <td>Red Rock Amber Ale</td>\n",
       "      <td>4.0</td>\n",
       "      <td>0.0</td>\n",
       "      <td>3.0</td>\n",
       "      <td>0.0</td>\n",
       "      <td>2.5</td>\n",
       "      <td>3.5</td>\n",
       "    </tr>\n",
       "    <tr>\n",
       "      <th>653726</th>\n",
       "      <td>3822</td>\n",
       "      <td>1412</td>\n",
       "      <td>Red Rock Brewing Company</td>\n",
       "      <td>beernut7</td>\n",
       "      <td>2002-08-22 09:15:37</td>\n",
       "      <td>German Pilsener</td>\n",
       "      <td>Red Rock Pilsner</td>\n",
       "      <td>4.0</td>\n",
       "      <td>0.0</td>\n",
       "      <td>2.0</td>\n",
       "      <td>0.0</td>\n",
       "      <td>3.0</td>\n",
       "      <td>1.5</td>\n",
       "    </tr>\n",
       "    <tr>\n",
       "      <th>653740</th>\n",
       "      <td>3786</td>\n",
       "      <td>1412</td>\n",
       "      <td>Red Rock Brewing Company</td>\n",
       "      <td>beernut7</td>\n",
       "      <td>2002-08-22 09:20:39</td>\n",
       "      <td>Dunkelweizen</td>\n",
       "      <td>Red Rock Dunkel Weizen</td>\n",
       "      <td>4.0</td>\n",
       "      <td>0.0</td>\n",
       "      <td>2.0</td>\n",
       "      <td>0.0</td>\n",
       "      <td>2.5</td>\n",
       "      <td>2.0</td>\n",
       "    </tr>\n",
       "  </tbody>\n",
       "</table>\n",
       "</div>"
      ],
      "text/plain": [
       "        beer_beerid  brewery_id              brewery_name review_profilename  \\\n",
       "37234          3806        1413       Desert Edge Brewery           beernut7   \n",
       "39648          3804        1413       Desert Edge Brewery           beernut7   \n",
       "39667          3810        1413       Desert Edge Brewery           beernut7   \n",
       "653695         3788        1412  Red Rock Brewing Company           beernut7   \n",
       "653706         3787        1412  Red Rock Brewing Company           beernut7   \n",
       "653726         3822        1412  Red Rock Brewing Company           beernut7   \n",
       "653740         3786        1412  Red Rock Brewing Company           beernut7   \n",
       "\n",
       "               review_time                beer_style                beer_name  \\\n",
       "37234  2002-08-24 14:01:10            Czech Pilsener                 Pub Pils   \n",
       "39648  2002-08-25 09:19:18           Irish Dry Stout        Latter Days Stout   \n",
       "39667  2002-08-25 09:14:49   American Pale Ale (APA)            Utah Pale Ale   \n",
       "653695 2002-08-22 09:17:39                Hefeweizen  Red Rock Bavarian Weiss   \n",
       "653706 2002-08-22 09:22:22  American Amber / Red Ale       Red Rock Amber Ale   \n",
       "653726 2002-08-22 09:15:37           German Pilsener         Red Rock Pilsner   \n",
       "653740 2002-08-22 09:20:39              Dunkelweizen   Red Rock Dunkel Weizen   \n",
       "\n",
       "        beer_abv  review_overall  review_aroma  review_appearance  \\\n",
       "37234        4.0             0.0           2.0                0.0   \n",
       "39648        4.0             0.0           4.0                0.0   \n",
       "39667        4.0             0.0           3.0                0.0   \n",
       "653695       4.0             0.0           2.0                0.0   \n",
       "653706       4.0             0.0           3.0                0.0   \n",
       "653726       4.0             0.0           2.0                0.0   \n",
       "653740       4.0             0.0           2.0                0.0   \n",
       "\n",
       "        review_palate  review_taste  \n",
       "37234             3.0           2.0  \n",
       "39648             2.0           2.0  \n",
       "39667             2.0           2.0  \n",
       "653695            2.5           2.0  \n",
       "653706            2.5           3.5  \n",
       "653726            3.0           1.5  \n",
       "653740            2.5           2.0  "
      ]
     },
     "execution_count": 97,
     "metadata": {},
     "output_type": "execute_result"
    }
   ],
   "source": [
    "beer_reviews[beer_reviews.review_appearance == 0]"
   ]
  },
  {
   "cell_type": "code",
   "execution_count": 98,
   "metadata": {},
   "outputs": [
    {
     "data": {
      "text/html": [
       "<div>\n",
       "<style scoped>\n",
       "    .dataframe tbody tr th:only-of-type {\n",
       "        vertical-align: middle;\n",
       "    }\n",
       "\n",
       "    .dataframe tbody tr th {\n",
       "        vertical-align: top;\n",
       "    }\n",
       "\n",
       "    .dataframe thead th {\n",
       "        text-align: right;\n",
       "    }\n",
       "</style>\n",
       "<table border=\"1\" class=\"dataframe\">\n",
       "  <thead>\n",
       "    <tr style=\"text-align: right;\">\n",
       "      <th></th>\n",
       "      <th>beer_beerid</th>\n",
       "      <th>brewery_id</th>\n",
       "      <th>brewery_name</th>\n",
       "      <th>review_profilename</th>\n",
       "      <th>review_time</th>\n",
       "      <th>beer_style</th>\n",
       "      <th>beer_name</th>\n",
       "      <th>beer_abv</th>\n",
       "      <th>review_overall</th>\n",
       "      <th>review_aroma</th>\n",
       "      <th>review_appearance</th>\n",
       "      <th>review_palate</th>\n",
       "      <th>review_taste</th>\n",
       "    </tr>\n",
       "  </thead>\n",
       "  <tbody>\n",
       "    <tr>\n",
       "      <th>37234</th>\n",
       "      <td>3806</td>\n",
       "      <td>1413</td>\n",
       "      <td>Desert Edge Brewery</td>\n",
       "      <td>beernut7</td>\n",
       "      <td>2002-08-24 14:01:10</td>\n",
       "      <td>Czech Pilsener</td>\n",
       "      <td>Pub Pils</td>\n",
       "      <td>4.0</td>\n",
       "      <td>0.0</td>\n",
       "      <td>2.0</td>\n",
       "      <td>0.0</td>\n",
       "      <td>3.0</td>\n",
       "      <td>2.0</td>\n",
       "    </tr>\n",
       "    <tr>\n",
       "      <th>39648</th>\n",
       "      <td>3804</td>\n",
       "      <td>1413</td>\n",
       "      <td>Desert Edge Brewery</td>\n",
       "      <td>beernut7</td>\n",
       "      <td>2002-08-25 09:19:18</td>\n",
       "      <td>Irish Dry Stout</td>\n",
       "      <td>Latter Days Stout</td>\n",
       "      <td>4.0</td>\n",
       "      <td>0.0</td>\n",
       "      <td>4.0</td>\n",
       "      <td>0.0</td>\n",
       "      <td>2.0</td>\n",
       "      <td>2.0</td>\n",
       "    </tr>\n",
       "    <tr>\n",
       "      <th>39667</th>\n",
       "      <td>3810</td>\n",
       "      <td>1413</td>\n",
       "      <td>Desert Edge Brewery</td>\n",
       "      <td>beernut7</td>\n",
       "      <td>2002-08-25 09:14:49</td>\n",
       "      <td>American Pale Ale (APA)</td>\n",
       "      <td>Utah Pale Ale</td>\n",
       "      <td>4.0</td>\n",
       "      <td>0.0</td>\n",
       "      <td>3.0</td>\n",
       "      <td>0.0</td>\n",
       "      <td>2.0</td>\n",
       "      <td>2.0</td>\n",
       "    </tr>\n",
       "    <tr>\n",
       "      <th>653695</th>\n",
       "      <td>3788</td>\n",
       "      <td>1412</td>\n",
       "      <td>Red Rock Brewing Company</td>\n",
       "      <td>beernut7</td>\n",
       "      <td>2002-08-22 09:17:39</td>\n",
       "      <td>Hefeweizen</td>\n",
       "      <td>Red Rock Bavarian Weiss</td>\n",
       "      <td>4.0</td>\n",
       "      <td>0.0</td>\n",
       "      <td>2.0</td>\n",
       "      <td>0.0</td>\n",
       "      <td>2.5</td>\n",
       "      <td>2.0</td>\n",
       "    </tr>\n",
       "    <tr>\n",
       "      <th>653706</th>\n",
       "      <td>3787</td>\n",
       "      <td>1412</td>\n",
       "      <td>Red Rock Brewing Company</td>\n",
       "      <td>beernut7</td>\n",
       "      <td>2002-08-22 09:22:22</td>\n",
       "      <td>American Amber / Red Ale</td>\n",
       "      <td>Red Rock Amber Ale</td>\n",
       "      <td>4.0</td>\n",
       "      <td>0.0</td>\n",
       "      <td>3.0</td>\n",
       "      <td>0.0</td>\n",
       "      <td>2.5</td>\n",
       "      <td>3.5</td>\n",
       "    </tr>\n",
       "    <tr>\n",
       "      <th>653726</th>\n",
       "      <td>3822</td>\n",
       "      <td>1412</td>\n",
       "      <td>Red Rock Brewing Company</td>\n",
       "      <td>beernut7</td>\n",
       "      <td>2002-08-22 09:15:37</td>\n",
       "      <td>German Pilsener</td>\n",
       "      <td>Red Rock Pilsner</td>\n",
       "      <td>4.0</td>\n",
       "      <td>0.0</td>\n",
       "      <td>2.0</td>\n",
       "      <td>0.0</td>\n",
       "      <td>3.0</td>\n",
       "      <td>1.5</td>\n",
       "    </tr>\n",
       "    <tr>\n",
       "      <th>653740</th>\n",
       "      <td>3786</td>\n",
       "      <td>1412</td>\n",
       "      <td>Red Rock Brewing Company</td>\n",
       "      <td>beernut7</td>\n",
       "      <td>2002-08-22 09:20:39</td>\n",
       "      <td>Dunkelweizen</td>\n",
       "      <td>Red Rock Dunkel Weizen</td>\n",
       "      <td>4.0</td>\n",
       "      <td>0.0</td>\n",
       "      <td>2.0</td>\n",
       "      <td>0.0</td>\n",
       "      <td>2.5</td>\n",
       "      <td>2.0</td>\n",
       "    </tr>\n",
       "  </tbody>\n",
       "</table>\n",
       "</div>"
      ],
      "text/plain": [
       "        beer_beerid  brewery_id              brewery_name review_profilename  \\\n",
       "37234          3806        1413       Desert Edge Brewery           beernut7   \n",
       "39648          3804        1413       Desert Edge Brewery           beernut7   \n",
       "39667          3810        1413       Desert Edge Brewery           beernut7   \n",
       "653695         3788        1412  Red Rock Brewing Company           beernut7   \n",
       "653706         3787        1412  Red Rock Brewing Company           beernut7   \n",
       "653726         3822        1412  Red Rock Brewing Company           beernut7   \n",
       "653740         3786        1412  Red Rock Brewing Company           beernut7   \n",
       "\n",
       "               review_time                beer_style                beer_name  \\\n",
       "37234  2002-08-24 14:01:10            Czech Pilsener                 Pub Pils   \n",
       "39648  2002-08-25 09:19:18           Irish Dry Stout        Latter Days Stout   \n",
       "39667  2002-08-25 09:14:49   American Pale Ale (APA)            Utah Pale Ale   \n",
       "653695 2002-08-22 09:17:39                Hefeweizen  Red Rock Bavarian Weiss   \n",
       "653706 2002-08-22 09:22:22  American Amber / Red Ale       Red Rock Amber Ale   \n",
       "653726 2002-08-22 09:15:37           German Pilsener         Red Rock Pilsner   \n",
       "653740 2002-08-22 09:20:39              Dunkelweizen   Red Rock Dunkel Weizen   \n",
       "\n",
       "        beer_abv  review_overall  review_aroma  review_appearance  \\\n",
       "37234        4.0             0.0           2.0                0.0   \n",
       "39648        4.0             0.0           4.0                0.0   \n",
       "39667        4.0             0.0           3.0                0.0   \n",
       "653695       4.0             0.0           2.0                0.0   \n",
       "653706       4.0             0.0           3.0                0.0   \n",
       "653726       4.0             0.0           2.0                0.0   \n",
       "653740       4.0             0.0           2.0                0.0   \n",
       "\n",
       "        review_palate  review_taste  \n",
       "37234             3.0           2.0  \n",
       "39648             2.0           2.0  \n",
       "39667             2.0           2.0  \n",
       "653695            2.5           2.0  \n",
       "653706            2.5           3.5  \n",
       "653726            3.0           1.5  \n",
       "653740            2.5           2.0  "
      ]
     },
     "execution_count": 98,
     "metadata": {},
     "output_type": "execute_result"
    }
   ],
   "source": [
    "beer_reviews[beer_reviews.review_overall == 0]"
   ]
  },
  {
   "cell_type": "code",
   "execution_count": 99,
   "metadata": {},
   "outputs": [],
   "source": [
    "beer_reviews = beer_reviews[beer_reviews.review_overall > 0]"
   ]
  },
  {
   "cell_type": "code",
   "execution_count": 100,
   "metadata": {},
   "outputs": [
    {
     "data": {
      "image/png": "[encoded data removed]",
      "text/plain": [
       "<matplotlib.figure.Figure at 0x234a59622b0>"
      ]
     },
     "metadata": {
      "needs_background": "light"
     },
     "output_type": "display_data"
    },
    {
     "data": {
      "image/png": "[encoded data removed]",
      "text/plain": [
       "<matplotlib.figure.Figure at 0x234857ac9e8>"
      ]
     },
     "metadata": {
      "needs_background": "light"
     },
     "output_type": "display_data"
    },
    {
     "data": {
      "image/png": "[encoded data removed]",
      "text/plain": [
       "<matplotlib.figure.Figure at 0x234a5864a58>"
      ]
     },
     "metadata": {
      "needs_background": "light"
     },
     "output_type": "display_data"
    },
    {
     "data": {
      "image/png": "[encoded data removed]",
      "text/plain": [
       "<matplotlib.figure.Figure at 0x234a5beb710>"
      ]
     },
     "metadata": {
      "needs_background": "light"
     },
     "output_type": "display_data"
    }
   ],
   "source": [
    "plot_rating_histogram(\"aroma\")\n",
    "plot_rating_histogram(\"appearance\")\n",
    "plot_rating_histogram(\"palate\")\n",
    "plot_rating_histogram(\"taste\")"
   ]
  },
  {
   "cell_type": "code",
   "execution_count": 101,
   "metadata": {},
   "outputs": [
    {
     "data": {
      "image/png": "[encoded data removed]",
      "text/plain": [
       "<matplotlib.figure.Figure at 0x23484c81240>"
      ]
     },
     "metadata": {
      "needs_background": "light"
     },
     "output_type": "display_data"
    }
   ],
   "source": [
    "plot_rating_histogram(\"aroma\", show = False)\n",
    "plot_rating_histogram(\"appearance\", show = False)\n",
    "plot_rating_histogram(\"palate\", show = False)\n",
    "plot_rating_histogram(\"taste\", show = False)"
   ]
  },
  {
   "cell_type": "code",
   "execution_count": 102,
   "metadata": {},
   "outputs": [
    {
     "data": {
      "image/png": "[encoded data removed]",
      "text/plain": [
       "<matplotlib.figure.Figure at 0x23484385780>"
      ]
     },
     "metadata": {
      "needs_background": "light"
     },
     "output_type": "display_data"
    }
   ],
   "source": [
    "plot_rating_histogram(\"overall\")"
   ]
  },
  {
   "cell_type": "code",
   "execution_count": 103,
   "metadata": {},
   "outputs": [
    {
     "data": {
      "image/png": "[encoded data removed]",
      "text/plain": [
       "<matplotlib.figure.Figure at 0x234828049e8>"
      ]
     },
     "metadata": {
      "needs_background": "light"
     },
     "output_type": "display_data"
    }
   ],
   "source": [
    "plot_rating_histogram(\"aroma\", show = False)\n",
    "plot_rating_histogram(\"appearance\", show = False)\n",
    "plot_rating_histogram(\"palate\", show = False)\n",
    "plot_rating_histogram(\"taste\", show = False)\n",
    "plot_rating_histogram(\"overall\", show = False)"
   ]
  },
  {
   "cell_type": "code",
   "execution_count": 108,
   "metadata": {},
   "outputs": [
    {
     "data": {
      "text/html": [
       "<div>\n",
       "<style scoped>\n",
       "    .dataframe tbody tr th:only-of-type {\n",
       "        vertical-align: middle;\n",
       "    }\n",
       "\n",
       "    .dataframe tbody tr th {\n",
       "        vertical-align: top;\n",
       "    }\n",
       "\n",
       "    .dataframe thead th {\n",
       "        text-align: right;\n",
       "    }\n",
       "</style>\n",
       "<table border=\"1\" class=\"dataframe\">\n",
       "  <thead>\n",
       "    <tr style=\"text-align: right;\">\n",
       "      <th></th>\n",
       "      <th>review_overall</th>\n",
       "      <th>review_aroma</th>\n",
       "      <th>review_appearance</th>\n",
       "      <th>review_palate</th>\n",
       "      <th>review_taste</th>\n",
       "    </tr>\n",
       "  </thead>\n",
       "  <tbody>\n",
       "    <tr>\n",
       "      <th>review_overall</th>\n",
       "      <td>1.000000</td>\n",
       "      <td>0.616017</td>\n",
       "      <td>0.501661</td>\n",
       "      <td>0.701920</td>\n",
       "      <td>0.789822</td>\n",
       "    </tr>\n",
       "    <tr>\n",
       "      <th>review_aroma</th>\n",
       "      <td>0.616017</td>\n",
       "      <td>1.000000</td>\n",
       "      <td>0.561036</td>\n",
       "      <td>0.616946</td>\n",
       "      <td>0.716774</td>\n",
       "    </tr>\n",
       "    <tr>\n",
       "      <th>review_appearance</th>\n",
       "      <td>0.501661</td>\n",
       "      <td>0.561036</td>\n",
       "      <td>1.000000</td>\n",
       "      <td>0.566637</td>\n",
       "      <td>0.546972</td>\n",
       "    </tr>\n",
       "    <tr>\n",
       "      <th>review_palate</th>\n",
       "      <td>0.701920</td>\n",
       "      <td>0.616946</td>\n",
       "      <td>0.566637</td>\n",
       "      <td>1.000000</td>\n",
       "      <td>0.734132</td>\n",
       "    </tr>\n",
       "    <tr>\n",
       "      <th>review_taste</th>\n",
       "      <td>0.789822</td>\n",
       "      <td>0.716774</td>\n",
       "      <td>0.546972</td>\n",
       "      <td>0.734132</td>\n",
       "      <td>1.000000</td>\n",
       "    </tr>\n",
       "  </tbody>\n",
       "</table>\n",
       "</div>"
      ],
      "text/plain": [
       "                   review_overall  review_aroma  review_appearance  \\\n",
       "review_overall           1.000000      0.616017           0.501661   \n",
       "review_aroma             0.616017      1.000000           0.561036   \n",
       "review_appearance        0.501661      0.561036           1.000000   \n",
       "review_palate            0.701920      0.616946           0.566637   \n",
       "review_taste             0.789822      0.716774           0.546972   \n",
       "\n",
       "                   review_palate  review_taste  \n",
       "review_overall          0.701920      0.789822  \n",
       "review_aroma            0.616946      0.716774  \n",
       "review_appearance       0.566637      0.546972  \n",
       "review_palate           1.000000      0.734132  \n",
       "review_taste            0.734132      1.000000  "
      ]
     },
     "execution_count": 108,
     "metadata": {},
     "output_type": "execute_result"
    }
   ],
   "source": [
    "beer_reviews[[\"review_overall\", \"review_aroma\", \"review_appearance\", \"review_palate\", \"review_taste\"]].corr()"
   ]
  },
  {
   "cell_type": "code",
   "execution_count": 110,
   "metadata": {},
   "outputs": [
    {
     "data": {
      "text/html": [
       "<div>\n",
       "<style scoped>\n",
       "    .dataframe tbody tr th:only-of-type {\n",
       "        vertical-align: middle;\n",
       "    }\n",
       "\n",
       "    .dataframe tbody tr th {\n",
       "        vertical-align: top;\n",
       "    }\n",
       "\n",
       "    .dataframe thead th {\n",
       "        text-align: right;\n",
       "    }\n",
       "</style>\n",
       "<table border=\"1\" class=\"dataframe\">\n",
       "  <thead>\n",
       "    <tr style=\"text-align: right;\">\n",
       "      <th>review_aroma</th>\n",
       "      <th>1.0</th>\n",
       "      <th>1.5</th>\n",
       "      <th>2.0</th>\n",
       "      <th>2.5</th>\n",
       "      <th>3.0</th>\n",
       "      <th>3.5</th>\n",
       "      <th>4.0</th>\n",
       "      <th>4.5</th>\n",
       "      <th>5.0</th>\n",
       "    </tr>\n",
       "    <tr>\n",
       "      <th>review_overall</th>\n",
       "      <th></th>\n",
       "      <th></th>\n",
       "      <th></th>\n",
       "      <th></th>\n",
       "      <th></th>\n",
       "      <th></th>\n",
       "      <th></th>\n",
       "      <th></th>\n",
       "      <th></th>\n",
       "    </tr>\n",
       "  </thead>\n",
       "  <tbody>\n",
       "    <tr>\n",
       "      <th>1.0</th>\n",
       "      <td>3397</td>\n",
       "      <td>2051</td>\n",
       "      <td>2486</td>\n",
       "      <td>1005</td>\n",
       "      <td>982</td>\n",
       "      <td>475</td>\n",
       "      <td>428</td>\n",
       "      <td>97</td>\n",
       "      <td>33</td>\n",
       "    </tr>\n",
       "    <tr>\n",
       "      <th>1.5</th>\n",
       "      <td>1271</td>\n",
       "      <td>3080</td>\n",
       "      <td>3731</td>\n",
       "      <td>1782</td>\n",
       "      <td>1487</td>\n",
       "      <td>861</td>\n",
       "      <td>574</td>\n",
       "      <td>144</td>\n",
       "      <td>45</td>\n",
       "    </tr>\n",
       "    <tr>\n",
       "      <th>2.0</th>\n",
       "      <td>1064</td>\n",
       "      <td>3279</td>\n",
       "      <td>10935</td>\n",
       "      <td>7491</td>\n",
       "      <td>7400</td>\n",
       "      <td>4252</td>\n",
       "      <td>2910</td>\n",
       "      <td>730</td>\n",
       "      <td>164</td>\n",
       "    </tr>\n",
       "    <tr>\n",
       "      <th>2.5</th>\n",
       "      <td>401</td>\n",
       "      <td>1567</td>\n",
       "      <td>8149</td>\n",
       "      <td>14617</td>\n",
       "      <td>16157</td>\n",
       "      <td>9771</td>\n",
       "      <td>5995</td>\n",
       "      <td>1522</td>\n",
       "      <td>344</td>\n",
       "    </tr>\n",
       "    <tr>\n",
       "      <th>3.0</th>\n",
       "      <td>401</td>\n",
       "      <td>1345</td>\n",
       "      <td>8749</td>\n",
       "      <td>20223</td>\n",
       "      <td>56557</td>\n",
       "      <td>44179</td>\n",
       "      <td>26879</td>\n",
       "      <td>6106</td>\n",
       "      <td>1205</td>\n",
       "    </tr>\n",
       "    <tr>\n",
       "      <th>3.5</th>\n",
       "      <td>114</td>\n",
       "      <td>547</td>\n",
       "      <td>3816</td>\n",
       "      <td>11226</td>\n",
       "      <td>56768</td>\n",
       "      <td>113878</td>\n",
       "      <td>90173</td>\n",
       "      <td>22399</td>\n",
       "      <td>2896</td>\n",
       "    </tr>\n",
       "    <tr>\n",
       "      <th>4.0</th>\n",
       "      <td>135</td>\n",
       "      <td>447</td>\n",
       "      <td>3442</td>\n",
       "      <td>7535</td>\n",
       "      <td>45824</td>\n",
       "      <td>144134</td>\n",
       "      <td>265930</td>\n",
       "      <td>101293</td>\n",
       "      <td>14024</td>\n",
       "    </tr>\n",
       "    <tr>\n",
       "      <th>4.5</th>\n",
       "      <td>21</td>\n",
       "      <td>131</td>\n",
       "      <td>810</td>\n",
       "      <td>1917</td>\n",
       "      <td>11819</td>\n",
       "      <td>41363</td>\n",
       "      <td>138681</td>\n",
       "      <td>106127</td>\n",
       "      <td>23516</td>\n",
       "    </tr>\n",
       "    <tr>\n",
       "      <th>5.0</th>\n",
       "      <td>69</td>\n",
       "      <td>77</td>\n",
       "      <td>444</td>\n",
       "      <td>563</td>\n",
       "      <td>3034</td>\n",
       "      <td>6399</td>\n",
       "      <td>25812</td>\n",
       "      <td>33032</td>\n",
       "      <td>21890</td>\n",
       "    </tr>\n",
       "  </tbody>\n",
       "</table>\n",
       "</div>"
      ],
      "text/plain": [
       "review_aroma     1.0   1.5    2.0    2.5    3.0     3.5     4.0     4.5    5.0\n",
       "review_overall                                                                \n",
       "1.0             3397  2051   2486   1005    982     475     428      97     33\n",
       "1.5             1271  3080   3731   1782   1487     861     574     144     45\n",
       "2.0             1064  3279  10935   7491   7400    4252    2910     730    164\n",
       "2.5              401  1567   8149  14617  16157    9771    5995    1522    344\n",
       "3.0              401  1345   8749  20223  56557   44179   26879    6106   1205\n",
       "3.5              114   547   3816  11226  56768  113878   90173   22399   2896\n",
       "4.0              135   447   3442   7535  45824  144134  265930  101293  14024\n",
       "4.5               21   131    810   1917  11819   41363  138681  106127  23516\n",
       "5.0               69    77    444    563   3034    6399   25812   33032  21890"
      ]
     },
     "execution_count": 110,
     "metadata": {},
     "output_type": "execute_result"
    }
   ],
   "source": [
    "review_overall_vs_aroma_crosstab = pd.crosstab(beer_reviews.review_overall, beer_reviews.review_aroma)\n",
    "review_overall_vs_aroma_crosstab"
   ]
  },
  {
   "cell_type": "code",
   "execution_count": 118,
   "metadata": {},
   "outputs": [
    {
     "data": {
      "image/png": "[encoded data removed]",
      "text/plain": [
       "<matplotlib.figure.Figure at 0x234a5b312e8>"
      ]
     },
     "metadata": {
      "needs_background": "light"
     },
     "output_type": "display_data"
    }
   ],
   "source": [
    "plt.figure(figsize = (10, 8))\n",
    "ax = sns.heatmap(review_overall_vs_aroma_crosstab, annot = True, cmap = \"coolwarm\")\n",
    "ax.invert_yaxis()"
   ]
  },
  {
   "cell_type": "code",
   "execution_count": 119,
   "metadata": {},
   "outputs": [
    {
     "data": {
      "image/png": "[encoded data removed]",
      "text/plain": [
       "<matplotlib.figure.Figure at 0x234bd291828>"
      ]
     },
     "metadata": {
      "needs_background": "light"
     },
     "output_type": "display_data"
    }
   ],
   "source": [
    "review_overall_vs_appearance_crosstab = pd.crosstab(beer_reviews.review_overall, beer_reviews.review_appearance)\n",
    "plt.figure(figsize = (10, 8))\n",
    "ax = sns.heatmap(review_overall_vs_appearance_crosstab, annot = True, cmap = \"coolwarm\")\n",
    "ax.invert_yaxis()"
   ]
  },
  {
   "cell_type": "code",
   "execution_count": 122,
   "metadata": {},
   "outputs": [],
   "source": [
    "wine_reviews = pd.read_csv(\"data/winemag-data_first150k.csv\", index_col = 0)"
   ]
  },
  {
   "cell_type": "code",
   "execution_count": 123,
   "metadata": {},
   "outputs": [
    {
     "data": {
      "text/html": [
       "<div>\n",
       "<style scoped>\n",
       "    .dataframe tbody tr th:only-of-type {\n",
       "        vertical-align: middle;\n",
       "    }\n",
       "\n",
       "    .dataframe tbody tr th {\n",
       "        vertical-align: top;\n",
       "    }\n",
       "\n",
       "    .dataframe thead th {\n",
       "        text-align: right;\n",
       "    }\n",
       "</style>\n",
       "<table border=\"1\" class=\"dataframe\">\n",
       "  <thead>\n",
       "    <tr style=\"text-align: right;\">\n",
       "      <th></th>\n",
       "      <th>country</th>\n",
       "      <th>description</th>\n",
       "      <th>designation</th>\n",
       "      <th>points</th>\n",
       "      <th>price</th>\n",
       "      <th>province</th>\n",
       "      <th>region_1</th>\n",
       "      <th>region_2</th>\n",
       "      <th>variety</th>\n",
       "      <th>winery</th>\n",
       "    </tr>\n",
       "  </thead>\n",
       "  <tbody>\n",
       "    <tr>\n",
       "      <th>0</th>\n",
       "      <td>US</td>\n",
       "      <td>This tremendous 100% varietal wine hails from ...</td>\n",
       "      <td>Martha's Vineyard</td>\n",
       "      <td>96</td>\n",
       "      <td>235.0</td>\n",
       "      <td>California</td>\n",
       "      <td>Napa Valley</td>\n",
       "      <td>Napa</td>\n",
       "      <td>Cabernet Sauvignon</td>\n",
       "      <td>Heitz</td>\n",
       "    </tr>\n",
       "    <tr>\n",
       "      <th>1</th>\n",
       "      <td>Spain</td>\n",
       "      <td>Ripe aromas of fig, blackberry and cassis are ...</td>\n",
       "      <td>Carodorum Selección Especial Reserva</td>\n",
       "      <td>96</td>\n",
       "      <td>110.0</td>\n",
       "      <td>Northern Spain</td>\n",
       "      <td>Toro</td>\n",
       "      <td>NaN</td>\n",
       "      <td>Tinta de Toro</td>\n",
       "      <td>Bodega Carmen Rodríguez</td>\n",
       "    </tr>\n",
       "    <tr>\n",
       "      <th>2</th>\n",
       "      <td>US</td>\n",
       "      <td>Mac Watson honors the memory of a wine once ma...</td>\n",
       "      <td>Special Selected Late Harvest</td>\n",
       "      <td>96</td>\n",
       "      <td>90.0</td>\n",
       "      <td>California</td>\n",
       "      <td>Knights Valley</td>\n",
       "      <td>Sonoma</td>\n",
       "      <td>Sauvignon Blanc</td>\n",
       "      <td>Macauley</td>\n",
       "    </tr>\n",
       "    <tr>\n",
       "      <th>3</th>\n",
       "      <td>US</td>\n",
       "      <td>This spent 20 months in 30% new French oak, an...</td>\n",
       "      <td>Reserve</td>\n",
       "      <td>96</td>\n",
       "      <td>65.0</td>\n",
       "      <td>Oregon</td>\n",
       "      <td>Willamette Valley</td>\n",
       "      <td>Willamette Valley</td>\n",
       "      <td>Pinot Noir</td>\n",
       "      <td>Ponzi</td>\n",
       "    </tr>\n",
       "    <tr>\n",
       "      <th>4</th>\n",
       "      <td>France</td>\n",
       "      <td>This is the top wine from La Bégude, named aft...</td>\n",
       "      <td>La Brûlade</td>\n",
       "      <td>95</td>\n",
       "      <td>66.0</td>\n",
       "      <td>Provence</td>\n",
       "      <td>Bandol</td>\n",
       "      <td>NaN</td>\n",
       "      <td>Provence red blend</td>\n",
       "      <td>Domaine de la Bégude</td>\n",
       "    </tr>\n",
       "  </tbody>\n",
       "</table>\n",
       "</div>"
      ],
      "text/plain": [
       "  country                                        description  \\\n",
       "0      US  This tremendous 100% varietal wine hails from ...   \n",
       "1   Spain  Ripe aromas of fig, blackberry and cassis are ...   \n",
       "2      US  Mac Watson honors the memory of a wine once ma...   \n",
       "3      US  This spent 20 months in 30% new French oak, an...   \n",
       "4  France  This is the top wine from La Bégude, named aft...   \n",
       "\n",
       "                            designation  points  price        province  \\\n",
       "0                     Martha's Vineyard      96  235.0      California   \n",
       "1  Carodorum Selección Especial Reserva      96  110.0  Northern Spain   \n",
       "2         Special Selected Late Harvest      96   90.0      California   \n",
       "3                               Reserve      96   65.0          Oregon   \n",
       "4                            La Brûlade      95   66.0        Provence   \n",
       "\n",
       "            region_1           region_2             variety  \\\n",
       "0        Napa Valley               Napa  Cabernet Sauvignon   \n",
       "1               Toro                NaN       Tinta de Toro   \n",
       "2     Knights Valley             Sonoma     Sauvignon Blanc   \n",
       "3  Willamette Valley  Willamette Valley          Pinot Noir   \n",
       "4             Bandol                NaN  Provence red blend   \n",
       "\n",
       "                    winery  \n",
       "0                    Heitz  \n",
       "1  Bodega Carmen Rodríguez  \n",
       "2                 Macauley  \n",
       "3                    Ponzi  \n",
       "4     Domaine de la Bégude  "
      ]
     },
     "execution_count": 123,
     "metadata": {},
     "output_type": "execute_result"
    }
   ],
   "source": [
    "wine_reviews.head()"
   ]
  },
  {
   "cell_type": "code",
   "execution_count": 125,
   "metadata": {},
   "outputs": [
    {
     "data": {
      "text/plain": [
       "(150930, 10)"
      ]
     },
     "execution_count": 125,
     "metadata": {},
     "output_type": "execute_result"
    }
   ],
   "source": [
    "wine_reviews.shape"
   ]
  },
  {
   "cell_type": "code",
   "execution_count": 124,
   "metadata": {},
   "outputs": [
    {
     "data": {
      "text/plain": [
       "country         object\n",
       "description     object\n",
       "designation     object\n",
       "points           int64\n",
       "price          float64\n",
       "province        object\n",
       "region_1        object\n",
       "region_2        object\n",
       "variety         object\n",
       "winery          object\n",
       "dtype: object"
      ]
     },
     "execution_count": 124,
     "metadata": {},
     "output_type": "execute_result"
    }
   ],
   "source": [
    "wine_reviews.dtypes"
   ]
  },
  {
   "cell_type": "code",
   "execution_count": 129,
   "metadata": {},
   "outputs": [
    {
     "data": {
      "text/plain": [
       "variety\n",
       "Chardonnay                  14482\n",
       "Pinot Noir                  14291\n",
       "Cabernet Sauvignon          12800\n",
       "Red Blend                   10062\n",
       "Bordeaux-style Red Blend     7347\n",
       "Sauvignon Blanc              6320\n",
       "Syrah                        5825\n",
       "Riesling                     5524\n",
       "Merlot                       5070\n",
       "Zinfandel                    3799\n",
       "dtype: int64"
      ]
     },
     "execution_count": 129,
     "metadata": {},
     "output_type": "execute_result"
    }
   ],
   "source": [
    "top_wine_styles = wine_reviews.groupby(\"variety\").size().sort_values(ascending = False).head(10)\n",
    "top_wine_styles"
   ]
  },
  {
   "cell_type": "code",
   "execution_count": 130,
   "metadata": {},
   "outputs": [
    {
     "data": {
      "image/png": "[encoded data removed]",
      "text/plain": [
       "<matplotlib.figure.Figure at 0x234d58266a0>"
      ]
     },
     "metadata": {
      "needs_background": "light"
     },
     "output_type": "display_data"
    }
   ],
   "source": [
    "plt.barh(range(len(top_wine_styles.index)), top_wine_styles)\n",
    "\n",
    "plt.title(\"Top 10 wines\")\n",
    "plt.xlabel(\"Number of reviews\")\n",
    "plt.yticks(range(len(top_wine_styles)), top_wine_styles.index)\n",
    "plt.gca().invert_yaxis()\n",
    "plt.show()"
   ]
  },
  {
   "cell_type": "code",
   "execution_count": 136,
   "metadata": {},
   "outputs": [
    {
     "data": {
      "image/png": "[encoded data removed]",
      "text/plain": [
       "<matplotlib.figure.Figure at 0x234d5ab3780>"
      ]
     },
     "metadata": {
      "needs_background": "light"
     },
     "output_type": "display_data"
    }
   ],
   "source": [
    "plt.hist(wine_reviews.points, bins = 20)\n",
    "plt.show()"
   ]
  },
  {
   "cell_type": "code",
   "execution_count": 137,
   "metadata": {},
   "outputs": [
    {
     "data": {
      "text/plain": [
       "87.8884184721394"
      ]
     },
     "execution_count": 137,
     "metadata": {},
     "output_type": "execute_result"
    }
   ],
   "source": [
    "wine_reviews.points.mean()"
   ]
  },
  {
   "cell_type": "code",
   "execution_count": 138,
   "metadata": {},
   "outputs": [
    {
     "data": {
      "text/plain": [
       "88.0"
      ]
     },
     "execution_count": 138,
     "metadata": {},
     "output_type": "execute_result"
    }
   ],
   "source": [
    "wine_reviews.points.median()"
   ]
  },
  {
   "cell_type": "code",
   "execution_count": 139,
   "metadata": {},
   "outputs": [
    {
     "data": {
      "text/plain": [
       "0    87\n",
       "dtype: int64"
      ]
     },
     "execution_count": 139,
     "metadata": {},
     "output_type": "execute_result"
    }
   ],
   "source": [
    "wine_reviews.points.mode()"
   ]
  },
  {
   "cell_type": "code",
   "execution_count": 140,
   "metadata": {},
   "outputs": [
    {
     "data": {
      "text/plain": [
       "0.14283263376595492"
      ]
     },
     "execution_count": 140,
     "metadata": {},
     "output_type": "execute_result"
    }
   ],
   "source": [
    "wine_reviews.points.skeww()"
   ]
  },
  {
   "cell_type": "code",
   "execution_count": 145,
   "metadata": {},
   "outputs": [
    {
     "data": {
      "text/plain": [
       "<matplotlib.collections.PathCollection at 0x234dda5d9e8>"
      ]
     },
     "execution_count": 145,
     "metadata": {},
     "output_type": "execute_result"
    },
    {
     "data": {
      "image/png": "[encoded data removed]",
      "text/plain": [
       "<matplotlib.figure.Figure at 0x234dcff7e48>"
      ]
     },
     "metadata": {
      "needs_background": "light"
     },
     "output_type": "display_data"
    }
   ],
   "source": [
    "plt.scatter(wine_reviews.points, wine_reviews.price, alpha = 0.2)"
   ]
  },
  {
   "cell_type": "code",
   "execution_count": 143,
   "metadata": {},
   "outputs": [
    {
     "data": {
      "text/html": [
       "<div>\n",
       "<style scoped>\n",
       "    .dataframe tbody tr th:only-of-type {\n",
       "        vertical-align: middle;\n",
       "    }\n",
       "\n",
       "    .dataframe tbody tr th {\n",
       "        vertical-align: top;\n",
       "    }\n",
       "\n",
       "    .dataframe thead th {\n",
       "        text-align: right;\n",
       "    }\n",
       "</style>\n",
       "<table border=\"1\" class=\"dataframe\">\n",
       "  <thead>\n",
       "    <tr style=\"text-align: right;\">\n",
       "      <th></th>\n",
       "      <th>country</th>\n",
       "      <th>description</th>\n",
       "      <th>designation</th>\n",
       "      <th>points</th>\n",
       "      <th>price</th>\n",
       "      <th>province</th>\n",
       "      <th>region_1</th>\n",
       "      <th>region_2</th>\n",
       "      <th>variety</th>\n",
       "      <th>winery</th>\n",
       "    </tr>\n",
       "  </thead>\n",
       "  <tbody>\n",
       "    <tr>\n",
       "      <th>34920</th>\n",
       "      <td>France</td>\n",
       "      <td>A big, powerful wine that sums up the richness...</td>\n",
       "      <td>NaN</td>\n",
       "      <td>99</td>\n",
       "      <td>2300.0</td>\n",
       "      <td>Bordeaux</td>\n",
       "      <td>Pauillac</td>\n",
       "      <td>NaN</td>\n",
       "      <td>Bordeaux-style Red Blend</td>\n",
       "      <td>Château Latour</td>\n",
       "    </tr>\n",
       "  </tbody>\n",
       "</table>\n",
       "</div>"
      ],
      "text/plain": [
       "      country                                        description designation  \\\n",
       "34920  France  A big, powerful wine that sums up the richness...         NaN   \n",
       "\n",
       "       points   price  province  region_1 region_2                   variety  \\\n",
       "34920      99  2300.0  Bordeaux  Pauillac      NaN  Bordeaux-style Red Blend   \n",
       "\n",
       "               winery  \n",
       "34920  Château Latour  "
      ]
     },
     "execution_count": 143,
     "metadata": {},
     "output_type": "execute_result"
    }
   ],
   "source": [
    "wine_reviews[wine_reviews.price == wine_reviews.price.max()]"
   ]
  },
  {
   "cell_type": "code",
   "execution_count": 147,
   "metadata": {},
   "outputs": [],
   "source": [
    "highest_rated_wines = wine_reviews[wine_reviews.points == wine_reviews.points.max()]"
   ]
  },
  {
   "cell_type": "code",
   "execution_count": 148,
   "metadata": {},
   "outputs": [
    {
     "data": {
      "text/plain": [
       "24"
      ]
     },
     "execution_count": 148,
     "metadata": {},
     "output_type": "execute_result"
    }
   ],
   "source": [
    "len(highest_rated_wines)"
   ]
  },
  {
   "cell_type": "code",
   "execution_count": 152,
   "metadata": {},
   "outputs": [
    {
     "data": {
      "image/png": "[encoded data removed]",
      "text/plain": [
       "<matplotlib.figure.Figure at 0x234dd1a42b0>"
      ]
     },
     "metadata": {
      "needs_background": "light"
     },
     "output_type": "display_data"
    }
   ],
   "source": [
    "plt.hist(highest_rated_wines.price)\n",
    "plt.show()"
   ]
  },
  {
   "cell_type": "code",
   "execution_count": 153,
   "metadata": {},
   "outputs": [
    {
     "data": {
      "text/html": [
       "<div>\n",
       "<style scoped>\n",
       "    .dataframe tbody tr th:only-of-type {\n",
       "        vertical-align: middle;\n",
       "    }\n",
       "\n",
       "    .dataframe tbody tr th {\n",
       "        vertical-align: top;\n",
       "    }\n",
       "\n",
       "    .dataframe thead th {\n",
       "        text-align: right;\n",
       "    }\n",
       "</style>\n",
       "<table border=\"1\" class=\"dataframe\">\n",
       "  <thead>\n",
       "    <tr style=\"text-align: right;\">\n",
       "      <th></th>\n",
       "      <th>country</th>\n",
       "      <th>description</th>\n",
       "      <th>designation</th>\n",
       "      <th>points</th>\n",
       "      <th>price</th>\n",
       "      <th>province</th>\n",
       "      <th>region_1</th>\n",
       "      <th>region_2</th>\n",
       "      <th>variety</th>\n",
       "      <th>winery</th>\n",
       "    </tr>\n",
       "  </thead>\n",
       "  <tbody>\n",
       "    <tr>\n",
       "      <th>2145</th>\n",
       "      <td>France</td>\n",
       "      <td>Full of ripe fruit, opulent and concentrated, ...</td>\n",
       "      <td>NaN</td>\n",
       "      <td>100</td>\n",
       "      <td>848.0</td>\n",
       "      <td>Bordeaux</td>\n",
       "      <td>Pessac-Léognan</td>\n",
       "      <td>NaN</td>\n",
       "      <td>Bordeaux-style White Blend</td>\n",
       "      <td>Château Haut-Brion</td>\n",
       "    </tr>\n",
       "    <tr>\n",
       "      <th>26296</th>\n",
       "      <td>France</td>\n",
       "      <td>A wine that has created its own universe. It h...</td>\n",
       "      <td>Clos du Mesnil</td>\n",
       "      <td>100</td>\n",
       "      <td>1400.0</td>\n",
       "      <td>Champagne</td>\n",
       "      <td>Champagne</td>\n",
       "      <td>NaN</td>\n",
       "      <td>Chardonnay</td>\n",
       "      <td>Krug</td>\n",
       "    </tr>\n",
       "    <tr>\n",
       "      <th>51886</th>\n",
       "      <td>France</td>\n",
       "      <td>A wine that has created its own universe. It h...</td>\n",
       "      <td>Clos du Mesnil</td>\n",
       "      <td>100</td>\n",
       "      <td>1400.0</td>\n",
       "      <td>Champagne</td>\n",
       "      <td>Champagne</td>\n",
       "      <td>NaN</td>\n",
       "      <td>Chardonnay</td>\n",
       "      <td>Krug</td>\n",
       "    </tr>\n",
       "    <tr>\n",
       "      <th>83536</th>\n",
       "      <td>France</td>\n",
       "      <td>A wine that has created its own universe. It h...</td>\n",
       "      <td>Clos du Mesnil</td>\n",
       "      <td>100</td>\n",
       "      <td>1400.0</td>\n",
       "      <td>Champagne</td>\n",
       "      <td>Champagne</td>\n",
       "      <td>NaN</td>\n",
       "      <td>Chardonnay</td>\n",
       "      <td>Krug</td>\n",
       "    </tr>\n",
       "  </tbody>\n",
       "</table>\n",
       "</div>"
      ],
      "text/plain": [
       "      country                                        description  \\\n",
       "2145   France  Full of ripe fruit, opulent and concentrated, ...   \n",
       "26296  France  A wine that has created its own universe. It h...   \n",
       "51886  France  A wine that has created its own universe. It h...   \n",
       "83536  France  A wine that has created its own universe. It h...   \n",
       "\n",
       "          designation  points   price   province        region_1 region_2  \\\n",
       "2145              NaN     100   848.0   Bordeaux  Pessac-Léognan      NaN   \n",
       "26296  Clos du Mesnil     100  1400.0  Champagne       Champagne      NaN   \n",
       "51886  Clos du Mesnil     100  1400.0  Champagne       Champagne      NaN   \n",
       "83536  Clos du Mesnil     100  1400.0  Champagne       Champagne      NaN   \n",
       "\n",
       "                          variety              winery  \n",
       "2145   Bordeaux-style White Blend  Château Haut-Brion  \n",
       "26296                  Chardonnay                Krug  \n",
       "51886                  Chardonnay                Krug  \n",
       "83536                  Chardonnay                Krug  "
      ]
     },
     "execution_count": 153,
     "metadata": {},
     "output_type": "execute_result"
    }
   ],
   "source": [
    "highest_rated_wines[highest_rated_wines.price > 600]"
   ]
  },
  {
   "cell_type": "code",
   "execution_count": 160,
   "metadata": {},
   "outputs": [
    {
     "name": "stdout",
     "output_type": "stream",
     "text": [
      "Australia\n",
      "19355     300.0\n",
      "84035     300.0\n",
      "119195    300.0\n",
      "Name: price, dtype: float64\n",
      "France\n",
      "26296    1400.0\n",
      "51886    1400.0\n",
      "83536    1400.0\n",
      "Name: price, dtype: float64\n",
      "France\n",
      "2145    848.0\n",
      "Name: price, dtype: float64\n",
      "Italy\n",
      "24151     460.0\n",
      "41521     460.0\n",
      "119521    460.0\n",
      "Name: price, dtype: float64\n",
      "Italy\n",
      "111087    210.0\n",
      "138867    210.0\n",
      "Name: price, dtype: float64\n",
      "Italy\n",
      "28954    195.0\n",
      "78004    195.0\n",
      "Name: price, dtype: float64\n",
      "US\n",
      "92916    215.0\n",
      "Name: price, dtype: float64\n",
      "US\n",
      "98647     100.0\n",
      "122767    100.0\n",
      "Name: price, dtype: float64\n",
      "US\n",
      "114272    245.0\n",
      "143522    245.0\n",
      "Name: price, dtype: float64\n",
      "US\n",
      "19354     65.0\n",
      "84034     65.0\n",
      "119194    65.0\n",
      "Name: price, dtype: float64\n",
      "US\n",
      "89399     200.0\n",
      "137099    200.0\n",
      "Name: price, dtype: float64\n"
     ]
    }
   ],
   "source": [
    "for (country, description), data in highest_rated_wines.groupby([\"country\", \"description\"]):\n",
    "    print(country)\n",
    "    print(data.price)"
   ]
  },
  {
   "cell_type": "code",
   "execution_count": 161,
   "metadata": {},
   "outputs": [],
   "source": [
    "top_rated_wines = wine_reviews[wine_reviews.points > 95]"
   ]
  },
  {
   "cell_type": "code",
   "execution_count": 162,
   "metadata": {},
   "outputs": [
    {
     "data": {
      "text/plain": [
       "array(['US', 'Spain', 'France', 'Italy', 'Australia', 'Austria',\n",
       "       'Portugal', 'Hungary', 'Germany', 'Argentina'], dtype=object)"
      ]
     },
     "execution_count": 162,
     "metadata": {},
     "output_type": "execute_result"
    }
   ],
   "source": [
    "top_rated_wines.country.unique()"
   ]
  },
  {
   "cell_type": "code",
   "execution_count": null,
   "metadata": {},
   "outputs": [],
   "source": []
  }
 ],
 "metadata": {
  "kernelspec": {
   "display_name": "Python 3",
   "language": "python",
   "name": "python3"
  },
  "language_info": {
   "codemirror_mode": {
    "name": "ipython",
    "version": 3
   },
   "file_extension": ".py",
   "mimetype": "text/x-python",
   "name": "python",
   "nbconvert_exporter": "python",
   "pygments_lexer": "ipython3",
   "version": "3.7.3"
  }
 },
 "nbformat": 4,
 "nbformat_minor": 2
}
